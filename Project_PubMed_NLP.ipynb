{
  "nbformat": 4,
  "nbformat_minor": 0,
  "metadata": {
    "colab": {
      "provenance": []
    },
    "kernelspec": {
      "name": "python3",
      "display_name": "Python 3"
    },
    "language_info": {
      "name": "python"
    },
    "accelerator": "GPU",
    "gpuClass": "standard"
  },
  "cells": [
    {
      "cell_type": "markdown",
      "source": [
        "# Project: PubMed 200k RCT\n",
        "\n",
        "The purpose of the project is to build an NLP model to make reading medical abstracts easier.\n"
      ],
      "metadata": {
        "id": "K4kPN7dzOBEU"
      }
    },
    {
      "cell_type": "markdown",
      "source": [
        "## Confirm access to a gpu"
      ],
      "metadata": {
        "id": "RHAMjv5wbUy2"
      }
    },
    {
      "cell_type": "code",
      "source": [
        "!nvidia-smi"
      ],
      "metadata": {
        "colab": {
          "base_uri": "https://localhost:8080/"
        },
        "id": "l2R3qZAJc9Dq",
        "outputId": "d5a66d95-d86a-4169-9578-00e276bcdba1"
      },
      "execution_count": null,
      "outputs": [
        {
          "output_type": "stream",
          "name": "stdout",
          "text": [
            "Mon Feb 27 01:57:37 2023       \n",
            "+-----------------------------------------------------------------------------+\n",
            "| NVIDIA-SMI 525.85.12    Driver Version: 525.85.12    CUDA Version: 12.0     |\n",
            "|-------------------------------+----------------------+----------------------+\n",
            "| GPU  Name        Persistence-M| Bus-Id        Disp.A | Volatile Uncorr. ECC |\n",
            "| Fan  Temp  Perf  Pwr:Usage/Cap|         Memory-Usage | GPU-Util  Compute M. |\n",
            "|                               |                      |               MIG M. |\n",
            "|===============================+======================+======================|\n",
            "|   0  Tesla T4            Off  | 00000000:00:04.0 Off |                    0 |\n",
            "| N/A   51C    P0    26W /  70W |      0MiB / 15360MiB |      0%      Default |\n",
            "|                               |                      |                  N/A |\n",
            "+-------------------------------+----------------------+----------------------+\n",
            "                                                                               \n",
            "+-----------------------------------------------------------------------------+\n",
            "| Processes:                                                                  |\n",
            "|  GPU   GI   CI        PID   Type   Process name                  GPU Memory |\n",
            "|        ID   ID                                                   Usage      |\n",
            "|=============================================================================|\n",
            "|  No running processes found                                                 |\n",
            "+-----------------------------------------------------------------------------+\n"
          ]
        }
      ]
    },
    {
      "cell_type": "markdown",
      "source": [
        "## Get data\n",
        "\n",
        "Downloading the dataset from official Pubmed 200k RCT github repository."
      ],
      "metadata": {
        "id": "V1rlootudKHz"
      }
    },
    {
      "cell_type": "code",
      "source": [
        "!git clone https://github.com/Franck-Dernoncourt/pubmed-rct\n",
        "!ls pubmed-rct"
      ],
      "metadata": {
        "colab": {
          "base_uri": "https://localhost:8080/"
        },
        "id": "-P6YKk_SeBPc",
        "outputId": "5c27a1c7-2668-4690-ab0c-6f30e2f9ebff"
      },
      "execution_count": null,
      "outputs": [
        {
          "output_type": "stream",
          "name": "stdout",
          "text": [
            "Cloning into 'pubmed-rct'...\n",
            "remote: Enumerating objects: 33, done.\u001b[K\n",
            "remote: Counting objects: 100% (8/8), done.\u001b[K\n",
            "remote: Compressing objects: 100% (3/3), done.\u001b[K\n",
            "remote: Total 33 (delta 5), reused 5 (delta 5), pack-reused 25\u001b[K\n",
            "Unpacking objects: 100% (33/33), 177.08 MiB | 6.82 MiB/s, done.\n",
            "PubMed_200k_RCT\n",
            "PubMed_200k_RCT_numbers_replaced_with_at_sign\n",
            "PubMed_20k_RCT\n",
            "PubMed_20k_RCT_numbers_replaced_with_at_sign\n",
            "README.md\n"
          ]
        }
      ]
    },
    {
      "cell_type": "code",
      "source": [
        "# Check the files in the PubMed_20k dataset\n",
        "!ls pubmed-rct/PubMed_20k_RCT_numbers_replaced_with_at_sign/\n",
        "!ls pubmed-rct/PubMed_20k_RCT/"
      ],
      "metadata": {
        "colab": {
          "base_uri": "https://localhost:8080/"
        },
        "id": "zFKwthUveVwq",
        "outputId": "3af70e6e-301e-434f-9941-bdc5738b7e2b"
      },
      "execution_count": null,
      "outputs": [
        {
          "output_type": "stream",
          "name": "stdout",
          "text": [
            "dev.txt  test.txt  train.txt\n",
            "dev.txt  test.txt  train.txt\n"
          ]
        }
      ]
    },
    {
      "cell_type": "code",
      "source": [
        "# Start the experiments using 20K dataset with numbers replaced by \"@\" symbol\n",
        "data_dir = \"/content/pubmed-rct/PubMed_20k_RCT_numbers_replaced_with_at_sign/\""
      ],
      "metadata": {
        "id": "gI_pem1XflYZ"
      },
      "execution_count": null,
      "outputs": []
    },
    {
      "cell_type": "code",
      "source": [
        "# Check all of the filenames in the target directory\n",
        "import os \n",
        "filenames = [data_dir + filename for filename in os.listdir(data_dir)]\n",
        "filenames"
      ],
      "metadata": {
        "colab": {
          "base_uri": "https://localhost:8080/"
        },
        "id": "nR1JV_iirqiD",
        "outputId": "b2c69f1f-29d8-48af-abbd-3d24f7149c52"
      },
      "execution_count": null,
      "outputs": [
        {
          "output_type": "execute_result",
          "data": {
            "text/plain": [
              "['/content/pubmed-rct/PubMed_20k_RCT_numbers_replaced_with_at_sign/train.txt',\n",
              " '/content/pubmed-rct/PubMed_20k_RCT_numbers_replaced_with_at_sign/test.txt',\n",
              " '/content/pubmed-rct/PubMed_20k_RCT_numbers_replaced_with_at_sign/dev.txt']"
            ]
          },
          "metadata": {},
          "execution_count": 5
        }
      ]
    },
    {
      "cell_type": "markdown",
      "source": [
        "## Preprocess data\n",
        "\n",
        "A function to read all of the lines of a target text file."
      ],
      "metadata": {
        "id": "mDZFhsgpsHtz"
      }
    },
    {
      "cell_type": "code",
      "source": [
        "# Create fn to read the lines of a doc\n",
        "def get_lines(filename):\n",
        "  \"\"\"\n",
        "  Reads filename (a text filename) returns the lines of text as a list.\n",
        "\n",
        "  Args:\n",
        "    filename a string containing the target filepath.\n",
        "\n",
        "    Returns:\n",
        "      A list of strings with one string per line from the target filename.\n",
        "  \"\"\"\n",
        "  with open(filename, \"r\") as f:\n",
        "    return f.readlines()\n"
      ],
      "metadata": {
        "id": "-1oIgI1ns963"
      },
      "execution_count": null,
      "outputs": []
    },
    {
      "cell_type": "code",
      "source": [
        "# Read in the training lines\n",
        "train_lines = get_lines(data_dir + \"train.txt\") # read the lines within the training files\n",
        "train_lines[:27]"
      ],
      "metadata": {
        "colab": {
          "base_uri": "https://localhost:8080/"
        },
        "id": "hUxR8iUGuBh5",
        "outputId": "2944a6de-72ff-485e-8027-e5037aa2378f"
      },
      "execution_count": null,
      "outputs": [
        {
          "output_type": "execute_result",
          "data": {
            "text/plain": [
              "['###24293578\\n',\n",
              " 'OBJECTIVE\\tTo investigate the efficacy of @ weeks of daily low-dose oral prednisolone in improving pain , mobility , and systemic low-grade inflammation in the short term and whether the effect would be sustained at @ weeks in older adults with moderate to severe knee osteoarthritis ( OA ) .\\n',\n",
              " 'METHODS\\tA total of @ patients with primary knee OA were randomized @:@ ; @ received @ mg/day of prednisolone and @ received placebo for @ weeks .\\n',\n",
              " 'METHODS\\tOutcome measures included pain reduction and improvement in function scores and systemic inflammation markers .\\n',\n",
              " 'METHODS\\tPain was assessed using the visual analog pain scale ( @-@ mm ) .\\n',\n",
              " 'METHODS\\tSecondary outcome measures included the Western Ontario and McMaster Universities Osteoarthritis Index scores , patient global assessment ( PGA ) of the severity of knee OA , and @-min walk distance ( @MWD ) .\\n',\n",
              " 'METHODS\\tSerum levels of interleukin @ ( IL-@ ) , IL-@ , tumor necrosis factor ( TNF ) - , and high-sensitivity C-reactive protein ( hsCRP ) were measured .\\n',\n",
              " 'RESULTS\\tThere was a clinically relevant reduction in the intervention group compared to the placebo group for knee pain , physical function , PGA , and @MWD at @ weeks .\\n',\n",
              " 'RESULTS\\tThe mean difference between treatment arms ( @ % CI ) was @ ( @-@ @ ) , p < @ ; @ ( @-@ @ ) , p < @ ; @ ( @-@ @ ) , p < @ ; and @ ( @-@ @ ) , p < @ , respectively .\\n',\n",
              " 'RESULTS\\tFurther , there was a clinically relevant reduction in the serum levels of IL-@ , IL-@ , TNF - , and hsCRP at @ weeks in the intervention group when compared to the placebo group .\\n',\n",
              " 'RESULTS\\tThese differences remained significant at @ weeks .\\n',\n",
              " 'RESULTS\\tThe Outcome Measures in Rheumatology Clinical Trials-Osteoarthritis Research Society International responder rate was @ % in the intervention group and @ % in the placebo group ( p < @ ) .\\n',\n",
              " 'CONCLUSIONS\\tLow-dose oral prednisolone had both a short-term and a longer sustained effect resulting in less knee pain , better physical function , and attenuation of systemic inflammation in older patients with knee OA ( ClinicalTrials.gov identifier NCT@ ) .\\n',\n",
              " '\\n',\n",
              " '###24854809\\n',\n",
              " 'BACKGROUND\\tEmotional eating is associated with overeating and the development of obesity .\\n',\n",
              " 'BACKGROUND\\tYet , empirical evidence for individual ( trait ) differences in emotional eating and cognitive mechanisms that contribute to eating during sad mood remain equivocal .\\n',\n",
              " 'OBJECTIVE\\tThe aim of this study was to test if attention bias for food moderates the effect of self-reported emotional eating during sad mood ( vs neutral mood ) on actual food intake .\\n',\n",
              " 'OBJECTIVE\\tIt was expected that emotional eating is predictive of elevated attention for food and higher food intake after an experimentally induced sad mood and that attentional maintenance on food predicts food intake during a sad versus a neutral mood .\\n',\n",
              " 'METHODS\\tParticipants ( N = @ ) were randomly assigned to one of the two experimental mood induction conditions ( sad/neutral ) .\\n',\n",
              " 'METHODS\\tAttentional biases for high caloric foods were measured by eye tracking during a visual probe task with pictorial food and neutral stimuli .\\n',\n",
              " 'METHODS\\tSelf-reported emotional eating was assessed with the Dutch Eating Behavior Questionnaire ( DEBQ ) and ad libitum food intake was tested by a disguised food offer .\\n',\n",
              " 'RESULTS\\tHierarchical multivariate regression modeling showed that self-reported emotional eating did not account for changes in attention allocation for food or food intake in either condition .\\n',\n",
              " 'RESULTS\\tYet , attention maintenance on food cues was significantly related to increased intake specifically in the neutral condition , but not in the sad mood condition .\\n',\n",
              " 'CONCLUSIONS\\tThe current findings show that self-reported emotional eating ( based on the DEBQ ) might not validly predict who overeats when sad , at least not in a laboratory setting with healthy women .\\n',\n",
              " 'CONCLUSIONS\\tResults further suggest that attention maintenance on food relates to eating motivation when in a neutral affective state , and might therefore be a cognitive mechanism contributing to increased food intake in general , but maybe not during sad mood .\\n',\n",
              " '\\n']"
            ]
          },
          "metadata": {},
          "execution_count": 7
        }
      ]
    },
    {
      "cell_type": "markdown",
      "source": [
        "How to represent the data:\n",
        "* List of dictionaries:\n",
        "```\n",
        "[{'line_number': 0,\n",
        "  'target': 'BACKGROUND',\n",
        "  'text': 'Emotional eating is associated with overeating and the development of obesity .\\n'\n",
        "  'total_lines': 11},\n",
        "     ...]\n",
        "```"
      ],
      "metadata": {
        "id": "GdAX6Ez1xfvi"
      }
    },
    {
      "cell_type": "code",
      "source": [
        "def preprocess_text_with_line_numbers(filename):\n",
        "  \"\"\"\n",
        "  Returns a dictionary of abstract line data.\n",
        "\n",
        "  Takes in filename reads its content and sorts through each line,\n",
        "  extracting things like target label, the text of the sentence,\n",
        "  how many sentences are in the current abstract and what sentence\n",
        "  number the target line is.\n",
        "  \"\"\"\n",
        "  input_lines = get_lines(filename) # get all lines from filename\n",
        "  abstract_lines = \"\" # create an empty abstract\n",
        "  abstract_samples = [] # create an empty list of abstracts\n",
        "\n",
        "  # loop through each line in target file\n",
        "  for line in input_lines:\n",
        "    if line.startswith(\"###\"): # check to see if the line is an ID line\n",
        "      abstract_id = line\n",
        "      abstract_lines = \"\" # reset abstract string if the line is an ID line\n",
        "    \n",
        "    elif line.isspace(): # check to see if line is a new line\n",
        "      abstract_line_split = abstract_lines.splitlines()  # split abstract into seperate lines\n",
        "     \n",
        "      # Iterate through each line in a single abstract and count them at the same time\n",
        "      for abstract_line_number, abstract_line in enumerate(abstract_line_split):\n",
        "        line_data = {} # create an empty dictionary for each line\n",
        "        target_text_split = abstract_line.split(\"\\t\") # split target label from text\n",
        "        line_data[\"target\"] = target_text_split[0] # get target label\n",
        "        line_data[\"text\"] = target_text_split[1].lower() # get text and lower it\n",
        "        line_data[\"line_number\"] = abstract_line_number # what number line does the line apeear in the abstract\n",
        "        line_data[\"total_lines\"] = len(abstract_line_split) - 1 # how many total lines are there in the abstract? (start from zero)    \n",
        "        abstract_samples.append(line_data) # add line data to abstract samples list\n",
        "\n",
        "    else: # if the above conditions are'nt fulfilled a line contains a labelled sentence\n",
        "      abstract_lines += line\n",
        "\n",
        "  return abstract_samples"
      ],
      "metadata": {
        "id": "ystjE7q_vtS7"
      },
      "execution_count": null,
      "outputs": []
    },
    {
      "cell_type": "code",
      "source": [
        "# Get data from file and prerpocess it\n",
        "%%time\n",
        "train_samples = preprocess_text_with_line_numbers(data_dir + \"train.txt\")\n",
        "val_samples = preprocess_text_with_line_numbers(data_dir + \"dev.txt\")\n",
        "test_samples = preprocess_text_with_line_numbers(data_dir + \"test.txt\")\n",
        "\n",
        "print(len(train_samples), len(val_samples), len(test_samples))"
      ],
      "metadata": {
        "colab": {
          "base_uri": "https://localhost:8080/"
        },
        "id": "tWlIecu9n4lo",
        "outputId": "db0cbfce-7658-4431-d04f-40414dcf2825"
      },
      "execution_count": null,
      "outputs": [
        {
          "output_type": "stream",
          "name": "stdout",
          "text": [
            "180040 30212 30135\n",
            "CPU times: user 410 ms, sys: 83.9 ms, total: 494 ms\n",
            "Wall time: 495 ms\n"
          ]
        }
      ]
    },
    {
      "cell_type": "code",
      "source": [
        "# Check the fisrt abstract of our traing data\n",
        "train_samples[:14]"
      ],
      "metadata": {
        "colab": {
          "base_uri": "https://localhost:8080/"
        },
        "id": "CVM6BU8mwSbS",
        "outputId": "dcbdd9f2-0fbe-4bc3-a5e8-3ecd49bd90ed"
      },
      "execution_count": null,
      "outputs": [
        {
          "output_type": "execute_result",
          "data": {
            "text/plain": [
              "[{'target': 'OBJECTIVE',\n",
              "  'text': 'to investigate the efficacy of @ weeks of daily low-dose oral prednisolone in improving pain , mobility , and systemic low-grade inflammation in the short term and whether the effect would be sustained at @ weeks in older adults with moderate to severe knee osteoarthritis ( oa ) .',\n",
              "  'line_number': 0,\n",
              "  'total_lines': 11},\n",
              " {'target': 'METHODS',\n",
              "  'text': 'a total of @ patients with primary knee oa were randomized @:@ ; @ received @ mg/day of prednisolone and @ received placebo for @ weeks .',\n",
              "  'line_number': 1,\n",
              "  'total_lines': 11},\n",
              " {'target': 'METHODS',\n",
              "  'text': 'outcome measures included pain reduction and improvement in function scores and systemic inflammation markers .',\n",
              "  'line_number': 2,\n",
              "  'total_lines': 11},\n",
              " {'target': 'METHODS',\n",
              "  'text': 'pain was assessed using the visual analog pain scale ( @-@ mm ) .',\n",
              "  'line_number': 3,\n",
              "  'total_lines': 11},\n",
              " {'target': 'METHODS',\n",
              "  'text': 'secondary outcome measures included the western ontario and mcmaster universities osteoarthritis index scores , patient global assessment ( pga ) of the severity of knee oa , and @-min walk distance ( @mwd ) .',\n",
              "  'line_number': 4,\n",
              "  'total_lines': 11},\n",
              " {'target': 'METHODS',\n",
              "  'text': 'serum levels of interleukin @ ( il-@ ) , il-@ , tumor necrosis factor ( tnf ) - , and high-sensitivity c-reactive protein ( hscrp ) were measured .',\n",
              "  'line_number': 5,\n",
              "  'total_lines': 11},\n",
              " {'target': 'RESULTS',\n",
              "  'text': 'there was a clinically relevant reduction in the intervention group compared to the placebo group for knee pain , physical function , pga , and @mwd at @ weeks .',\n",
              "  'line_number': 6,\n",
              "  'total_lines': 11},\n",
              " {'target': 'RESULTS',\n",
              "  'text': 'the mean difference between treatment arms ( @ % ci ) was @ ( @-@ @ ) , p < @ ; @ ( @-@ @ ) , p < @ ; @ ( @-@ @ ) , p < @ ; and @ ( @-@ @ ) , p < @ , respectively .',\n",
              "  'line_number': 7,\n",
              "  'total_lines': 11},\n",
              " {'target': 'RESULTS',\n",
              "  'text': 'further , there was a clinically relevant reduction in the serum levels of il-@ , il-@ , tnf - , and hscrp at @ weeks in the intervention group when compared to the placebo group .',\n",
              "  'line_number': 8,\n",
              "  'total_lines': 11},\n",
              " {'target': 'RESULTS',\n",
              "  'text': 'these differences remained significant at @ weeks .',\n",
              "  'line_number': 9,\n",
              "  'total_lines': 11},\n",
              " {'target': 'RESULTS',\n",
              "  'text': 'the outcome measures in rheumatology clinical trials-osteoarthritis research society international responder rate was @ % in the intervention group and @ % in the placebo group ( p < @ ) .',\n",
              "  'line_number': 10,\n",
              "  'total_lines': 11},\n",
              " {'target': 'CONCLUSIONS',\n",
              "  'text': 'low-dose oral prednisolone had both a short-term and a longer sustained effect resulting in less knee pain , better physical function , and attenuation of systemic inflammation in older patients with knee oa ( clinicaltrials.gov identifier nct@ ) .',\n",
              "  'line_number': 11,\n",
              "  'total_lines': 11},\n",
              " {'target': 'BACKGROUND',\n",
              "  'text': 'emotional eating is associated with overeating and the development of obesity .',\n",
              "  'line_number': 0,\n",
              "  'total_lines': 10},\n",
              " {'target': 'BACKGROUND',\n",
              "  'text': 'yet , empirical evidence for individual ( trait ) differences in emotional eating and cognitive mechanisms that contribute to eating during sad mood remain equivocal .',\n",
              "  'line_number': 1,\n",
              "  'total_lines': 10}]"
            ]
          },
          "metadata": {},
          "execution_count": 10
        }
      ]
    },
    {
      "cell_type": "code",
      "source": [
        "import pandas as pd\n",
        "train_df = pd.DataFrame(train_samples)\n",
        "val_df = pd.DataFrame(val_samples)\n",
        "test_df = pd.DataFrame(test_samples)\n",
        "train_df.head(14)"
      ],
      "metadata": {
        "id": "qHQM6gF55Ssi",
        "colab": {
          "base_uri": "https://localhost:8080/",
          "height": 488
        },
        "outputId": "1a66ac92-fd40-4ebc-996e-a29742be9ab2"
      },
      "execution_count": null,
      "outputs": [
        {
          "output_type": "execute_result",
          "data": {
            "text/plain": [
              "         target                                               text  \\\n",
              "0     OBJECTIVE  to investigate the efficacy of @ weeks of dail...   \n",
              "1       METHODS  a total of @ patients with primary knee oa wer...   \n",
              "2       METHODS  outcome measures included pain reduction and i...   \n",
              "3       METHODS  pain was assessed using the visual analog pain...   \n",
              "4       METHODS  secondary outcome measures included the wester...   \n",
              "5       METHODS  serum levels of interleukin @ ( il-@ ) , il-@ ...   \n",
              "6       RESULTS  there was a clinically relevant reduction in t...   \n",
              "7       RESULTS  the mean difference between treatment arms ( @...   \n",
              "8       RESULTS  further , there was a clinically relevant redu...   \n",
              "9       RESULTS  these differences remained significant at @ we...   \n",
              "10      RESULTS  the outcome measures in rheumatology clinical ...   \n",
              "11  CONCLUSIONS  low-dose oral prednisolone had both a short-te...   \n",
              "12   BACKGROUND  emotional eating is associated with overeating...   \n",
              "13   BACKGROUND  yet , empirical evidence for individual ( trai...   \n",
              "\n",
              "    line_number  total_lines  \n",
              "0             0           11  \n",
              "1             1           11  \n",
              "2             2           11  \n",
              "3             3           11  \n",
              "4             4           11  \n",
              "5             5           11  \n",
              "6             6           11  \n",
              "7             7           11  \n",
              "8             8           11  \n",
              "9             9           11  \n",
              "10           10           11  \n",
              "11           11           11  \n",
              "12            0           10  \n",
              "13            1           10  "
            ],
            "text/html": [
              "\n",
              "  <div id=\"df-72ddeacc-9b12-4fb1-8ff7-90aadaaa0928\">\n",
              "    <div class=\"colab-df-container\">\n",
              "      <div>\n",
              "<style scoped>\n",
              "    .dataframe tbody tr th:only-of-type {\n",
              "        vertical-align: middle;\n",
              "    }\n",
              "\n",
              "    .dataframe tbody tr th {\n",
              "        vertical-align: top;\n",
              "    }\n",
              "\n",
              "    .dataframe thead th {\n",
              "        text-align: right;\n",
              "    }\n",
              "</style>\n",
              "<table border=\"1\" class=\"dataframe\">\n",
              "  <thead>\n",
              "    <tr style=\"text-align: right;\">\n",
              "      <th></th>\n",
              "      <th>target</th>\n",
              "      <th>text</th>\n",
              "      <th>line_number</th>\n",
              "      <th>total_lines</th>\n",
              "    </tr>\n",
              "  </thead>\n",
              "  <tbody>\n",
              "    <tr>\n",
              "      <th>0</th>\n",
              "      <td>OBJECTIVE</td>\n",
              "      <td>to investigate the efficacy of @ weeks of dail...</td>\n",
              "      <td>0</td>\n",
              "      <td>11</td>\n",
              "    </tr>\n",
              "    <tr>\n",
              "      <th>1</th>\n",
              "      <td>METHODS</td>\n",
              "      <td>a total of @ patients with primary knee oa wer...</td>\n",
              "      <td>1</td>\n",
              "      <td>11</td>\n",
              "    </tr>\n",
              "    <tr>\n",
              "      <th>2</th>\n",
              "      <td>METHODS</td>\n",
              "      <td>outcome measures included pain reduction and i...</td>\n",
              "      <td>2</td>\n",
              "      <td>11</td>\n",
              "    </tr>\n",
              "    <tr>\n",
              "      <th>3</th>\n",
              "      <td>METHODS</td>\n",
              "      <td>pain was assessed using the visual analog pain...</td>\n",
              "      <td>3</td>\n",
              "      <td>11</td>\n",
              "    </tr>\n",
              "    <tr>\n",
              "      <th>4</th>\n",
              "      <td>METHODS</td>\n",
              "      <td>secondary outcome measures included the wester...</td>\n",
              "      <td>4</td>\n",
              "      <td>11</td>\n",
              "    </tr>\n",
              "    <tr>\n",
              "      <th>5</th>\n",
              "      <td>METHODS</td>\n",
              "      <td>serum levels of interleukin @ ( il-@ ) , il-@ ...</td>\n",
              "      <td>5</td>\n",
              "      <td>11</td>\n",
              "    </tr>\n",
              "    <tr>\n",
              "      <th>6</th>\n",
              "      <td>RESULTS</td>\n",
              "      <td>there was a clinically relevant reduction in t...</td>\n",
              "      <td>6</td>\n",
              "      <td>11</td>\n",
              "    </tr>\n",
              "    <tr>\n",
              "      <th>7</th>\n",
              "      <td>RESULTS</td>\n",
              "      <td>the mean difference between treatment arms ( @...</td>\n",
              "      <td>7</td>\n",
              "      <td>11</td>\n",
              "    </tr>\n",
              "    <tr>\n",
              "      <th>8</th>\n",
              "      <td>RESULTS</td>\n",
              "      <td>further , there was a clinically relevant redu...</td>\n",
              "      <td>8</td>\n",
              "      <td>11</td>\n",
              "    </tr>\n",
              "    <tr>\n",
              "      <th>9</th>\n",
              "      <td>RESULTS</td>\n",
              "      <td>these differences remained significant at @ we...</td>\n",
              "      <td>9</td>\n",
              "      <td>11</td>\n",
              "    </tr>\n",
              "    <tr>\n",
              "      <th>10</th>\n",
              "      <td>RESULTS</td>\n",
              "      <td>the outcome measures in rheumatology clinical ...</td>\n",
              "      <td>10</td>\n",
              "      <td>11</td>\n",
              "    </tr>\n",
              "    <tr>\n",
              "      <th>11</th>\n",
              "      <td>CONCLUSIONS</td>\n",
              "      <td>low-dose oral prednisolone had both a short-te...</td>\n",
              "      <td>11</td>\n",
              "      <td>11</td>\n",
              "    </tr>\n",
              "    <tr>\n",
              "      <th>12</th>\n",
              "      <td>BACKGROUND</td>\n",
              "      <td>emotional eating is associated with overeating...</td>\n",
              "      <td>0</td>\n",
              "      <td>10</td>\n",
              "    </tr>\n",
              "    <tr>\n",
              "      <th>13</th>\n",
              "      <td>BACKGROUND</td>\n",
              "      <td>yet , empirical evidence for individual ( trai...</td>\n",
              "      <td>1</td>\n",
              "      <td>10</td>\n",
              "    </tr>\n",
              "  </tbody>\n",
              "</table>\n",
              "</div>\n",
              "      <button class=\"colab-df-convert\" onclick=\"convertToInteractive('df-72ddeacc-9b12-4fb1-8ff7-90aadaaa0928')\"\n",
              "              title=\"Convert this dataframe to an interactive table.\"\n",
              "              style=\"display:none;\">\n",
              "        \n",
              "  <svg xmlns=\"http://www.w3.org/2000/svg\" height=\"24px\"viewBox=\"0 0 24 24\"\n",
              "       width=\"24px\">\n",
              "    <path d=\"M0 0h24v24H0V0z\" fill=\"none\"/>\n",
              "    <path d=\"M18.56 5.44l.94 2.06.94-2.06 2.06-.94-2.06-.94-.94-2.06-.94 2.06-2.06.94zm-11 1L8.5 8.5l.94-2.06 2.06-.94-2.06-.94L8.5 2.5l-.94 2.06-2.06.94zm10 10l.94 2.06.94-2.06 2.06-.94-2.06-.94-.94-2.06-.94 2.06-2.06.94z\"/><path d=\"M17.41 7.96l-1.37-1.37c-.4-.4-.92-.59-1.43-.59-.52 0-1.04.2-1.43.59L10.3 9.45l-7.72 7.72c-.78.78-.78 2.05 0 2.83L4 21.41c.39.39.9.59 1.41.59.51 0 1.02-.2 1.41-.59l7.78-7.78 2.81-2.81c.8-.78.8-2.07 0-2.86zM5.41 20L4 18.59l7.72-7.72 1.47 1.35L5.41 20z\"/>\n",
              "  </svg>\n",
              "      </button>\n",
              "      \n",
              "  <style>\n",
              "    .colab-df-container {\n",
              "      display:flex;\n",
              "      flex-wrap:wrap;\n",
              "      gap: 12px;\n",
              "    }\n",
              "\n",
              "    .colab-df-convert {\n",
              "      background-color: #E8F0FE;\n",
              "      border: none;\n",
              "      border-radius: 50%;\n",
              "      cursor: pointer;\n",
              "      display: none;\n",
              "      fill: #1967D2;\n",
              "      height: 32px;\n",
              "      padding: 0 0 0 0;\n",
              "      width: 32px;\n",
              "    }\n",
              "\n",
              "    .colab-df-convert:hover {\n",
              "      background-color: #E2EBFA;\n",
              "      box-shadow: 0px 1px 2px rgba(60, 64, 67, 0.3), 0px 1px 3px 1px rgba(60, 64, 67, 0.15);\n",
              "      fill: #174EA6;\n",
              "    }\n",
              "\n",
              "    [theme=dark] .colab-df-convert {\n",
              "      background-color: #3B4455;\n",
              "      fill: #D2E3FC;\n",
              "    }\n",
              "\n",
              "    [theme=dark] .colab-df-convert:hover {\n",
              "      background-color: #434B5C;\n",
              "      box-shadow: 0px 1px 3px 1px rgba(0, 0, 0, 0.15);\n",
              "      filter: drop-shadow(0px 1px 2px rgba(0, 0, 0, 0.3));\n",
              "      fill: #FFFFFF;\n",
              "    }\n",
              "  </style>\n",
              "\n",
              "      <script>\n",
              "        const buttonEl =\n",
              "          document.querySelector('#df-72ddeacc-9b12-4fb1-8ff7-90aadaaa0928 button.colab-df-convert');\n",
              "        buttonEl.style.display =\n",
              "          google.colab.kernel.accessAllowed ? 'block' : 'none';\n",
              "\n",
              "        async function convertToInteractive(key) {\n",
              "          const element = document.querySelector('#df-72ddeacc-9b12-4fb1-8ff7-90aadaaa0928');\n",
              "          const dataTable =\n",
              "            await google.colab.kernel.invokeFunction('convertToInteractive',\n",
              "                                                     [key], {});\n",
              "          if (!dataTable) return;\n",
              "\n",
              "          const docLinkHtml = 'Like what you see? Visit the ' +\n",
              "            '<a target=\"_blank\" href=https://colab.research.google.com/notebooks/data_table.ipynb>data table notebook</a>'\n",
              "            + ' to learn more about interactive tables.';\n",
              "          element.innerHTML = '';\n",
              "          dataTable['output_type'] = 'display_data';\n",
              "          await google.colab.output.renderOutput(dataTable, element);\n",
              "          const docLink = document.createElement('div');\n",
              "          docLink.innerHTML = docLinkHtml;\n",
              "          element.appendChild(docLink);\n",
              "        }\n",
              "      </script>\n",
              "    </div>\n",
              "  </div>\n",
              "  "
            ]
          },
          "metadata": {},
          "execution_count": 11
        }
      ]
    },
    {
      "cell_type": "code",
      "source": [
        "test_df.head(15)"
      ],
      "metadata": {
        "colab": {
          "base_uri": "https://localhost:8080/",
          "height": 520
        },
        "id": "98d60SSf99NU",
        "outputId": "0a01ad5c-5445-4cae-8382-7f3de8e51997"
      },
      "execution_count": null,
      "outputs": [
        {
          "output_type": "execute_result",
          "data": {
            "text/plain": [
              "         target                                               text  \\\n",
              "0    BACKGROUND  this study analyzed liver function abnormaliti...   \n",
              "1       RESULTS  a post hoc analysis was conducted with the use...   \n",
              "2       RESULTS  liver function tests ( lfts ) were measured at...   \n",
              "3       RESULTS  survival analyses were used to assess the asso...   \n",
              "4       RESULTS  the percentage of patients with abnormal lfts ...   \n",
              "5       RESULTS  when mean hemodynamic profiles were compared i...   \n",
              "6       RESULTS  multivariable analyses revealed that patients ...   \n",
              "7   CONCLUSIONS  abnormal lfts are common in the adhf populatio...   \n",
              "8   CONCLUSIONS  elevated meld-xi scores are associated with po...   \n",
              "9    BACKGROUND  minimally invasive endovascular aneurysm repai...   \n",
              "10   BACKGROUND  the aim of this study was to analyse the cost-...   \n",
              "11      METHODS  resource use was determined from the amsterdam...   \n",
              "12      METHODS  the analysis was performed from a provider per...   \n",
              "13      METHODS  all costs were calculated as if all patients h...   \n",
              "14      RESULTS            a total of @ patients were randomized .   \n",
              "\n",
              "    line_number  total_lines  \n",
              "0             0            8  \n",
              "1             1            8  \n",
              "2             2            8  \n",
              "3             3            8  \n",
              "4             4            8  \n",
              "5             5            8  \n",
              "6             6            8  \n",
              "7             7            8  \n",
              "8             8            8  \n",
              "9             0           12  \n",
              "10            1           12  \n",
              "11            2           12  \n",
              "12            3           12  \n",
              "13            4           12  \n",
              "14            5           12  "
            ],
            "text/html": [
              "\n",
              "  <div id=\"df-d053b981-3933-46e2-866c-9da57f3f06eb\">\n",
              "    <div class=\"colab-df-container\">\n",
              "      <div>\n",
              "<style scoped>\n",
              "    .dataframe tbody tr th:only-of-type {\n",
              "        vertical-align: middle;\n",
              "    }\n",
              "\n",
              "    .dataframe tbody tr th {\n",
              "        vertical-align: top;\n",
              "    }\n",
              "\n",
              "    .dataframe thead th {\n",
              "        text-align: right;\n",
              "    }\n",
              "</style>\n",
              "<table border=\"1\" class=\"dataframe\">\n",
              "  <thead>\n",
              "    <tr style=\"text-align: right;\">\n",
              "      <th></th>\n",
              "      <th>target</th>\n",
              "      <th>text</th>\n",
              "      <th>line_number</th>\n",
              "      <th>total_lines</th>\n",
              "    </tr>\n",
              "  </thead>\n",
              "  <tbody>\n",
              "    <tr>\n",
              "      <th>0</th>\n",
              "      <td>BACKGROUND</td>\n",
              "      <td>this study analyzed liver function abnormaliti...</td>\n",
              "      <td>0</td>\n",
              "      <td>8</td>\n",
              "    </tr>\n",
              "    <tr>\n",
              "      <th>1</th>\n",
              "      <td>RESULTS</td>\n",
              "      <td>a post hoc analysis was conducted with the use...</td>\n",
              "      <td>1</td>\n",
              "      <td>8</td>\n",
              "    </tr>\n",
              "    <tr>\n",
              "      <th>2</th>\n",
              "      <td>RESULTS</td>\n",
              "      <td>liver function tests ( lfts ) were measured at...</td>\n",
              "      <td>2</td>\n",
              "      <td>8</td>\n",
              "    </tr>\n",
              "    <tr>\n",
              "      <th>3</th>\n",
              "      <td>RESULTS</td>\n",
              "      <td>survival analyses were used to assess the asso...</td>\n",
              "      <td>3</td>\n",
              "      <td>8</td>\n",
              "    </tr>\n",
              "    <tr>\n",
              "      <th>4</th>\n",
              "      <td>RESULTS</td>\n",
              "      <td>the percentage of patients with abnormal lfts ...</td>\n",
              "      <td>4</td>\n",
              "      <td>8</td>\n",
              "    </tr>\n",
              "    <tr>\n",
              "      <th>5</th>\n",
              "      <td>RESULTS</td>\n",
              "      <td>when mean hemodynamic profiles were compared i...</td>\n",
              "      <td>5</td>\n",
              "      <td>8</td>\n",
              "    </tr>\n",
              "    <tr>\n",
              "      <th>6</th>\n",
              "      <td>RESULTS</td>\n",
              "      <td>multivariable analyses revealed that patients ...</td>\n",
              "      <td>6</td>\n",
              "      <td>8</td>\n",
              "    </tr>\n",
              "    <tr>\n",
              "      <th>7</th>\n",
              "      <td>CONCLUSIONS</td>\n",
              "      <td>abnormal lfts are common in the adhf populatio...</td>\n",
              "      <td>7</td>\n",
              "      <td>8</td>\n",
              "    </tr>\n",
              "    <tr>\n",
              "      <th>8</th>\n",
              "      <td>CONCLUSIONS</td>\n",
              "      <td>elevated meld-xi scores are associated with po...</td>\n",
              "      <td>8</td>\n",
              "      <td>8</td>\n",
              "    </tr>\n",
              "    <tr>\n",
              "      <th>9</th>\n",
              "      <td>BACKGROUND</td>\n",
              "      <td>minimally invasive endovascular aneurysm repai...</td>\n",
              "      <td>0</td>\n",
              "      <td>12</td>\n",
              "    </tr>\n",
              "    <tr>\n",
              "      <th>10</th>\n",
              "      <td>BACKGROUND</td>\n",
              "      <td>the aim of this study was to analyse the cost-...</td>\n",
              "      <td>1</td>\n",
              "      <td>12</td>\n",
              "    </tr>\n",
              "    <tr>\n",
              "      <th>11</th>\n",
              "      <td>METHODS</td>\n",
              "      <td>resource use was determined from the amsterdam...</td>\n",
              "      <td>2</td>\n",
              "      <td>12</td>\n",
              "    </tr>\n",
              "    <tr>\n",
              "      <th>12</th>\n",
              "      <td>METHODS</td>\n",
              "      <td>the analysis was performed from a provider per...</td>\n",
              "      <td>3</td>\n",
              "      <td>12</td>\n",
              "    </tr>\n",
              "    <tr>\n",
              "      <th>13</th>\n",
              "      <td>METHODS</td>\n",
              "      <td>all costs were calculated as if all patients h...</td>\n",
              "      <td>4</td>\n",
              "      <td>12</td>\n",
              "    </tr>\n",
              "    <tr>\n",
              "      <th>14</th>\n",
              "      <td>RESULTS</td>\n",
              "      <td>a total of @ patients were randomized .</td>\n",
              "      <td>5</td>\n",
              "      <td>12</td>\n",
              "    </tr>\n",
              "  </tbody>\n",
              "</table>\n",
              "</div>\n",
              "      <button class=\"colab-df-convert\" onclick=\"convertToInteractive('df-d053b981-3933-46e2-866c-9da57f3f06eb')\"\n",
              "              title=\"Convert this dataframe to an interactive table.\"\n",
              "              style=\"display:none;\">\n",
              "        \n",
              "  <svg xmlns=\"http://www.w3.org/2000/svg\" height=\"24px\"viewBox=\"0 0 24 24\"\n",
              "       width=\"24px\">\n",
              "    <path d=\"M0 0h24v24H0V0z\" fill=\"none\"/>\n",
              "    <path d=\"M18.56 5.44l.94 2.06.94-2.06 2.06-.94-2.06-.94-.94-2.06-.94 2.06-2.06.94zm-11 1L8.5 8.5l.94-2.06 2.06-.94-2.06-.94L8.5 2.5l-.94 2.06-2.06.94zm10 10l.94 2.06.94-2.06 2.06-.94-2.06-.94-.94-2.06-.94 2.06-2.06.94z\"/><path d=\"M17.41 7.96l-1.37-1.37c-.4-.4-.92-.59-1.43-.59-.52 0-1.04.2-1.43.59L10.3 9.45l-7.72 7.72c-.78.78-.78 2.05 0 2.83L4 21.41c.39.39.9.59 1.41.59.51 0 1.02-.2 1.41-.59l7.78-7.78 2.81-2.81c.8-.78.8-2.07 0-2.86zM5.41 20L4 18.59l7.72-7.72 1.47 1.35L5.41 20z\"/>\n",
              "  </svg>\n",
              "      </button>\n",
              "      \n",
              "  <style>\n",
              "    .colab-df-container {\n",
              "      display:flex;\n",
              "      flex-wrap:wrap;\n",
              "      gap: 12px;\n",
              "    }\n",
              "\n",
              "    .colab-df-convert {\n",
              "      background-color: #E8F0FE;\n",
              "      border: none;\n",
              "      border-radius: 50%;\n",
              "      cursor: pointer;\n",
              "      display: none;\n",
              "      fill: #1967D2;\n",
              "      height: 32px;\n",
              "      padding: 0 0 0 0;\n",
              "      width: 32px;\n",
              "    }\n",
              "\n",
              "    .colab-df-convert:hover {\n",
              "      background-color: #E2EBFA;\n",
              "      box-shadow: 0px 1px 2px rgba(60, 64, 67, 0.3), 0px 1px 3px 1px rgba(60, 64, 67, 0.15);\n",
              "      fill: #174EA6;\n",
              "    }\n",
              "\n",
              "    [theme=dark] .colab-df-convert {\n",
              "      background-color: #3B4455;\n",
              "      fill: #D2E3FC;\n",
              "    }\n",
              "\n",
              "    [theme=dark] .colab-df-convert:hover {\n",
              "      background-color: #434B5C;\n",
              "      box-shadow: 0px 1px 3px 1px rgba(0, 0, 0, 0.15);\n",
              "      filter: drop-shadow(0px 1px 2px rgba(0, 0, 0, 0.3));\n",
              "      fill: #FFFFFF;\n",
              "    }\n",
              "  </style>\n",
              "\n",
              "      <script>\n",
              "        const buttonEl =\n",
              "          document.querySelector('#df-d053b981-3933-46e2-866c-9da57f3f06eb button.colab-df-convert');\n",
              "        buttonEl.style.display =\n",
              "          google.colab.kernel.accessAllowed ? 'block' : 'none';\n",
              "\n",
              "        async function convertToInteractive(key) {\n",
              "          const element = document.querySelector('#df-d053b981-3933-46e2-866c-9da57f3f06eb');\n",
              "          const dataTable =\n",
              "            await google.colab.kernel.invokeFunction('convertToInteractive',\n",
              "                                                     [key], {});\n",
              "          if (!dataTable) return;\n",
              "\n",
              "          const docLinkHtml = 'Like what you see? Visit the ' +\n",
              "            '<a target=\"_blank\" href=https://colab.research.google.com/notebooks/data_table.ipynb>data table notebook</a>'\n",
              "            + ' to learn more about interactive tables.';\n",
              "          element.innerHTML = '';\n",
              "          dataTable['output_type'] = 'display_data';\n",
              "          await google.colab.output.renderOutput(dataTable, element);\n",
              "          const docLink = document.createElement('div');\n",
              "          docLink.innerHTML = docLinkHtml;\n",
              "          element.appendChild(docLink);\n",
              "        }\n",
              "      </script>\n",
              "    </div>\n",
              "  </div>\n",
              "  "
            ]
          },
          "metadata": {},
          "execution_count": 12
        }
      ]
    },
    {
      "cell_type": "code",
      "source": [
        "# Distribution of labels in training data\n",
        "train_df.target.value_counts()"
      ],
      "metadata": {
        "colab": {
          "base_uri": "https://localhost:8080/"
        },
        "id": "bjnNpvJ_-MDQ",
        "outputId": "1199105c-67a4-4b89-eee2-5dbf28c32651"
      },
      "execution_count": null,
      "outputs": [
        {
          "output_type": "execute_result",
          "data": {
            "text/plain": [
              "METHODS        59353\n",
              "RESULTS        57953\n",
              "CONCLUSIONS    27168\n",
              "BACKGROUND     21727\n",
              "OBJECTIVE      13839\n",
              "Name: target, dtype: int64"
            ]
          },
          "metadata": {},
          "execution_count": 13
        }
      ]
    },
    {
      "cell_type": "code",
      "source": [
        "# Check length of different lines\n",
        "train_df.total_lines.plot.hist();"
      ],
      "metadata": {
        "colab": {
          "base_uri": "https://localhost:8080/",
          "height": 267
        },
        "id": "FouuT-X0-kDy",
        "outputId": "e7fffb40-0098-4a41-f755-515862244630"
      },
      "execution_count": null,
      "outputs": [
        {
          "output_type": "display_data",
          "data": {
            "text/plain": [
              "<Figure size 432x288 with 1 Axes>"
            ],
            "image/png": "[encoded data removed]"
          },
          "metadata": {
            "needs_background": "light"
          }
        }
      ]
    },
    {
      "cell_type": "markdown",
      "source": [
        "### Get a list of sentences"
      ],
      "metadata": {
        "id": "5jRKldkM-0B2"
      }
    },
    {
      "cell_type": "code",
      "source": [
        "# Convert abstract text_lines into lists\n",
        "train_sentences = train_df[\"text\"].to_list()\n",
        "val_sentences = val_df[\"text\"].to_list()\n",
        "test_sentences = test_df[\"text\"].to_list()\n",
        "len(train_sentences), len(val_sentences), len(test_sentences)\n",
        "\n",
        "\n",
        "\n"
      ],
      "metadata": {
        "colab": {
          "base_uri": "https://localhost:8080/"
        },
        "id": "DebU-PB8_PrH",
        "outputId": "b68714f2-3810-47e5-9e89-5b58596b7ac2"
      },
      "execution_count": null,
      "outputs": [
        {
          "output_type": "execute_result",
          "data": {
            "text/plain": [
              "(180040, 30212, 30135)"
            ]
          },
          "metadata": {},
          "execution_count": 15
        }
      ]
    },
    {
      "cell_type": "code",
      "source": [
        "# train_sentences_np = train_df[\"text\"].to_numpy()\n",
        "# val_sentences_np = val_df[\"text\"].to_numpy()\n",
        "# test_sentences_np = test_df[\"text\"].to_numpy()"
      ],
      "metadata": {
        "id": "zL731Jp6YRa3"
      },
      "execution_count": null,
      "outputs": []
    },
    {
      "cell_type": "code",
      "source": [
        "train_sentences[:10]"
      ],
      "metadata": {
        "colab": {
          "base_uri": "https://localhost:8080/"
        },
        "id": "EShghzBf_ahQ",
        "outputId": "16e1837f-df21-49f5-91d9-ce6f23a4e551"
      },
      "execution_count": null,
      "outputs": [
        {
          "output_type": "execute_result",
          "data": {
            "text/plain": [
              "['to investigate the efficacy of @ weeks of daily low-dose oral prednisolone in improving pain , mobility , and systemic low-grade inflammation in the short term and whether the effect would be sustained at @ weeks in older adults with moderate to severe knee osteoarthritis ( oa ) .',\n",
              " 'a total of @ patients with primary knee oa were randomized @:@ ; @ received @ mg/day of prednisolone and @ received placebo for @ weeks .',\n",
              " 'outcome measures included pain reduction and improvement in function scores and systemic inflammation markers .',\n",
              " 'pain was assessed using the visual analog pain scale ( @-@ mm ) .',\n",
              " 'secondary outcome measures included the western ontario and mcmaster universities osteoarthritis index scores , patient global assessment ( pga ) of the severity of knee oa , and @-min walk distance ( @mwd ) .',\n",
              " 'serum levels of interleukin @ ( il-@ ) , il-@ , tumor necrosis factor ( tnf ) - , and high-sensitivity c-reactive protein ( hscrp ) were measured .',\n",
              " 'there was a clinically relevant reduction in the intervention group compared to the placebo group for knee pain , physical function , pga , and @mwd at @ weeks .',\n",
              " 'the mean difference between treatment arms ( @ % ci ) was @ ( @-@ @ ) , p < @ ; @ ( @-@ @ ) , p < @ ; @ ( @-@ @ ) , p < @ ; and @ ( @-@ @ ) , p < @ , respectively .',\n",
              " 'further , there was a clinically relevant reduction in the serum levels of il-@ , il-@ , tnf - , and hscrp at @ weeks in the intervention group when compared to the placebo group .',\n",
              " 'these differences remained significant at @ weeks .']"
            ]
          },
          "metadata": {},
          "execution_count": 17
        }
      ]
    },
    {
      "cell_type": "markdown",
      "source": [
        "## Making Numeric labels"
      ],
      "metadata": {
        "id": "0bNtDJfgEJ9W"
      }
    },
    {
      "cell_type": "code",
      "source": [
        "# One hot encode the labels\n",
        "import tensorflow as tf\n",
        "from sklearn.preprocessing import OneHotEncoder\n",
        "one_hot_encoder = OneHotEncoder(sparse = False) # we want a non sparsed matrix\n",
        "train_labels_one_hot = one_hot_encoder.fit_transform(train_df[\"target\"].to_numpy().reshape(-1, 1))\n",
        "val_labels_one_hot = one_hot_encoder.transform(val_df[\"target\"].to_numpy().reshape(-1, 1))\n",
        "test_labels_one_hot = one_hot_encoder.transform(test_df[\"target\"].to_numpy().reshape(-1, 1))\n",
        "train_labels_one_hot[:5], val_labels_one_hot[:5], test_labels_one_hot[:5]"
      ],
      "metadata": {
        "colab": {
          "base_uri": "https://localhost:8080/"
        },
        "id": "4nJOc15SCAJ6",
        "outputId": "82382c94-7af9-4128-dcf8-1e2289767bd5"
      },
      "execution_count": null,
      "outputs": [
        {
          "output_type": "execute_result",
          "data": {
            "text/plain": [
              "(array([[0., 0., 0., 1., 0.],\n",
              "        [0., 0., 1., 0., 0.],\n",
              "        [0., 0., 1., 0., 0.],\n",
              "        [0., 0., 1., 0., 0.],\n",
              "        [0., 0., 1., 0., 0.]]), array([[1., 0., 0., 0., 0.],\n",
              "        [1., 0., 0., 0., 0.],\n",
              "        [0., 0., 0., 1., 0.],\n",
              "        [0., 0., 1., 0., 0.],\n",
              "        [0., 0., 1., 0., 0.]]), array([[1., 0., 0., 0., 0.],\n",
              "        [0., 0., 0., 0., 1.],\n",
              "        [0., 0., 0., 0., 1.],\n",
              "        [0., 0., 0., 0., 1.],\n",
              "        [0., 0., 0., 0., 1.]]))"
            ]
          },
          "metadata": {},
          "execution_count": 18
        }
      ]
    },
    {
      "cell_type": "markdown",
      "source": [
        "TensorFlow is'nt compatible with sparse matrix"
      ],
      "metadata": {
        "id": "ZE8c23_mJe-n"
      }
    },
    {
      "cell_type": "markdown",
      "source": [
        "### Label encode labels"
      ],
      "metadata": {
        "id": "V9mk8hK3LY1G"
      }
    },
    {
      "cell_type": "code",
      "source": [
        "# Extract labels (\"target\" columns) and encode them into integers\n",
        "from sklearn.preprocessing import LabelEncoder\n",
        "label_encoder = LabelEncoder()\n",
        "train_labels_encoded = label_encoder.fit_transform(train_df[\"target\"].to_numpy())\n",
        "val_labels_encoded = label_encoder.transform(val_df[\"target\"].to_numpy())\n",
        "test_labels_encoded = label_encoder.transform(test_df[\"target\"].to_numpy())\n",
        "\n",
        "train_labels_encoded[:10], val_labels_encoded[:10], test_labels_encoded[:10]"
      ],
      "metadata": {
        "colab": {
          "base_uri": "https://localhost:8080/"
        },
        "id": "7V3ykcOVFQEU",
        "outputId": "a2501d47-dbef-4a7f-a813-52dd25ed710e"
      },
      "execution_count": null,
      "outputs": [
        {
          "output_type": "execute_result",
          "data": {
            "text/plain": [
              "(array([3, 2, 2, 2, 2, 2, 4, 4, 4, 4]),\n",
              " array([0, 0, 3, 2, 2, 4, 4, 4, 4, 1]),\n",
              " array([0, 4, 4, 4, 4, 4, 4, 1, 1, 0]))"
            ]
          },
          "metadata": {},
          "execution_count": 19
        }
      ]
    },
    {
      "cell_type": "code",
      "source": [
        "# Get class names and number of classes from label encoder\n",
        "num_classes = len(label_encoder.classes_)\n",
        "class_names = label_encoder.classes_\n",
        "num_classes, class_names"
      ],
      "metadata": {
        "colab": {
          "base_uri": "https://localhost:8080/"
        },
        "id": "7j_Lmvn1MSSx",
        "outputId": "e9edb180-20cb-498b-a72b-4e00708666f7"
      },
      "execution_count": null,
      "outputs": [
        {
          "output_type": "execute_result",
          "data": {
            "text/plain": [
              "(5, array(['BACKGROUND', 'CONCLUSIONS', 'METHODS', 'OBJECTIVE', 'RESULTS'],\n",
              "       dtype=object))"
            ]
          },
          "metadata": {},
          "execution_count": 20
        }
      ]
    },
    {
      "cell_type": "markdown",
      "source": [
        "## Satrting a series of modelling experiments"
      ],
      "metadata": {
        "id": "mnRrtYeAXDXz"
      }
    },
    {
      "cell_type": "markdown",
      "source": [
        "## Model 0: Getting a basline"
      ],
      "metadata": {
        "id": "lfB9NJKuW-sg"
      }
    },
    {
      "cell_type": "code",
      "source": [
        "from sklearn.feature_extraction.text import TfidfVectorizer\n",
        "from sklearn.naive_bayes import MultinomialNB\n",
        "from sklearn.pipeline import Pipeline\n",
        "\n",
        "model_0 = Pipeline([\n",
        "    (\"tf_idf\", TfidfVectorizer()), # convert text into numbers\n",
        "    (\"clf\", MultinomialNB()) # model the text(i.e. learn patterns)\n",
        "])\n",
        "\n",
        "model_0.fit(train_sentences, train_labels_encoded)"
      ],
      "metadata": {
        "colab": {
          "base_uri": "https://localhost:8080/"
        },
        "id": "e4AXswKKR-Hw",
        "outputId": "12da3075-3552-4c25-8047-dc3280ed473c"
      },
      "execution_count": null,
      "outputs": [
        {
          "output_type": "execute_result",
          "data": {
            "text/plain": [
              "Pipeline(steps=[('tf_idf', TfidfVectorizer()), ('clf', MultinomialNB())])"
            ]
          },
          "metadata": {},
          "execution_count": 21
        }
      ]
    },
    {
      "cell_type": "code",
      "source": [
        "# evaluate the basline model\n",
        "baseline_score = model_0.score(val_sentences, val_labels_encoded)\n",
        "print(f\"Acccuracy of baseline model is {baseline_score * 100:.2f}%\")"
      ],
      "metadata": {
        "colab": {
          "base_uri": "https://localhost:8080/"
        },
        "id": "I9eNgCKDVpe6",
        "outputId": "b977c5f9-db0e-45ef-d32d-b88d070e1479"
      },
      "execution_count": null,
      "outputs": [
        {
          "output_type": "stream",
          "name": "stdout",
          "text": [
            "Acccuracy of baseline model is 72.18%\n"
          ]
        }
      ]
    },
    {
      "cell_type": "code",
      "source": [
        "# Make predictions using the basline model\n",
        "baseline_preds = model_0.predict(val_sentences)\n",
        "baseline_preds[:20]"
      ],
      "metadata": {
        "colab": {
          "base_uri": "https://localhost:8080/"
        },
        "id": "W4V5j0ddVxfh",
        "outputId": "8e43ffb8-dea2-4a30-99e6-5b0aef8052d6"
      },
      "execution_count": null,
      "outputs": [
        {
          "output_type": "execute_result",
          "data": {
            "text/plain": [
              "array([4, 1, 3, 2, 2, 2, 2, 2, 4, 4, 0, 4, 1, 1, 2, 2, 4, 1, 4, 4])"
            ]
          },
          "metadata": {},
          "execution_count": 23
        }
      ]
    },
    {
      "cell_type": "code",
      "source": [
        "class_names"
      ],
      "metadata": {
        "colab": {
          "base_uri": "https://localhost:8080/"
        },
        "id": "iuMEwtPqWfgI",
        "outputId": "91d911d0-ca70-4565-e6cf-9cb723d8656f"
      },
      "execution_count": null,
      "outputs": [
        {
          "output_type": "execute_result",
          "data": {
            "text/plain": [
              "array(['BACKGROUND', 'CONCLUSIONS', 'METHODS', 'OBJECTIVE', 'RESULTS'],\n",
              "      dtype=object)"
            ]
          },
          "metadata": {},
          "execution_count": 24
        }
      ]
    },
    {
      "cell_type": "code",
      "source": [
        "# from sklearn.metrics import accuracy_score, precision_recall_fscore_support\n",
        "# def calculate_results(y_true, y_pred):\n",
        "#   \"\"\"\n",
        "#   Calculates model accuracy, precision, recall and f1 score.\n",
        "\n",
        "#   Args:\n",
        "#       y_true: true labels in the form of 1D array\n",
        "#       y_pred: predicted labels in the form of 1D array\n",
        "\n",
        "#   Returns a dictionary of accuracy, precision, recall, f1-score.\n",
        "#   \"\"\"\n",
        "\n",
        "#   model_accuracy = accuracy_score(y_true, y_pred) * 100\n",
        "#   precision, recall, f1_score, _ = precision_recall_fscore_support(y_true, y_pred, average = \"weighted\")\n",
        "\n",
        "#   model_results = {\"accuracy\": model_accuracy,\n",
        "#                    \"precision\": precision,\n",
        "#                    \"recall\": recall,\n",
        "#                    \"f1_score\": f1_score}\n",
        "\n",
        "#   return model_results"
      ],
      "metadata": {
        "id": "DVfp4m_EWjYq"
      },
      "execution_count": null,
      "outputs": []
    },
    {
      "cell_type": "markdown",
      "source": [
        "### Downloading reused_functions script from github"
      ],
      "metadata": {
        "id": "UkK2benlg2DW"
      }
    },
    {
      "cell_type": "code",
      "source": [
        "!wget https://raw.githubusercontent.com/nish16111/DeepLearning_TensorFlow/main/reused_functions.py"
      ],
      "metadata": {
        "colab": {
          "base_uri": "https://localhost:8080/"
        },
        "id": "qCUJz53sgwgo",
        "outputId": "0a778cec-4d8f-4a67-da33-7f6eecf8e4b3"
      },
      "execution_count": null,
      "outputs": [
        {
          "output_type": "stream",
          "name": "stdout",
          "text": [
            "--2023-02-27 01:58:15--  https://raw.githubusercontent.com/nish16111/DeepLearning_TensorFlow/main/reused_functions.py\n",
            "Resolving raw.githubusercontent.com (raw.githubusercontent.com)... 185.199.108.133, 185.199.109.133, 185.199.110.133, ...\n",
            "Connecting to raw.githubusercontent.com (raw.githubusercontent.com)|185.199.108.133|:443... connected.\n",
            "HTTP request sent, awaiting response... 200 OK\n",
            "Length: 8702 (8.5K) [text/plain]\n",
            "Saving to: ‘reused_functions.py’\n",
            "\n",
            "reused_functions.py 100%[===================>]   8.50K  --.-KB/s    in 0s      \n",
            "\n",
            "2023-02-27 01:58:16 (96.3 MB/s) - ‘reused_functions.py’ saved [8702/8702]\n",
            "\n"
          ]
        }
      ]
    },
    {
      "cell_type": "code",
      "source": [
        "from reused_functions import calculate_results, create_tensorboard_callback"
      ],
      "metadata": {
        "id": "G3tLMWWjgrl3"
      },
      "execution_count": null,
      "outputs": []
    },
    {
      "cell_type": "code",
      "source": [
        "# Calculate basline results\n",
        "baseline_results = calculate_results(y_true = val_labels_encoded,\n",
        "                                     y_pred = baseline_preds)\n",
        "baseline_results"
      ],
      "metadata": {
        "colab": {
          "base_uri": "https://localhost:8080/"
        },
        "id": "TxHYJjGpe1Xs",
        "outputId": "81a6b9ab-66cc-4727-f708-6a5b6194bb6c"
      },
      "execution_count": null,
      "outputs": [
        {
          "output_type": "execute_result",
          "data": {
            "text/plain": [
              "{'accuracy': 72.1832384482987,\n",
              " 'precision': 0.7186466952323352,\n",
              " 'recall': 0.7218323844829869,\n",
              " 'f1': 0.6989250353450294}"
            ]
          },
          "metadata": {},
          "execution_count": 28
        }
      ]
    },
    {
      "cell_type": "markdown",
      "source": [
        "## Preparing the data (the text) for deep sequence models"
      ],
      "metadata": {
        "id": "xQIsHVTgfKdN"
      }
    },
    {
      "cell_type": "code",
      "source": [
        "# How long is each sentence is on avg\n",
        "import numpy as np\n",
        "sent_len = [len(sentence.split()) for sentence in train_sentences]\n",
        "avg_sent_len = np.mean(sent_len)\n",
        "avg_sent_len"
      ],
      "metadata": {
        "colab": {
          "base_uri": "https://localhost:8080/"
        },
        "id": "nvM3Ro5gZXAd",
        "outputId": "061cc69b-db9f-4d5f-a60f-cb597140d10e"
      },
      "execution_count": null,
      "outputs": [
        {
          "output_type": "execute_result",
          "data": {
            "text/plain": [
              "26.338269273494777"
            ]
          },
          "metadata": {},
          "execution_count": 29
        }
      ]
    },
    {
      "cell_type": "markdown",
      "source": [
        "On an average a sentence is 26.33 words long"
      ],
      "metadata": {
        "id": "p0wBxuaLgzsy"
      }
    },
    {
      "cell_type": "code",
      "source": [
        "# Checking the distribution\n",
        "import matplotlib.pyplot as plt\n",
        "plt.hist(sent_len, bins = 20);"
      ],
      "metadata": {
        "colab": {
          "base_uri": "https://localhost:8080/",
          "height": 265
        },
        "id": "nhTLHGpQaMnp",
        "outputId": "c03bcb66-0e6f-4569-e7d3-3a493de4ba4d"
      },
      "execution_count": null,
      "outputs": [
        {
          "output_type": "display_data",
          "data": {
            "text/plain": [
              "<Figure size 432x288 with 1 Axes>"
            ],
            "image/png": "[encoded data removed]"
          },
          "metadata": {
            "needs_background": "light"
          }
        }
      ]
    },
    {
      "cell_type": "markdown",
      "source": [
        "Finding out number of words on an average for most of the sentences in the dataset. \n",
        "* Answer: 55 (Most of the sentences(95%) are 55 words long)."
      ],
      "metadata": {
        "id": "HK8xyPSahZtk"
      }
    },
    {
      "cell_type": "code",
      "source": [
        "# How long of a sentence length covers 95% of examples.\n",
        "output_seq_len = int(np.percentile(sent_len, 95))\n",
        "output_seq_len"
      ],
      "metadata": {
        "colab": {
          "base_uri": "https://localhost:8080/"
        },
        "id": "LLsDOrZ_bevy",
        "outputId": "8029ee06-8d46-4a85-e68a-e57eb764a6f3"
      },
      "execution_count": null,
      "outputs": [
        {
          "output_type": "execute_result",
          "data": {
            "text/plain": [
              "55"
            ]
          },
          "metadata": {},
          "execution_count": 31
        }
      ]
    },
    {
      "cell_type": "code",
      "source": [
        "# Max seq len \n",
        "max(sent_len)"
      ],
      "metadata": {
        "colab": {
          "base_uri": "https://localhost:8080/"
        },
        "id": "WB_ZOv_hcdev",
        "outputId": "a9bb0c52-7d83-42fc-c766-8a585e6b7aba"
      },
      "execution_count": null,
      "outputs": [
        {
          "output_type": "execute_result",
          "data": {
            "text/plain": [
              "296"
            ]
          },
          "metadata": {},
          "execution_count": 32
        }
      ]
    },
    {
      "cell_type": "markdown",
      "source": [
        "### Create text vectorizer layer"
      ],
      "metadata": {
        "id": "IcpCEjFadqYB"
      }
    },
    {
      "cell_type": "code",
      "source": [
        "import numpy as np\n",
        "from tensorflow.keras.layers.experimental.preprocessing import TextVectorization\n",
        "max_tokens = 68000\n",
        "max_length = 55\n",
        "text_vectorizer = TextVectorization(max_tokens = max_tokens, # number of words in vocabulary\n",
        "                                    output_sequence_length = output_seq_len, # desired output length of vectorized sequences\n",
        "                                    output_mode = \"int\")"
      ],
      "metadata": {
        "id": "4Q5-ikOWiAZG"
      },
      "execution_count": null,
      "outputs": []
    },
    {
      "cell_type": "code",
      "source": [
        "# adapt text_vectorizer to training data\n",
        "text_vectorizer.adapt(train_sentences)"
      ],
      "metadata": {
        "id": "CpbCGBbyfUzw"
      },
      "execution_count": null,
      "outputs": []
    },
    {
      "cell_type": "code",
      "source": [
        "# test out text vectorizer to random sentences\n",
        "import random\n",
        "target_sentence = random.choice(train_sentences)\n",
        "vectorized_sentence = text_vectorizer([target_sentence])\n",
        "print(f\"target_text: {target_sentence}\")\n",
        "print(f\"\\nLength of text: {len(target_sentence.split())}\")\n",
        "print(f\"\\nvectorized_text:\\n {vectorized_sentence}\")\n"
      ],
      "metadata": {
        "colab": {
          "base_uri": "https://localhost:8080/"
        },
        "id": "6tmRTAyCfvJV",
        "outputId": "c4ace31c-4244-4f29-ecfe-7ce5238e7040"
      },
      "execution_count": null,
      "outputs": [
        {
          "output_type": "stream",
          "name": "stdout",
          "text": [
            "target_text: all patients were less than @ years of age and underwent thawed et following all embryo cryopreservation , and were randomly divided into two groups for thawed et using a conventional hormone replacement cycle with or without prostaglandin derivatives ( prostaglandin or conventional group ) .\n",
            "\n",
            "Length of text: 46\n",
            "\n",
            "vectorized_text:\n",
            " [[   62    12     9   211    42    64     4   103     3   352 21578  1890\n",
            "    240    62  3532 12184     3     9    92   471   143    51    24    11\n",
            "  21578  1890    59     8   366  1133  1075  1299     7    16   159  5329\n",
            "  13389  5329    16   366    13     0     0     0     0     0     0     0\n",
            "      0     0     0     0     0     0     0]]\n"
          ]
        }
      ]
    },
    {
      "cell_type": "code",
      "source": [
        "# How many words in our training vocabulary\n",
        "rct_20k_text_vocab = text_vectorizer.get_vocabulary()\n",
        "print(f\"Number of words in vocab: {len(rct_20k_text_vocab)}\")\n",
        "print(f\"Most common words: {(rct_20k_text_vocab[:5])}\")\n",
        "print(f\"Least common words: {(rct_20k_text_vocab[-5:])}\")"
      ],
      "metadata": {
        "colab": {
          "base_uri": "https://localhost:8080/"
        },
        "id": "MhL89OiAlX4A",
        "outputId": "15266a2f-ab25-43d3-f806-ff76e4aeec3d"
      },
      "execution_count": null,
      "outputs": [
        {
          "output_type": "stream",
          "name": "stdout",
          "text": [
            "Number of words in vocab: 64841\n",
            "Most common words: ['', '[UNK]', 'the', 'and', 'of']\n",
            "Least common words: ['aainduced', 'aaigroup', 'aachener', 'aachen', 'aaacp']\n"
          ]
        }
      ]
    },
    {
      "cell_type": "code",
      "source": [
        "# Get config of text_vectorizer\n",
        "text_vectorizer.get_config() # list all the parameters"
      ],
      "metadata": {
        "colab": {
          "base_uri": "https://localhost:8080/"
        },
        "id": "yyFwCuAkmr_V",
        "outputId": "4a43c340-e173-4341-e81d-b17b7b561604"
      },
      "execution_count": null,
      "outputs": [
        {
          "output_type": "execute_result",
          "data": {
            "text/plain": [
              "{'name': 'text_vectorization',\n",
              " 'trainable': True,\n",
              " 'dtype': 'string',\n",
              " 'batch_input_shape': (None,),\n",
              " 'max_tokens': 68000,\n",
              " 'standardize': 'lower_and_strip_punctuation',\n",
              " 'split': 'whitespace',\n",
              " 'ngrams': None,\n",
              " 'output_mode': 'int',\n",
              " 'output_sequence_length': 55,\n",
              " 'pad_to_max_tokens': False,\n",
              " 'sparse': False,\n",
              " 'ragged': False,\n",
              " 'vocabulary': None,\n",
              " 'idf_weights': None,\n",
              " 'encoding': 'utf-8'}"
            ]
          },
          "metadata": {},
          "execution_count": 37
        }
      ]
    },
    {
      "cell_type": "markdown",
      "source": [
        "### Create custom text embedding"
      ],
      "metadata": {
        "id": "ylp-RxUgnOHg"
      }
    },
    {
      "cell_type": "code",
      "source": [
        "# create token embedding layer.\n",
        "embedding_layer = tf.keras.layers.Embedding(input_dim = len(rct_20k_text_vocab), # length of the vocabulary\n",
        "                                            output_dim = 128,\n",
        "                                            mask_zero = True, # use masking to handle variable sequence length (save space) \n",
        "                                            name = \"token_embedding\")"
      ],
      "metadata": {
        "id": "5lUGqpxuR9gm"
      },
      "execution_count": null,
      "outputs": []
    },
    {
      "cell_type": "code",
      "source": [
        "# Example of embedding.\n",
        "print(f\"Normal Text:\\n {target_sentence}\\n\")\n",
        "vectorized_text = text_vectorizer([target_sentence])\n",
        "embedded_text = embedding_layer(vectorized_text)\n",
        "print(f\"vectorized_text:\\n {vectorized_text}\\n\")\n",
        "print(f\"Embedded Text:\\n {embedded_text}\\n\")\n",
        "print(f\"embedded_text_shape: {embedded_text.shape}\")"
      ],
      "metadata": {
        "colab": {
          "base_uri": "https://localhost:8080/"
        },
        "id": "iCml1obNpLqu",
        "outputId": "23b0e662-d87f-4ad5-89b5-7e36b9de71ad"
      },
      "execution_count": null,
      "outputs": [
        {
          "output_type": "stream",
          "name": "stdout",
          "text": [
            "Normal Text:\n",
            " all patients were less than @ years of age and underwent thawed et following all embryo cryopreservation , and were randomly divided into two groups for thawed et using a conventional hormone replacement cycle with or without prostaglandin derivatives ( prostaglandin or conventional group ) .\n",
            "\n",
            "vectorized_text:\n",
            " [[   62    12     9   211    42    64     4   103     3   352 21578  1890\n",
            "    240    62  3532 12184     3     9    92   471   143    51    24    11\n",
            "  21578  1890    59     8   366  1133  1075  1299     7    16   159  5329\n",
            "  13389  5329    16   366    13     0     0     0     0     0     0     0\n",
            "      0     0     0     0     0     0     0]]\n",
            "\n",
            "Embedded Text:\n",
            " [[[-0.04246172  0.01873937  0.02188081 ... -0.04982731  0.04051857\n",
            "   -0.01766893]\n",
            "  [ 0.01841477  0.02167535  0.01623404 ...  0.01653444 -0.0431785\n",
            "   -0.01436417]\n",
            "  [-0.04497904  0.01230631 -0.01240499 ...  0.0186385   0.02579657\n",
            "   -0.00782277]\n",
            "  ...\n",
            "  [-0.00403551 -0.02825637  0.01546924 ...  0.0031116  -0.03571352\n",
            "    0.00607125]\n",
            "  [-0.00403551 -0.02825637  0.01546924 ...  0.0031116  -0.03571352\n",
            "    0.00607125]\n",
            "  [-0.00403551 -0.02825637  0.01546924 ...  0.0031116  -0.03571352\n",
            "    0.00607125]]]\n",
            "\n",
            "embedded_text_shape: (1, 55, 128)\n"
          ]
        }
      ]
    },
    {
      "cell_type": "markdown",
      "source": [
        "Embedding layer is **learnable**"
      ],
      "metadata": {
        "id": "o_JTWJvyrI2t"
      }
    },
    {
      "cell_type": "markdown",
      "source": [
        "## Creating datasets"
      ],
      "metadata": {
        "id": "teFHsFPurQ6z"
      }
    },
    {
      "cell_type": "code",
      "source": [
        "# Turn data into in tf datasets\n",
        "train_dataset = tf.data.Dataset.from_tensor_slices((train_sentences, train_labels_one_hot))\n",
        "valid_dataset = tf.data.Dataset.from_tensor_slices((val_sentences, val_labels_one_hot))\n",
        "test_dataset = tf.data.Dataset.from_tensor_slices((test_sentences, test_labels_one_hot))\n",
        "train_dataset"
      ],
      "metadata": {
        "id": "Gb2FdfRjsG2x",
        "colab": {
          "base_uri": "https://localhost:8080/"
        },
        "outputId": "78939782-1413-4d48-caeb-9fd9bfc687e0"
      },
      "execution_count": null,
      "outputs": [
        {
          "output_type": "execute_result",
          "data": {
            "text/plain": [
              "<TensorSliceDataset element_spec=(TensorSpec(shape=(), dtype=tf.string, name=None), TensorSpec(shape=(5,), dtype=tf.float64, name=None))>"
            ]
          },
          "metadata": {},
          "execution_count": 40
        }
      ]
    },
    {
      "cell_type": "code",
      "source": [
        "# Take tensor slice datasets and turn them into prefetched datsets\n",
        "train_dataset = train_dataset.batch(batch_size = 32).prefetch(buffer_size = tf.data.AUTOTUNE)\n",
        "valid_dataset = valid_dataset.batch(batch_size = 32).prefetch(buffer_size = tf.data.AUTOTUNE)\n",
        "test_dataset = test_dataset.batch(batch_size = 32).prefetch(buffer_size = tf.data.AUTOTUNE)\n",
        "train_dataset"
      ],
      "metadata": {
        "colab": {
          "base_uri": "https://localhost:8080/"
        },
        "id": "ba-i3a5WWZec",
        "outputId": "b5647bfb-2c7f-4281-d05e-a89c4287b2bf"
      },
      "execution_count": null,
      "outputs": [
        {
          "output_type": "execute_result",
          "data": {
            "text/plain": [
              "<PrefetchDataset element_spec=(TensorSpec(shape=(None,), dtype=tf.string, name=None), TensorSpec(shape=(None, 5), dtype=tf.float64, name=None))>"
            ]
          },
          "metadata": {},
          "execution_count": 41
        }
      ]
    },
    {
      "cell_type": "markdown",
      "source": [
        "## Model 1: Conv 1D with token embeddings"
      ],
      "metadata": {
        "id": "uWUgOd5tcHjJ"
      }
    },
    {
      "cell_type": "code",
      "source": [
        "SAVE_DIR = \"model_logs\""
      ],
      "metadata": {
        "id": "u-fprHzed2jo"
      },
      "execution_count": null,
      "outputs": []
    },
    {
      "cell_type": "code",
      "source": [
        "inputs = tf.keras.layers.Input(shape = (1, ), dtype = tf.string)\n",
        "x = text_vectorizer(inputs)\n",
        "x = embedding_layer(x)\n",
        "x = tf.keras.layers.Conv1D(filters = 64,\n",
        "                           kernel_size = 5, # layer will look at 5 words at any given time t\n",
        "                           activation = \"relu\",\n",
        "                           padding = \"same\")(x)\n",
        "x = tf.keras.layers.GlobalAveragePooling1D()(x) # Condense the o/p of our feature vector from conv layer\n",
        "outputs = tf.keras.layers.Dense(5, activation = \"softmax\")(x)\n",
        "model_1 = tf.keras.Model(inputs, outputs)"
      ],
      "metadata": {
        "id": "2d1rLOJqcf2N"
      },
      "execution_count": null,
      "outputs": []
    },
    {
      "cell_type": "code",
      "source": [
        "model_1.summary()"
      ],
      "metadata": {
        "colab": {
          "base_uri": "https://localhost:8080/"
        },
        "id": "EjXlRikyeFuq",
        "outputId": "d229fc3f-7cb7-47eb-b0b7-89a816cc4433"
      },
      "execution_count": null,
      "outputs": [
        {
          "output_type": "stream",
          "name": "stdout",
          "text": [
            "Model: \"model\"\n",
            "_________________________________________________________________\n",
            " Layer (type)                Output Shape              Param #   \n",
            "=================================================================\n",
            " input_1 (InputLayer)        [(None, 1)]               0         \n",
            "                                                                 \n",
            " text_vectorization (TextVec  (None, 55)               0         \n",
            " torization)                                                     \n",
            "                                                                 \n",
            " token_embedding (Embedding)  (None, 55, 128)          8299648   \n",
            "                                                                 \n",
            " conv1d (Conv1D)             (None, 55, 64)            41024     \n",
            "                                                                 \n",
            " global_average_pooling1d (G  (None, 64)               0         \n",
            " lobalAveragePooling1D)                                          \n",
            "                                                                 \n",
            " dense (Dense)               (None, 5)                 325       \n",
            "                                                                 \n",
            "=================================================================\n",
            "Total params: 8,340,997\n",
            "Trainable params: 8,340,997\n",
            "Non-trainable params: 0\n",
            "_________________________________________________________________\n"
          ]
        }
      ]
    },
    {
      "cell_type": "code",
      "source": [
        "model_1.compile(loss = \"categorical_crossentropy\",\n",
        "                optimizer = tf.keras.optimizers.Adam(),\n",
        "                metrics = [\"accuracy\"])"
      ],
      "metadata": {
        "id": "pwgBhHz9dSJC"
      },
      "execution_count": null,
      "outputs": []
    },
    {
      "cell_type": "code",
      "source": [
        "model_1_history = model_1.fit(train_dataset,\n",
        "                              steps_per_epoch = int(0.1 * len(train_dataset)),\n",
        "                              epochs = 5,\n",
        "                              validation_data = valid_dataset,\n",
        "                              validation_steps = int(0.1 * len(valid_dataset)),\n",
        "                              callbacks = [create_tensorboard_callback(dir_name = SAVE_DIR,\n",
        "                                                                       experiment_name = \"model_1_Conv1D\")])"
      ],
      "metadata": {
        "colab": {
          "base_uri": "https://localhost:8080/"
        },
        "id": "q-XQICfWdgm7",
        "outputId": "f7c1b0de-ed66-41a0-f551-061798a80af0"
      },
      "execution_count": null,
      "outputs": [
        {
          "output_type": "stream",
          "name": "stdout",
          "text": [
            "saving TensorBoard log files to : model_logs/model_1_Conv1D/20230227-015845\n",
            "Epoch 1/5\n",
            "562/562 [==============================] - 38s 50ms/step - loss: 0.9125 - accuracy: 0.6389 - val_loss: 0.6837 - val_accuracy: 0.7357\n",
            "Epoch 2/5\n",
            "562/562 [==============================] - 7s 12ms/step - loss: 0.6568 - accuracy: 0.7556 - val_loss: 0.6370 - val_accuracy: 0.7673\n",
            "Epoch 3/5\n",
            "562/562 [==============================] - 6s 10ms/step - loss: 0.6190 - accuracy: 0.7741 - val_loss: 0.5981 - val_accuracy: 0.7819\n",
            "Epoch 4/5\n",
            "562/562 [==============================] - 4s 7ms/step - loss: 0.5914 - accuracy: 0.7879 - val_loss: 0.5808 - val_accuracy: 0.7896\n",
            "Epoch 5/5\n",
            "562/562 [==============================] - 5s 9ms/step - loss: 0.5929 - accuracy: 0.7915 - val_loss: 0.5656 - val_accuracy: 0.7962\n"
          ]
        }
      ]
    },
    {
      "cell_type": "code",
      "source": [
        "# Evaluate on all of the validation_dataset\n",
        "model_1.evaluate(valid_dataset)"
      ],
      "metadata": {
        "id": "p1BdZvOReAUW",
        "colab": {
          "base_uri": "https://localhost:8080/"
        },
        "outputId": "81eb1386-267d-4701-9f20-e0be2bb1866d"
      },
      "execution_count": null,
      "outputs": [
        {
          "output_type": "stream",
          "name": "stdout",
          "text": [
            "945/945 [==============================] - 3s 3ms/step - loss: 0.5631 - accuracy: 0.8000\n"
          ]
        },
        {
          "output_type": "execute_result",
          "data": {
            "text/plain": [
              "[0.5631474256515503, 0.8000463247299194]"
            ]
          },
          "metadata": {},
          "execution_count": 47
        }
      ]
    },
    {
      "cell_type": "code",
      "source": [
        "# Make predictions (our model predicts prediction probabilities for each class)\n",
        "model_1_pred_probs = model_1.predict(valid_dataset)\n",
        "model_1_pred_probs[:10], model_1_pred_probs.shape"
      ],
      "metadata": {
        "colab": {
          "base_uri": "https://localhost:8080/"
        },
        "id": "-9aAv3w47YEY",
        "outputId": "55005e4a-d434-4677-c990-61b74cf269fa"
      },
      "execution_count": null,
      "outputs": [
        {
          "output_type": "stream",
          "name": "stdout",
          "text": [
            "945/945 [==============================] - 2s 2ms/step\n"
          ]
        },
        {
          "output_type": "execute_result",
          "data": {
            "text/plain": [
              "(array([[4.9812564e-01, 2.0809442e-01, 4.8783366e-02, 1.8731922e-01,\n",
              "         5.7677321e-02],\n",
              "        [3.9092699e-01, 3.9679697e-01, 2.4939474e-02, 1.3465658e-01,\n",
              "         5.2680016e-02],\n",
              "        [1.6825826e-01, 3.2125900e-03, 1.3300249e-03, 8.2713693e-01,\n",
              "         6.2132400e-05],\n",
              "        [4.3336368e-05, 2.1860799e-04, 9.9877900e-01, 6.5491833e-05,\n",
              "         8.9361618e-04],\n",
              "        [6.1012809e-03, 8.5068405e-02, 6.0605997e-01, 3.1401850e-03,\n",
              "         2.9963017e-01],\n",
              "        [1.6264038e-02, 2.2115456e-02, 6.7845947e-01, 6.5661850e-03,\n",
              "         2.7659479e-01],\n",
              "        [7.5307413e-04, 2.4623121e-03, 6.5196139e-01, 3.6057655e-04,\n",
              "         3.4446272e-01],\n",
              "        [3.5540439e-02, 4.2952538e-02, 5.4235017e-01, 1.3571920e-02,\n",
              "         3.6558494e-01],\n",
              "        [1.2017196e-10, 8.2683232e-07, 2.1303968e-06, 1.9976477e-10,\n",
              "         9.9999702e-01],\n",
              "        [1.3776880e-02, 7.6468289e-01, 7.9030782e-02, 2.8310191e-02,\n",
              "         1.1419925e-01]], dtype=float32), (30212, 5))"
            ]
          },
          "metadata": {},
          "execution_count": 48
        }
      ]
    },
    {
      "cell_type": "code",
      "source": [
        "# Convert pred probs to classes\n",
        "model_1_preds = tf.argmax(model_1_pred_probs, axis = 1) #returns maximum value's index number.\n",
        "model_1_preds[:5]"
      ],
      "metadata": {
        "id": "B-ADhFQJ80cW",
        "colab": {
          "base_uri": "https://localhost:8080/"
        },
        "outputId": "a315d401-2343-46b9-be32-6cd5d364e3ca"
      },
      "execution_count": null,
      "outputs": [
        {
          "output_type": "execute_result",
          "data": {
            "text/plain": [
              "<tf.Tensor: shape=(5,), dtype=int64, numpy=array([0, 1, 3, 2, 2])>"
            ]
          },
          "metadata": {},
          "execution_count": 49
        }
      ]
    },
    {
      "cell_type": "code",
      "source": [
        "class_names"
      ],
      "metadata": {
        "colab": {
          "base_uri": "https://localhost:8080/"
        },
        "id": "cLTYgxUOmRA_",
        "outputId": "f69c3fe9-a1af-4830-9393-1962f46b90a6"
      },
      "execution_count": null,
      "outputs": [
        {
          "output_type": "execute_result",
          "data": {
            "text/plain": [
              "array(['BACKGROUND', 'CONCLUSIONS', 'METHODS', 'OBJECTIVE', 'RESULTS'],\n",
              "      dtype=object)"
            ]
          },
          "metadata": {},
          "execution_count": 50
        }
      ]
    },
    {
      "cell_type": "code",
      "source": [
        "val_labels_one_hot[:5], val_labels_encoded[:5]"
      ],
      "metadata": {
        "colab": {
          "base_uri": "https://localhost:8080/"
        },
        "id": "K_-nKl5WneaR",
        "outputId": "77fa2952-da47-405a-f322-2d8a0bd3d824"
      },
      "execution_count": null,
      "outputs": [
        {
          "output_type": "execute_result",
          "data": {
            "text/plain": [
              "(array([[1., 0., 0., 0., 0.],\n",
              "        [1., 0., 0., 0., 0.],\n",
              "        [0., 0., 0., 1., 0.],\n",
              "        [0., 0., 1., 0., 0.],\n",
              "        [0., 0., 1., 0., 0.]]), array([0, 0, 3, 2, 2]))"
            ]
          },
          "metadata": {},
          "execution_count": 51
        }
      ]
    },
    {
      "cell_type": "markdown",
      "source": [
        "**Note** For calculating results val_labels_encoded are used instead of one hot encoded version cuz the model_1_preds consist label encoded structure."
      ],
      "metadata": {
        "id": "ifZUza4onxjh"
      }
    },
    {
      "cell_type": "code",
      "source": [
        "# Calculate model_1 results\n",
        "model_1_results = calculate_results(y_true = val_labels_encoded,\n",
        "                                    y_pred = model_1_preds)\n",
        "model_1_results"
      ],
      "metadata": {
        "colab": {
          "base_uri": "https://localhost:8080/"
        },
        "id": "ceGdH0stnGMx",
        "outputId": "f2df3572-5abd-44f8-8918-493d1fdf8032"
      },
      "execution_count": null,
      "outputs": [
        {
          "output_type": "execute_result",
          "data": {
            "text/plain": [
              "{'accuracy': 80.00463392029657,\n",
              " 'precision': 0.8000388779716006,\n",
              " 'recall': 0.8000463392029658,\n",
              " 'f1': 0.7968144092433923}"
            ]
          },
          "metadata": {},
          "execution_count": 52
        }
      ]
    },
    {
      "cell_type": "markdown",
      "source": [
        "## Model 2: TensorFlow HUb Pretrained Feature Exctractor"
      ],
      "metadata": {
        "id": "XVVZAKzNnZ7l"
      }
    },
    {
      "cell_type": "code",
      "source": [
        "import tensorflow_hub as hub\n",
        "sentence_encoder_layer = hub.KerasLayer(\"https://tfhub.dev/google/universal-sentence-encoder/4\",\n",
        "                                        input_shape = [],\n",
        "                                        trainable = False,\n",
        "                                        dtype = tf.string,\n",
        "                                        name = \"USE\")"
      ],
      "metadata": {
        "id": "E1jkmA4atQ5D",
        "colab": {
          "base_uri": "https://localhost:8080/"
        },
        "outputId": "a5cb54ce-665a-494b-d76f-89880c9e9095"
      },
      "execution_count": null,
      "outputs": [
        {
          "output_type": "stream",
          "name": "stderr",
          "text": [
            "WARNING:tensorflow:Please fix your imports. Module tensorflow.python.training.tracking.data_structures has been moved to tensorflow.python.trackable.data_structures. The old module will be deleted in version 2.11.\n"
          ]
        }
      ]
    },
    {
      "cell_type": "code",
      "source": [
        "# Test the sentence encoder layer\n",
        "\n",
        "import random \n",
        "random_sentence = random.choice(train_sentences)\n",
        "embedded_text = sentence_encoder_layer([random_sentence])\n",
        "print(f\"The random sentence is:\\n {random_sentence}\")\n",
        "print(f\"The embedded text is\\n {embedded_text}\")\n",
        "print(f\"The shape of embedded text is {embedded_text.shape}\")"
      ],
      "metadata": {
        "colab": {
          "base_uri": "https://localhost:8080/"
        },
        "id": "s_wDYz8O1Dcv",
        "outputId": "37d7a143-92f5-4b7f-cbec-ad7cc5415efb"
      },
      "execution_count": null,
      "outputs": [
        {
          "output_type": "stream",
          "name": "stdout",
          "text": [
            "The random sentence is:\n",
            " formula acceptability was high and comparable for both formula feedings , regardless of hm supplementation .\n",
            "The embedded text is\n",
            " [[-4.84584868e-02 -8.50226209e-02 -5.82480542e-02  2.11854223e-02\n",
            "   1.80028714e-02 -4.54761349e-02 -4.95820493e-03 -6.42519146e-02\n",
            "   6.91267923e-02  5.26817180e-02 -2.41181292e-02  8.02313983e-02\n",
            "  -2.90598236e-02 -7.65465712e-03 -8.39102119e-02  4.56980057e-02\n",
            "  -8.02621692e-02  6.82313368e-02  6.29004389e-02  6.12970330e-02\n",
            "   5.00022657e-02 -3.45732793e-02 -4.04290222e-02  6.82289228e-02\n",
            "   3.92675586e-02  5.31022921e-02 -5.09108119e-02  4.89909798e-02\n",
            "  -3.50262411e-02  6.57040402e-02  5.05663082e-02  8.00017565e-02\n",
            "   2.26624981e-02 -7.55253732e-02 -1.35601675e-02  3.72002870e-02\n",
            "  -7.53839174e-03 -5.45592830e-02  4.36508618e-02  1.66390184e-02\n",
            "   6.71791658e-02  1.76090170e-02  5.36774145e-03  4.64828350e-02\n",
            "   3.06280553e-02  4.01224829e-02  6.50602877e-02  1.47683714e-02\n",
            "   8.28813538e-02  3.09536811e-02 -1.59780087e-03 -4.12292220e-03\n",
            "   6.00659847e-02 -3.85704706e-03  2.75029540e-02  5.01994304e-02\n",
            "  -4.01014052e-02 -1.19932182e-02  1.21306386e-02  1.20877400e-02\n",
            "   4.64742631e-02 -7.05195963e-02 -7.77600631e-02 -1.49839511e-02\n",
            "  -8.96617118e-03  1.30142113e-02  2.90186983e-02  3.64576094e-02\n",
            "   2.87544895e-02  4.59213406e-02 -3.51745710e-02  4.47365716e-02\n",
            "   1.07041479e-03 -3.28956172e-02 -5.21802679e-02 -3.19231488e-02\n",
            "  -4.14278038e-04  2.45557949e-02  3.00568789e-02  7.85526931e-02\n",
            "   5.23266830e-02 -3.81566435e-02 -7.46700913e-03  1.44082336e-02\n",
            "   5.85612096e-02  4.92888838e-02  3.27249174e-03  2.44554109e-03\n",
            "  -2.50987913e-02  2.70322599e-02 -4.75078747e-02 -2.89732628e-02\n",
            "  -2.74034813e-02  1.50854969e-02 -1.59843396e-02 -5.24357557e-02\n",
            "   4.86643501e-02  3.00575467e-03 -5.43070957e-02 -4.39315774e-02\n",
            "  -2.38531716e-02 -2.54431739e-02  1.80181954e-02  1.32892607e-02\n",
            "   4.04921398e-02 -7.28619844e-02  5.37124742e-03  5.46528473e-02\n",
            "   3.13477814e-02 -2.71726996e-02  1.98547053e-03  9.08035028e-04\n",
            "   7.05802534e-03  5.88692948e-02 -5.55078499e-02  9.89591517e-03\n",
            "   3.53453681e-02  9.12051834e-03 -2.05448642e-02  9.68970172e-03\n",
            "  -5.10412045e-02  3.21424194e-02  4.65820730e-03  6.15593381e-02\n",
            "  -1.47482799e-02 -1.58641692e-02 -4.60305735e-02  4.85014990e-02\n",
            "   8.00490100e-03  4.30371799e-02  7.15873297e-03  8.92201439e-02\n",
            "  -1.82703473e-02 -4.10739221e-02  4.25105467e-02  3.35131660e-02\n",
            "   5.10450751e-02  5.58993444e-02 -2.38604899e-02  2.60964930e-02\n",
            "   4.67681736e-02  5.73427007e-02 -5.14405221e-02 -7.59979477e-04\n",
            "  -6.20910386e-03  6.56096265e-02 -2.51809903e-03  4.31702994e-02\n",
            "  -8.65038671e-03  6.00754358e-02 -4.33205776e-02  7.00279176e-02\n",
            "  -4.83755134e-02 -5.33157401e-02  1.27163343e-02  2.23554280e-02\n",
            "  -5.82195409e-02  4.94886860e-02  5.50147220e-02  5.76650837e-06\n",
            "   1.34356134e-02  2.51531210e-02  4.02359990e-03  5.91225736e-02\n",
            "  -3.40593979e-02  8.23173299e-03 -6.41883612e-02  5.16510755e-02\n",
            "   4.95737093e-03 -2.83117015e-02 -1.55021325e-02  4.14576381e-02\n",
            "   4.67725582e-02  5.99586144e-02  3.63346189e-02 -2.08886783e-03\n",
            "  -4.01163213e-02 -7.24902004e-02 -5.89606585e-04 -4.91314866e-02\n",
            "   7.61301816e-02  4.35535982e-02 -3.59093882e-02  8.45375881e-02\n",
            "   9.59377678e-04  1.08325128e-02  8.01728442e-02  3.40686068e-02\n",
            "  -5.99450357e-02 -1.50163602e-02  3.21965031e-02 -3.27784531e-02\n",
            "   3.61999422e-02  5.73707186e-02  5.91848120e-02  2.46840809e-02\n",
            "   6.21649660e-02 -6.29812852e-02  1.04983458e-02 -3.76751348e-02\n",
            "  -3.73759158e-02 -7.00556263e-02  3.83802317e-02  1.66302621e-02\n",
            "   7.20137917e-03 -5.48321158e-02  1.98438521e-02  8.75717923e-02\n",
            "  -6.44714162e-02  2.42908876e-02 -4.80340645e-02  1.85731202e-02\n",
            "  -1.12529378e-02  2.16578394e-02 -6.14244677e-02  1.79575209e-03\n",
            "   2.22627092e-02 -2.33496353e-02  6.01741783e-02 -5.56435958e-02\n",
            "  -3.34131322e-03  5.99610731e-02 -5.16980179e-02  3.97998989e-02\n",
            "   2.62799039e-02  2.24528182e-03 -1.55103616e-02  1.97972860e-02\n",
            "  -1.46654025e-02  6.73642429e-03  3.27634662e-02  4.32868563e-02\n",
            "   4.22827974e-02 -6.81188256e-02 -6.26533702e-02 -3.79990004e-02\n",
            "   1.35849249e-02  5.32723591e-02 -5.43735176e-03  4.35885154e-02\n",
            "   2.37416867e-02  7.92466011e-03 -8.73755738e-02  1.48697582e-03\n",
            "   3.83481830e-02 -1.47798555e-02  6.20600171e-02 -5.18957600e-02\n",
            "  -1.11412322e-02 -8.56949538e-02  7.85531700e-02  1.24550518e-03\n",
            "   4.59685959e-02  3.07704974e-02 -1.88233634e-03  8.36603437e-03\n",
            "  -2.98518036e-02  5.96564338e-02 -8.83631594e-03  5.09343110e-02\n",
            "  -8.33215490e-02 -4.34493134e-03  2.81186868e-02 -2.59035788e-02\n",
            "  -6.98640496e-02 -5.90216555e-02  2.41377354e-02  1.22168437e-02\n",
            "  -7.67753422e-02 -4.00704518e-02 -1.97350252e-02 -4.76153791e-02\n",
            "   7.98326954e-02 -7.62390345e-02  6.40315935e-03 -2.96762530e-02\n",
            "   4.30054143e-02  2.95003224e-02  3.63030471e-02  4.45266776e-02\n",
            "  -2.00394187e-02  3.40844365e-03 -1.99060334e-04 -3.44182402e-02\n",
            "  -1.11105163e-02  1.76415145e-02 -4.30180430e-02  5.45667037e-02\n",
            "   2.57339757e-02 -5.18201441e-02  7.75952265e-02  5.82484454e-02\n",
            "   4.97766361e-02 -1.43509256e-02  3.71153615e-02  7.32611120e-02\n",
            "   1.20176086e-02 -4.10955884e-02 -7.85204843e-02 -1.00743184e-02\n",
            "  -9.15231742e-03 -4.92035411e-02 -3.95094603e-03 -3.97075266e-02\n",
            "  -7.21256761e-03  3.16856280e-02  2.71961149e-02  3.72685231e-02\n",
            "   4.29908112e-02  8.35585445e-02 -2.73677465e-02 -9.53286944e-04\n",
            "   4.46521603e-02  5.85522875e-02 -3.95772122e-02 -3.89048532e-02\n",
            "   9.59077012e-03 -5.06497920e-03 -9.69911460e-03 -6.63791150e-02\n",
            "   2.23660301e-02 -4.54749689e-02  4.24281880e-02  8.26965272e-02\n",
            "  -1.51333550e-03 -6.17903657e-02 -6.36041015e-02  2.97956318e-02\n",
            "  -3.46233472e-02  6.92084283e-02 -6.21630922e-02 -3.83888446e-02\n",
            "   2.16695312e-02  4.46422398e-02  6.96075708e-02 -1.80892348e-02\n",
            "  -4.10630405e-02 -1.52623625e-02  5.51164225e-02  4.47210632e-02\n",
            "  -3.38000618e-02  4.90679964e-02  7.31730759e-02 -1.68324485e-02\n",
            "  -6.34017736e-02 -8.79973322e-02  6.64064586e-02 -3.05880383e-02\n",
            "  -5.41785657e-02 -6.05791658e-02 -1.19513650e-04 -2.46749781e-02\n",
            "  -4.67150137e-02 -4.70516039e-03  2.32292749e-02 -1.27053270e-02\n",
            "  -8.53346214e-02 -2.55096350e-02 -2.20936351e-02 -7.65237361e-02\n",
            "   1.47536234e-03 -1.63650662e-02  3.76744866e-02 -4.33046706e-02\n",
            "  -4.79944795e-02 -1.08167995e-02 -2.90652346e-02  7.15504363e-02\n",
            "   4.38146852e-03  1.73385870e-02  1.55669991e-02 -6.25238195e-02\n",
            "   3.10744122e-02 -6.19696118e-02 -3.00273066e-03  3.27763788e-04\n",
            "  -4.30767760e-02 -4.71173860e-02  5.66649139e-02 -5.37051558e-02\n",
            "  -5.66965714e-02  9.03129752e-04 -5.96995950e-02  1.20087701e-03\n",
            "   9.72245354e-03  7.55499601e-02  7.43383765e-02  4.05737758e-02\n",
            "   7.58392438e-02 -4.69129756e-02  5.17611578e-03  4.12394069e-02\n",
            "  -1.73864458e-02  5.46030048e-03 -6.09789304e-02  7.45527223e-02\n",
            "  -2.31058225e-02 -5.92448674e-02 -7.70035610e-02 -6.92734420e-02\n",
            "   3.85672040e-02 -2.99087595e-02  6.27577901e-02  6.68595582e-02\n",
            "   1.22578349e-02  6.74285442e-02  5.35753905e-04  5.83011620e-02\n",
            "  -1.32916942e-02  1.25421267e-02 -1.53245414e-02  2.86363177e-02\n",
            "  -3.85096967e-02  6.68884367e-02 -1.80592481e-02  8.52957964e-02\n",
            "  -6.83132038e-02  3.30527425e-02  4.79694903e-02 -7.68861873e-03\n",
            "   5.68134859e-02  8.02632235e-03  2.17337981e-02  7.57596176e-03\n",
            "   2.24667676e-02 -3.08758523e-02  5.40616959e-02  3.38317186e-04\n",
            "  -6.41620532e-02 -4.80204932e-02 -6.11860014e-04 -3.88001129e-02\n",
            "  -5.51580861e-02 -2.47150064e-02 -1.43841309e-02 -6.60888478e-02\n",
            "   4.21492895e-03 -2.59457026e-02  5.86120831e-03 -4.43599224e-02\n",
            "  -3.83204259e-02 -7.09724128e-02 -1.89930778e-02 -2.59563383e-02\n",
            "  -6.55938387e-02 -4.53607775e-02 -2.57154908e-02 -1.11900242e-02\n",
            "  -3.26900324e-03  7.40885213e-02 -7.39299133e-02  6.54839054e-02\n",
            "  -5.51359020e-02  5.59114516e-02  2.75036655e-02  9.00947582e-03\n",
            "  -8.39658454e-02  5.01989340e-03  4.53515835e-02  2.81895697e-02\n",
            "   1.95185567e-04  3.06724366e-02  1.88285951e-02 -5.90425357e-02\n",
            "   4.88787107e-02  2.18824744e-02  8.25658534e-03 -2.36240085e-02\n",
            "  -7.92266801e-02  3.50401513e-02 -6.73975796e-02  5.00335917e-02\n",
            "  -2.82265991e-02  3.23091224e-02  7.10756108e-02 -5.53168617e-02\n",
            "   1.58902444e-03 -1.48173692e-02  3.83367203e-02 -1.14592826e-02\n",
            "  -1.34631665e-02  3.86914760e-02 -1.72618814e-02 -3.29581797e-02\n",
            "   1.08639421e-02 -1.35481153e-02  2.73948666e-02 -5.76899946e-02\n",
            "   3.88082839e-03 -5.41545562e-02  4.94935773e-02  5.54603934e-02\n",
            "  -1.44611271e-02 -6.89564422e-02 -2.58212741e-02 -4.01731394e-02\n",
            "   2.88890451e-02 -3.27096954e-02  7.54019246e-02 -5.84839247e-02\n",
            "  -8.38008374e-02 -6.36821762e-02  1.62432063e-02  1.76459271e-02\n",
            "  -7.27864495e-03 -6.63187131e-02  5.71401380e-02  6.85738698e-02\n",
            "  -1.67720839e-02  5.59745803e-02 -3.81531976e-02 -7.62629732e-02]]\n",
            "The shape of embedded text is (1, 512)\n"
          ]
        }
      ]
    },
    {
      "cell_type": "code",
      "source": [
        "# model_2 = tf.keras.Sequential([\n",
        "#     sentence_encoder_layer,\n",
        "#     tf.keras.layers.Dense(64, activation = \"relu\"),\n",
        "#     tf.keras.layers.Dense(5, activation = \"softmax\")\n",
        "# ])\n",
        "\n",
        "inputs = tf.keras.Input(shape = [], dtype = tf.string)\n",
        "x = sentence_encoder_layer(inputs)\n",
        "x = tf.keras.layers.Dense(128, activation = \"relu\")(x)\n",
        "outputs = tf.keras.layers.Dense(5, activation = \"softmax\")(x)\n",
        "model_2 = tf.keras.Model(inputs, outputs, name = \"model_2_transferLearning\")"
      ],
      "metadata": {
        "id": "aV4CIpXuwjxM",
        "colab": {
          "base_uri": "https://localhost:8080/"
        },
        "outputId": "43767045-8eca-46e8-e285-fcd03e13854c"
      },
      "execution_count": null,
      "outputs": [
        {
          "output_type": "stream",
          "name": "stderr",
          "text": [
            "WARNING:tensorflow:From /usr/local/lib/python3.8/dist-packages/tensorflow/python/autograph/pyct/static_analysis/liveness.py:83: Analyzer.lamba_check (from tensorflow.python.autograph.pyct.static_analysis.liveness) is deprecated and will be removed after 2023-09-23.\n",
            "Instructions for updating:\n",
            "Lambda fuctions will be no more assumed to be used in the statement where they are used, or at least in the same block. https://github.com/tensorflow/tensorflow/issues/56089\n"
          ]
        }
      ]
    },
    {
      "cell_type": "code",
      "source": [
        "model_2.summary()"
      ],
      "metadata": {
        "colab": {
          "base_uri": "https://localhost:8080/"
        },
        "id": "nVNzyICt4kB5",
        "outputId": "ab71279f-3e81-450f-c587-ed3f7423e265"
      },
      "execution_count": null,
      "outputs": [
        {
          "output_type": "stream",
          "name": "stdout",
          "text": [
            "Model: \"model_2_transferLearning\"\n",
            "_________________________________________________________________\n",
            " Layer (type)                Output Shape              Param #   \n",
            "=================================================================\n",
            " input_2 (InputLayer)        [(None,)]                 0         \n",
            "                                                                 \n",
            " USE (KerasLayer)            (None, 512)               256797824 \n",
            "                                                                 \n",
            " dense_1 (Dense)             (None, 128)               65664     \n",
            "                                                                 \n",
            " dense_2 (Dense)             (None, 5)                 645       \n",
            "                                                                 \n",
            "=================================================================\n",
            "Total params: 256,864,133\n",
            "Trainable params: 66,309\n",
            "Non-trainable params: 256,797,824\n",
            "_________________________________________________________________\n"
          ]
        }
      ]
    },
    {
      "cell_type": "code",
      "source": [
        "model_2.compile(loss = \"categorical_crossentropy\",\n",
        "                optimizer = tf.keras.optimizers.Adam(),\n",
        "                metrics = [\"accuracy\"])"
      ],
      "metadata": {
        "id": "fArPOB1Dw-zm"
      },
      "execution_count": null,
      "outputs": []
    },
    {
      "cell_type": "code",
      "source": [
        "model_2_history = model_2.fit(train_dataset,\n",
        "                              steps_per_epoch = int(0.1 * len(train_dataset)),\n",
        "                              epochs = 3,\n",
        "                              validation_data = valid_dataset,\n",
        "                              validation_steps = int(0.1 * len(valid_dataset)),\n",
        "                              callbacks = [create_tensorboard_callback(dir_name = SAVE_DIR,\n",
        "                                                                       experiment_name = \"model_2_TransferLearning\")])"
      ],
      "metadata": {
        "colab": {
          "base_uri": "https://localhost:8080/"
        },
        "id": "rE_xLrKExMle",
        "outputId": "ce90acc8-cdad-40ea-f3b5-98ffc02aa9f8"
      },
      "execution_count": null,
      "outputs": [
        {
          "output_type": "stream",
          "name": "stdout",
          "text": [
            "saving TensorBoard log files to : model_logs/model_2_TransferLearning/20230227-020104\n",
            "Epoch 1/3\n",
            "562/562 [==============================] - 11s 13ms/step - loss: 0.9170 - accuracy: 0.6534 - val_loss: 0.7917 - val_accuracy: 0.6915\n",
            "Epoch 2/3\n",
            "562/562 [==============================] - 8s 14ms/step - loss: 0.7653 - accuracy: 0.7037 - val_loss: 0.7500 - val_accuracy: 0.7094\n",
            "Epoch 3/3\n",
            "562/562 [==============================] - 7s 13ms/step - loss: 0.7475 - accuracy: 0.7137 - val_loss: 0.7340 - val_accuracy: 0.7174\n"
          ]
        }
      ]
    },
    {
      "cell_type": "code",
      "source": [
        "# Evaluate on all of the validation dataset\n",
        "model_2.evaluate(train_dataset)"
      ],
      "metadata": {
        "colab": {
          "base_uri": "https://localhost:8080/"
        },
        "id": "vg97WRImx9Bh",
        "outputId": "7023013a-f7a7-46f0-e9b8-60b955fe5891"
      },
      "execution_count": null,
      "outputs": [
        {
          "output_type": "stream",
          "name": "stdout",
          "text": [
            "5627/5627 [==============================] - 63s 11ms/step - loss: 0.7385 - accuracy: 0.7160\n"
          ]
        },
        {
          "output_type": "execute_result",
          "data": {
            "text/plain": [
              "[0.7384904026985168, 0.7160075306892395]"
            ]
          },
          "metadata": {},
          "execution_count": 59
        }
      ]
    },
    {
      "cell_type": "code",
      "source": [
        "# Make predictions\n",
        "model_2_pred_probs = model_2.predict(valid_dataset)\n",
        "model_2_pred_probs.shape"
      ],
      "metadata": {
        "colab": {
          "base_uri": "https://localhost:8080/"
        },
        "id": "Dqwm4gAVyUU4",
        "outputId": "95a19c90-76d0-4a42-c52e-a0591b00e6e7"
      },
      "execution_count": null,
      "outputs": [
        {
          "output_type": "stream",
          "name": "stdout",
          "text": [
            "945/945 [==============================] - 10s 10ms/step\n"
          ]
        },
        {
          "output_type": "execute_result",
          "data": {
            "text/plain": [
              "(30212, 5)"
            ]
          },
          "metadata": {},
          "execution_count": 60
        }
      ]
    },
    {
      "cell_type": "code",
      "source": [
        "model_2_pred_probs[:1]"
      ],
      "metadata": {
        "colab": {
          "base_uri": "https://localhost:8080/"
        },
        "id": "47nmW5Fx6Xo2",
        "outputId": "a6aa9d1c-240c-4ce7-f8ba-85edcf48486d"
      },
      "execution_count": null,
      "outputs": [
        {
          "output_type": "execute_result",
          "data": {
            "text/plain": [
              "array([[0.44420144, 0.32547683, 0.00235409, 0.22105227, 0.00691529]],\n",
              "      dtype=float32)"
            ]
          },
          "metadata": {},
          "execution_count": 61
        }
      ]
    },
    {
      "cell_type": "code",
      "source": [
        "# Turn into labels\n",
        "model_2_preds = tf.argmax(model_2_pred_probs, axis = 1)\n",
        "model_2_preds[:5]"
      ],
      "metadata": {
        "colab": {
          "base_uri": "https://localhost:8080/"
        },
        "id": "Seg_IIVw6vPs",
        "outputId": "c4bc74c8-d6b4-4e72-c4f7-ec78d67a40f0"
      },
      "execution_count": null,
      "outputs": [
        {
          "output_type": "execute_result",
          "data": {
            "text/plain": [
              "<tf.Tensor: shape=(5,), dtype=int64, numpy=array([0, 1, 3, 2, 4])>"
            ]
          },
          "metadata": {},
          "execution_count": 62
        }
      ]
    },
    {
      "cell_type": "code",
      "source": [
        "# Calculate model_2 results\n",
        "model_2_results = calculate_results(y_true = val_labels_encoded,\n",
        "                                    y_pred = model_2_preds)\n",
        "model_2_results"
      ],
      "metadata": {
        "colab": {
          "base_uri": "https://localhost:8080/"
        },
        "id": "9ydxaIyD7Asm",
        "outputId": "49e16c5b-d676-4531-a99b-1c3228506a63"
      },
      "execution_count": null,
      "outputs": [
        {
          "output_type": "execute_result",
          "data": {
            "text/plain": [
              "{'accuracy': 71.76287567853834,\n",
              " 'precision': 0.7174264972038783,\n",
              " 'recall': 0.7176287567853833,\n",
              " 'f1': 0.7146347430951713}"
            ]
          },
          "metadata": {},
          "execution_count": 63
        }
      ]
    },
    {
      "cell_type": "markdown",
      "source": [
        "## Model 3: Conv1D with character embeddings\n",
        "\n",
        "* The paper that is being replicated, states that they used a token and character-level embeddings.\n",
        "In the previous model token-level embeddings were crated, but similar steps wrt the paper are needed to be taken if character level embeddings are to be used. "
      ],
      "metadata": {
        "id": "HIFklL4Y7U93"
      }
    },
    {
      "cell_type": "markdown",
      "source": [
        "### Create a charcter level tokenizer"
      ],
      "metadata": {
        "id": "Rd6pDl53w86Y"
      }
    },
    {
      "cell_type": "code",
      "source": [
        "train_sentences[:5]"
      ],
      "metadata": {
        "colab": {
          "base_uri": "https://localhost:8080/"
        },
        "id": "sAXAXSoQyuTb",
        "outputId": "3d8fd656-3851-465b-a80a-fc166aacd093"
      },
      "execution_count": null,
      "outputs": [
        {
          "output_type": "execute_result",
          "data": {
            "text/plain": [
              "['to investigate the efficacy of @ weeks of daily low-dose oral prednisolone in improving pain , mobility , and systemic low-grade inflammation in the short term and whether the effect would be sustained at @ weeks in older adults with moderate to severe knee osteoarthritis ( oa ) .',\n",
              " 'a total of @ patients with primary knee oa were randomized @:@ ; @ received @ mg/day of prednisolone and @ received placebo for @ weeks .',\n",
              " 'outcome measures included pain reduction and improvement in function scores and systemic inflammation markers .',\n",
              " 'pain was assessed using the visual analog pain scale ( @-@ mm ) .',\n",
              " 'secondary outcome measures included the western ontario and mcmaster universities osteoarthritis index scores , patient global assessment ( pga ) of the severity of knee oa , and @-min walk distance ( @mwd ) .']"
            ]
          },
          "metadata": {},
          "execution_count": 64
        }
      ]
    },
    {
      "cell_type": "code",
      "source": [
        "# Make function to split words into chars\n",
        "def split_chars(text):\n",
        "  return \" \".join(list(text))\n",
        "\n",
        "# Text splitting a non-character-level sequence into characters\n",
        "split_chars(target_sentence)"
      ],
      "metadata": {
        "colab": {
          "base_uri": "https://localhost:8080/",
          "height": 107
        },
        "id": "6v4QW2HcywgH",
        "outputId": "289e9f08-b691-4954-89fb-a524d497c754"
      },
      "execution_count": null,
      "outputs": [
        {
          "output_type": "execute_result",
          "data": {
            "text/plain": [
              "'a l l   p a t i e n t s   w e r e   l e s s   t h a n   @   y e a r s   o f   a g e   a n d   u n d e r w e n t   t h a w e d   e t   f o l l o w i n g   a l l   e m b r y o   c r y o p r e s e r v a t i o n   ,   a n d   w e r e   r a n d o m l y   d i v i d e d   i n t o   t w o   g r o u p s   f o r   t h a w e d   e t   u s i n g   a   c o n v e n t i o n a l   h o r m o n e   r e p l a c e m e n t   c y c l e   w i t h   o r   w i t h o u t   p r o s t a g l a n d i n   d e r i v a t i v e s   (   p r o s t a g l a n d i n   o r   c o n v e n t i o n a l   g r o u p   )   .'"
            ],
            "application/vnd.google.colaboratory.intrinsic+json": {
              "type": "string"
            }
          },
          "metadata": {},
          "execution_count": 65
        }
      ]
    },
    {
      "cell_type": "code",
      "source": [
        "\" \".join(list(train_sentences[0])) # actual working of the above function with an example"
      ],
      "metadata": {
        "colab": {
          "base_uri": "https://localhost:8080/",
          "height": 107
        },
        "id": "2k68YmPVz3HL",
        "outputId": "1edbf5f6-ef1e-45ab-8397-9e6d1cb7bcea"
      },
      "execution_count": null,
      "outputs": [
        {
          "output_type": "execute_result",
          "data": {
            "text/plain": [
              "'t o   i n v e s t i g a t e   t h e   e f f i c a c y   o f   @   w e e k s   o f   d a i l y   l o w - d o s e   o r a l   p r e d n i s o l o n e   i n   i m p r o v i n g   p a i n   ,   m o b i l i t y   ,   a n d   s y s t e m i c   l o w - g r a d e   i n f l a m m a t i o n   i n   t h e   s h o r t   t e r m   a n d   w h e t h e r   t h e   e f f e c t   w o u l d   b e   s u s t a i n e d   a t   @   w e e k s   i n   o l d e r   a d u l t s   w i t h   m o d e r a t e   t o   s e v e r e   k n e e   o s t e o a r t h r i t i s   (   o a   )   .'"
            ],
            "application/vnd.google.colaboratory.intrinsic+json": {
              "type": "string"
            }
          },
          "metadata": {},
          "execution_count": 66
        }
      ]
    },
    {
      "cell_type": "code",
      "source": [
        "# Split sequence-level data splits into char-level data splits\n",
        "train_chars = [split_chars(sentence) for sentence in train_sentences]\n",
        "val_chars = [split_chars(sentence) for sentence in val_sentences]\n",
        "test_chars = [split_chars(sentence) for sentence in test_sentences]\n",
        "train_chars[:5]"
      ],
      "metadata": {
        "colab": {
          "base_uri": "https://localhost:8080/"
        },
        "id": "M1y5Oil10G_y",
        "outputId": "8234b643-eb78-47ed-cb6b-d9ee2308ddca"
      },
      "execution_count": null,
      "outputs": [
        {
          "output_type": "execute_result",
          "data": {
            "text/plain": [
              "['t o   i n v e s t i g a t e   t h e   e f f i c a c y   o f   @   w e e k s   o f   d a i l y   l o w - d o s e   o r a l   p r e d n i s o l o n e   i n   i m p r o v i n g   p a i n   ,   m o b i l i t y   ,   a n d   s y s t e m i c   l o w - g r a d e   i n f l a m m a t i o n   i n   t h e   s h o r t   t e r m   a n d   w h e t h e r   t h e   e f f e c t   w o u l d   b e   s u s t a i n e d   a t   @   w e e k s   i n   o l d e r   a d u l t s   w i t h   m o d e r a t e   t o   s e v e r e   k n e e   o s t e o a r t h r i t i s   (   o a   )   .',\n",
              " 'a   t o t a l   o f   @   p a t i e n t s   w i t h   p r i m a r y   k n e e   o a   w e r e   r a n d o m i z e d   @ : @   ;   @   r e c e i v e d   @   m g / d a y   o f   p r e d n i s o l o n e   a n d   @   r e c e i v e d   p l a c e b o   f o r   @   w e e k s   .',\n",
              " 'o u t c o m e   m e a s u r e s   i n c l u d e d   p a i n   r e d u c t i o n   a n d   i m p r o v e m e n t   i n   f u n c t i o n   s c o r e s   a n d   s y s t e m i c   i n f l a m m a t i o n   m a r k e r s   .',\n",
              " 'p a i n   w a s   a s s e s s e d   u s i n g   t h e   v i s u a l   a n a l o g   p a i n   s c a l e   (   @ - @   m m   )   .',\n",
              " 's e c o n d a r y   o u t c o m e   m e a s u r e s   i n c l u d e d   t h e   w e s t e r n   o n t a r i o   a n d   m c m a s t e r   u n i v e r s i t i e s   o s t e o a r t h r i t i s   i n d e x   s c o r e s   ,   p a t i e n t   g l o b a l   a s s e s s m e n t   (   p g a   )   o f   t h e   s e v e r i t y   o f   k n e e   o a   ,   a n d   @ - m i n   w a l k   d i s t a n c e   (   @ m w d   )   .']"
            ]
          },
          "metadata": {},
          "execution_count": 67
        }
      ]
    },
    {
      "cell_type": "code",
      "source": [
        "# What's the avg charater len?\n",
        "char_len = [len(char) for char in train_sentences]\n",
        "avg_char_len = np.mean(char_len)\n",
        "avg_char_len"
      ],
      "metadata": {
        "colab": {
          "base_uri": "https://localhost:8080/"
        },
        "id": "c1y7s1gO1sKO",
        "outputId": "63428335-9b08-492e-f22f-bf3eda77307d"
      },
      "execution_count": null,
      "outputs": [
        {
          "output_type": "execute_result",
          "data": {
            "text/plain": [
              "149.3662574983337"
            ]
          },
          "metadata": {},
          "execution_count": 68
        }
      ]
    },
    {
      "cell_type": "code",
      "source": [
        "# Check the distribution of our sequence at charcter-level\n",
        "plt.hist(char_len, bins = 7);"
      ],
      "metadata": {
        "colab": {
          "base_uri": "https://localhost:8080/",
          "height": 265
        },
        "id": "8KTLKjRy6Sez",
        "outputId": "f8887acb-656f-4986-c232-d13016c0c24c"
      },
      "execution_count": null,
      "outputs": [
        {
          "output_type": "display_data",
          "data": {
            "text/plain": [
              "<Figure size 432x288 with 1 Axes>"
            ],
            "image/png": "[encoded data removed]"
          },
          "metadata": {
            "needs_background": "light"
          }
        }
      ]
    },
    {
      "cell_type": "code",
      "source": [
        "print(max(char_len))"
      ],
      "metadata": {
        "colab": {
          "base_uri": "https://localhost:8080/"
        },
        "id": "CaZ4IMwl7A0w",
        "outputId": "c96c67c2-3668-4619-8f01-1f537d037f42"
      },
      "execution_count": null,
      "outputs": [
        {
          "output_type": "stream",
          "name": "stdout",
          "text": [
            "1386\n"
          ]
        }
      ]
    },
    {
      "cell_type": "code",
      "source": [
        "# Find What character length covers 95% of sequences\n",
        "output_seq_char_len = int(np.percentile(char_len, 95))\n",
        "output_seq_char_len"
      ],
      "metadata": {
        "colab": {
          "base_uri": "https://localhost:8080/"
        },
        "id": "YzIz8R8Z8GKb",
        "outputId": "a525368b-44e2-471d-f8c0-3607280e2aec"
      },
      "execution_count": null,
      "outputs": [
        {
          "output_type": "execute_result",
          "data": {
            "text/plain": [
              "290"
            ]
          },
          "metadata": {},
          "execution_count": 71
        }
      ]
    },
    {
      "cell_type": "code",
      "source": [
        "import string\n",
        "sentence = \"nishant\"\n",
        "string.digits, string.ascii_lowercase, string.punctuation\n"
      ],
      "metadata": {
        "colab": {
          "base_uri": "https://localhost:8080/"
        },
        "id": "o_AGMMicKRni",
        "outputId": "55d14fe3-fb78-4f59-e75b-582258b542ec"
      },
      "execution_count": null,
      "outputs": [
        {
          "output_type": "execute_result",
          "data": {
            "text/plain": [
              "('0123456789',\n",
              " 'abcdefghijklmnopqrstuvwxyz',\n",
              " '!\"#$%&\\'()*+,-./:;<=>?@[\\\\]^_`{|}~')"
            ]
          },
          "metadata": {},
          "execution_count": 72
        }
      ]
    },
    {
      "cell_type": "code",
      "source": [
        "# Get all keyboard characters\n",
        "\n",
        "import string\n",
        "alphabet = string.ascii_lowercase + string.digits + string.punctuation\n",
        "alphabet"
      ],
      "metadata": {
        "colab": {
          "base_uri": "https://localhost:8080/",
          "height": 35
        },
        "id": "fdOsU2ORKe0a",
        "outputId": "91353ab3-9665-4ace-ae5b-4007972ba6d8"
      },
      "execution_count": null,
      "outputs": [
        {
          "output_type": "execute_result",
          "data": {
            "text/plain": [
              "'abcdefghijklmnopqrstuvwxyz0123456789!\"#$%&\\'()*+,-./:;<=>?@[\\\\]^_`{|}~'"
            ],
            "application/vnd.google.colaboratory.intrinsic+json": {
              "type": "string"
            }
          },
          "metadata": {},
          "execution_count": 73
        }
      ]
    },
    {
      "cell_type": "code",
      "source": [
        "len(alphabet)\n"
      ],
      "metadata": {
        "colab": {
          "base_uri": "https://localhost:8080/"
        },
        "id": "9QYUz17kLFPi",
        "outputId": "213e9275-0a26-4da8-ccf2-ef85429e9dff"
      },
      "execution_count": null,
      "outputs": [
        {
          "output_type": "execute_result",
          "data": {
            "text/plain": [
              "68"
            ]
          },
          "metadata": {},
          "execution_count": 74
        }
      ]
    },
    {
      "cell_type": "markdown",
      "source": [
        "* This is the length that is the value of max_tokens for the text_vectorizer layer\n",
        "* max_tokens = 68 means there are 68 different types of characters, \n",
        "including numbers, aplhabets and punctuations\n",
        "* Also max_tokens means, how many different types of charcters/words are there in a particular char_dataset or word_dataset, respectively."
      ],
      "metadata": {
        "id": "gOLYmRqaMjed"
      }
    },
    {
      "cell_type": "code",
      "source": [
        "# create char level token vectorizer instance\n",
        "NUM_CHAR_TOKENS = len(alphabet) + 2 # add 2 for space and OOV (out of vocab) respectively\n",
        "char_vectorizer = TextVectorization(max_tokens = NUM_CHAR_TOKENS,\n",
        "                                    output_mode = \"int\",\n",
        "                                    output_sequence_length = output_seq_char_len,\n",
        "                                    name = \"char_vectorizer\")"
      ],
      "metadata": {
        "id": "9s-_CYVyL-i0"
      },
      "execution_count": null,
      "outputs": []
    },
    {
      "cell_type": "code",
      "source": [
        "# Adapt to the train_sentences \n",
        "char_vectorizer.adapt(train_chars)"
      ],
      "metadata": {
        "id": "Vkmvy3EpO9JF"
      },
      "execution_count": null,
      "outputs": []
    },
    {
      "cell_type": "code",
      "source": [
        "char_vocab = char_vectorizer.get_vocabulary()\n",
        "print(f\"Number of different characters in the character vocab are: {len(char_vocab)}\")\n",
        "print(f\"Five most common characters are: {char_vocab[:5]}\")\n",
        "print(f\"5 Least common characters in the vocab are: {char_vocab[-5:]}\")"
      ],
      "metadata": {
        "colab": {
          "base_uri": "https://localhost:8080/"
        },
        "id": "6TJ_aVPtQQKv",
        "outputId": "a746b313-a854-4658-e83e-d8baa379f642"
      },
      "execution_count": null,
      "outputs": [
        {
          "output_type": "stream",
          "name": "stdout",
          "text": [
            "Number of different characters in the character vocab are: 28\n",
            "Five most common characters are: ['', '[UNK]', 'e', 't', 'i']\n",
            "5 Least common characters in the vocab are: ['k', 'x', 'z', 'q', 'j']\n"
          ]
        }
      ]
    },
    {
      "cell_type": "code",
      "source": [
        "import random \n",
        "target_char = random.choice(train_chars)\n",
        "char_vectorized_output = char_vectorizer(target_char)\n",
        "\n",
        "print(f\"-> The text before char vectorization is \\n\\n {target_char}\\n\\n\")\n",
        "print(f\"-> The length of target_char is: {len(target_char.split())}\")\n",
        "print(f\"\\n->The character tokenized text is\\n\\n {char_vectorized_output}\\n\")\n",
        "print(f\"-> The shape of character tokenized text is: {char_vectorized_output.shape}\")"
      ],
      "metadata": {
        "colab": {
          "base_uri": "https://localhost:8080/"
        },
        "id": "mS40tFS4M_3Z",
        "outputId": "a6a5f5b5-7068-40cb-909c-457a7e60c0b6"
      },
      "execution_count": null,
      "outputs": [
        {
          "output_type": "stream",
          "name": "stdout",
          "text": [
            "-> The text before char vectorization is \n",
            "\n",
            " t h e   p r i m a r y   o u t c o m e   w a s   a n   a n a l y s i s   o f   t h e   f e e d b a c k   c o n v e r s a t i o n   b e t w e e n   f a c u l t y   a n d   a   s i m u l a t e d   r e s i d e n t   (   a c t o r   )   b y   u s i n g   a v e r a g e s   o f   s i x   e l e m e n t s   o f   a   b e h a v i o r a l l y   a n c h o r e d   r a t i n g   s c a l e   a n d   a n   o b j e c t i v e   s t r u c t u r e d   a s s e s s m e n t   o f   f e e d b a c k   .\n",
            "\n",
            "\n",
            "-> The length of target_char is: 204\n",
            "\n",
            "->The character tokenized text is\n",
            "\n",
            " [ 3 13  2 14  8  4 15  5  8 19  7 16  3 11  7 15  2 20  5  9  5  6  5  6\n",
            "  5 12 19  9  4  9  7 17  3 13  2 17  2  2 10 22  5 11 23 11  7  6 21  2\n",
            "  8  9  5  3  4  7  6 22  2  3 20  2  2  6 17  5 11 16 12  3 19  5  6 10\n",
            "  5  9  4 15 16 12  5  3  2 10  8  2  9  4 10  2  6  3  5 11  3  7  8 22\n",
            " 19 16  9  4  6 18  5 21  2  8  5 18  2  9  7 17  9  4 24  2 12  2 15  2\n",
            "  6  3  9  7 17  5 22  2 13  5 21  4  7  8  5 12 12 19  5  6 11 13  7  8\n",
            "  2 10  8  5  3  4  6 18  9 11  5 12  2  5  6 10  5  6  7 22 27  2 11  3\n",
            "  4 21  2  9  3  8 16 11  3 16  8  2 10  5  9  9  2  9  9 15  2  6  3  7\n",
            " 17 17  2  2 10 22  5 11 23  0  0  0  0  0  0  0  0  0  0  0  0  0  0  0\n",
            "  0  0  0  0  0  0  0  0  0  0  0  0  0  0  0  0  0  0  0  0  0  0  0  0\n",
            "  0  0  0  0  0  0  0  0  0  0  0  0  0  0  0  0  0  0  0  0  0  0  0  0\n",
            "  0  0  0  0  0  0  0  0  0  0  0  0  0  0  0  0  0  0  0  0  0  0  0  0\n",
            "  0  0]\n",
            "\n",
            "-> The shape of character tokenized text is: (290,)\n"
          ]
        }
      ]
    },
    {
      "cell_type": "code",
      "source": [
        "output_seq_char_len"
      ],
      "metadata": {
        "colab": {
          "base_uri": "https://localhost:8080/"
        },
        "id": "FZ2UjBrwVfbF",
        "outputId": "e09075ee-e0ef-407a-bf15-d9f6128f0ff9"
      },
      "execution_count": null,
      "outputs": [
        {
          "output_type": "execute_result",
          "data": {
            "text/plain": [
              "290"
            ]
          },
          "metadata": {},
          "execution_count": 79
        }
      ]
    },
    {
      "cell_type": "markdown",
      "source": [
        "### Creating the character level embedding layer"
      ],
      "metadata": {
        "id": "6KfmBHplYsb8"
      }
    },
    {
      "cell_type": "code",
      "source": [
        "# Creating the character level embedding layer\n",
        "char_embedding_layer = tf.keras.layers.Embedding(input_dim = len(char_vocab), # no of different chaaracters in the vocab\n",
        "                                                 output_dim = 25, # how long should be the length or dimension of the o/p vector (25 is the length of o/p char embedding layer in the PubMed 200k rct)\n",
        "                                                 mask_zero = True,\n",
        "                                                 name = \"char_embed\")"
      ],
      "metadata": {
        "id": "PXhJqxRpOyNE"
      },
      "execution_count": null,
      "outputs": []
    },
    {
      "cell_type": "code",
      "source": [
        "# Ceck out the char level embedding layer\n",
        "import random\n",
        "target_char = random.choice(train_chars)\n",
        "char_tokenized_text = char_vectorizer([target_char])\n",
        "char_embed_vector = char_embedding_layer(char_tokenized_text)\n",
        "print(f\"The normal text is:\\n\\n {target_char}\")\n",
        "print(f\"\\nChar_Tokenized text is\\n\\n {char_tokenized_text}\")\n",
        "print(f\"\\nShape of Tokenized text is {char_tokenized_text.shape}\")\n",
        "print(f\"\\nThe embedded vector is:\\n\\n {char_embed_vector}\\n\")\n",
        "print(f\"Shape of embedded vector is: {char_embed_vector.shape}\")"
      ],
      "metadata": {
        "colab": {
          "base_uri": "https://localhost:8080/"
        },
        "id": "WDxvttPFVh2X",
        "outputId": "4d352f34-d59a-4b78-c438-7c2eeeecb2b6"
      },
      "execution_count": null,
      "outputs": [
        {
          "output_type": "stream",
          "name": "stdout",
          "text": [
            "The normal text is:\n",
            "\n",
            " w e   r e c r u i t e d   @   f e m a l e   p a t i e n t s   (   @   @   y e a r s   o l d   )   w i t h   t r e a t m e n t - r e s i s t a n t   u n i p o l a r   m a j o r   d e p r e s s i o n   (   h a m i l t o n   d e p r e s s i o n   r a t i n g   s c a l e   - l s b -   h d r s   - r s b -   s c o r e   @   )   w h o   w e r e   o n   a   s t a b l e   a n t i d e p r e s s a n t   t r e a t m e n t   .\n",
            "\n",
            "Char_Tokenized text is\n",
            "\n",
            " [[20  2  8  2 11  8 16  4  3  2 10 17  2 15  5 12  2 14  5  3  4  2  6  3\n",
            "   9 19  2  5  8  9  7 12 10 20  4  3 13  3  8  2  5  3 15  2  6  3  8  2\n",
            "   9  4  9  3  5  6  3 16  6  4 14  7 12  5  8 15  5 27  7  8 10  2 14  8\n",
            "   2  9  9  4  7  6 13  5 15  4 12  3  7  6 10  2 14  8  2  9  9  4  7  6\n",
            "   8  5  3  4  6 18  9 11  5 12  2 12  9 22 13 10  8  9  8  9 22  9 11  7\n",
            "   8  2 20 13  7 20  2  8  2  7  6  5  9  3  5 22 12  2  5  6  3  4 10  2\n",
            "  14  8  2  9  9  5  6  3  3  8  2  5  3 15  2  6  3  0  0  0  0  0  0  0\n",
            "   0  0  0  0  0  0  0  0  0  0  0  0  0  0  0  0  0  0  0  0  0  0  0  0\n",
            "   0  0  0  0  0  0  0  0  0  0  0  0  0  0  0  0  0  0  0  0  0  0  0  0\n",
            "   0  0  0  0  0  0  0  0  0  0  0  0  0  0  0  0  0  0  0  0  0  0  0  0\n",
            "   0  0  0  0  0  0  0  0  0  0  0  0  0  0  0  0  0  0  0  0  0  0  0  0\n",
            "   0  0  0  0  0  0  0  0  0  0  0  0  0  0  0  0  0  0  0  0  0  0  0  0\n",
            "   0  0]]\n",
            "\n",
            "Shape of Tokenized text is (1, 290)\n",
            "\n",
            "The embedded vector is:\n",
            "\n",
            " [[[-0.03578997  0.04746031 -0.04045769 ...  0.00865914  0.0108517\n",
            "    0.01631178]\n",
            "  [-0.00715144  0.02806601  0.04504358 ... -0.01628636  0.03090436\n",
            "    0.04649282]\n",
            "  [ 0.04168396  0.02109407 -0.04601675 ...  0.0015991  -0.03907093\n",
            "   -0.02451632]\n",
            "  ...\n",
            "  [-0.02490081  0.03182412 -0.03293871 ...  0.01603336 -0.00072138\n",
            "    0.00034461]\n",
            "  [-0.02490081  0.03182412 -0.03293871 ...  0.01603336 -0.00072138\n",
            "    0.00034461]\n",
            "  [-0.02490081  0.03182412 -0.03293871 ...  0.01603336 -0.00072138\n",
            "    0.00034461]]]\n",
            "\n",
            "Shape of embedded vector is: (1, 290, 25)\n"
          ]
        }
      ]
    },
    {
      "cell_type": "markdown",
      "source": [
        "`Feature_vector`\n",
        "* In the above example the output is the 25 long feature vector.\n",
        "Therefore the embedding layer gives us the feature vector"
      ],
      "metadata": {
        "id": "nvrczIG6Z_4u"
      }
    },
    {
      "cell_type": "markdown",
      "source": [
        "`mask_zero = True`\n",
        "* The process of informing the Model that some part of the Data is actually Padding and should be ignored is called `Masking`."
      ],
      "metadata": {
        "id": "xMbdX6G5ay86"
      }
    },
    {
      "cell_type": "markdown",
      "source": [
        "### Build a Conv1D model with character_level tokenization and emebedding layers"
      ],
      "metadata": {
        "id": "bKe-uTLka2Ak"
      }
    },
    {
      "cell_type": "code",
      "source": [
        "inputs = tf.keras.Input(shape = (1, ), dtype = tf.string)\n",
        "vectorized = char_vectorizer(inputs)\n",
        "embedding_layer = char_embedding_layer(vectorized)\n",
        "conv_layer = tf.keras.layers.Conv1D(filters = 128,\n",
        "                                    kernel_size = 5,\n",
        "                                    padding = \"same\",\n",
        "                                    activation = \"relu\")(embedding_layer)\n",
        "another_layer = tf.keras.layers.Dense(64, activation = \"relu\")(conv_layer)                                    \n",
        "normalized = tf.keras.layers.GlobalMaxPool1D()(another_layer)                                    \n",
        "output_layer = tf.keras.layers.Dense(5, activation = \"softmax\")(normalized)\n",
        "model_3 = tf.keras.Model(inputs, output_layer, name = \"Char_embedding_model\")                                   \n"
      ],
      "metadata": {
        "id": "LDy-Zt2rbjSn"
      },
      "execution_count": null,
      "outputs": []
    },
    {
      "cell_type": "code",
      "source": [
        "model_3.summary()"
      ],
      "metadata": {
        "colab": {
          "base_uri": "https://localhost:8080/"
        },
        "id": "91SZjy5Bg7GB",
        "outputId": "74dc87b4-8475-4b2e-bc46-0dbda6081458"
      },
      "execution_count": null,
      "outputs": [
        {
          "output_type": "stream",
          "name": "stdout",
          "text": [
            "Model: \"Char_embedding_model\"\n",
            "_________________________________________________________________\n",
            " Layer (type)                Output Shape              Param #   \n",
            "=================================================================\n",
            " input_3 (InputLayer)        [(None, 1)]               0         \n",
            "                                                                 \n",
            " char_vectorizer (TextVector  (None, 290)              0         \n",
            " ization)                                                        \n",
            "                                                                 \n",
            " char_embed (Embedding)      (None, 290, 25)           700       \n",
            "                                                                 \n",
            " conv1d_1 (Conv1D)           (None, 290, 128)          16128     \n",
            "                                                                 \n",
            " dense_3 (Dense)             (None, 290, 64)           8256      \n",
            "                                                                 \n",
            " global_max_pooling1d (Globa  (None, 64)               0         \n",
            " lMaxPooling1D)                                                  \n",
            "                                                                 \n",
            " dense_4 (Dense)             (None, 5)                 325       \n",
            "                                                                 \n",
            "=================================================================\n",
            "Total params: 25,409\n",
            "Trainable params: 25,409\n",
            "Non-trainable params: 0\n",
            "_________________________________________________________________\n"
          ]
        }
      ]
    },
    {
      "cell_type": "code",
      "source": [
        "model_3.compile(loss = \"categorical_crossentropy\",\n",
        "                optimizer = tf.keras.optimizers.Adam(),\n",
        "                metrics = [\"accuracy\"])"
      ],
      "metadata": {
        "id": "xNm6z4OOf0qw"
      },
      "execution_count": null,
      "outputs": []
    },
    {
      "cell_type": "code",
      "source": [
        "# create char level datasets\n",
        "train_char_dataset = tf.data.Dataset.from_tensor_slices((train_chars, train_labels_one_hot)).batch(batch_size = 32).prefetch(buffer_size = tf.data.AUTOTUNE)\n",
        "valid_char_dataset = tf.data.Dataset.from_tensor_slices((val_chars, val_labels_one_hot)).batch(batch_size = 32).prefetch(buffer_size = tf.data.AUTOTUNE)\n",
        "test_char_dataset = tf.data.Dataset.from_tensor_slices((test_chars, test_labels_one_hot)).batch(batch_size = 32).prefetch(buffer_size = tf.data.AUTOTUNE)"
      ],
      "metadata": {
        "id": "AOqJfEHZj0ty"
      },
      "execution_count": null,
      "outputs": []
    },
    {
      "cell_type": "code",
      "source": [
        "model_3_history = model_3.fit(train_char_dataset,\n",
        "                              steps_per_epoch= int(0.1 * len(train_char_dataset)),\n",
        "                              epochs = 5,\n",
        "                              validation_data= valid_char_dataset,\n",
        "                              validation_steps= int(0.1 * len(valid_char_dataset)),\n",
        "                              callbacks = [create_tensorboard_callback(dir_name = SAVE_DIR,\n",
        "                                                                       experiment_name = \"model_3_charLevel_embeds\")])"
      ],
      "metadata": {
        "colab": {
          "base_uri": "https://localhost:8080/"
        },
        "id": "sfICQKLGgHel",
        "outputId": "c002ee93-9081-4c81-8682-7f92eb597b85"
      },
      "execution_count": null,
      "outputs": [
        {
          "output_type": "stream",
          "name": "stdout",
          "text": [
            "saving TensorBoard log files to : model_logs/model_3_charLevel_embeds/20230227-020326\n",
            "Epoch 1/5\n",
            "562/562 [==============================] - 7s 10ms/step - loss: 1.2027 - accuracy: 0.5032 - val_loss: 0.9835 - val_accuracy: 0.6017\n",
            "Epoch 2/5\n",
            "562/562 [==============================] - 4s 7ms/step - loss: 0.9630 - accuracy: 0.6142 - val_loss: 0.9046 - val_accuracy: 0.6433\n",
            "Epoch 3/5\n",
            "562/562 [==============================] - 4s 6ms/step - loss: 0.9036 - accuracy: 0.6433 - val_loss: 0.8509 - val_accuracy: 0.6695\n",
            "Epoch 4/5\n",
            "562/562 [==============================] - 5s 8ms/step - loss: 0.8454 - accuracy: 0.6704 - val_loss: 0.8163 - val_accuracy: 0.6805\n",
            "Epoch 5/5\n",
            "562/562 [==============================] - 4s 7ms/step - loss: 0.8259 - accuracy: 0.6798 - val_loss: 0.8169 - val_accuracy: 0.6872\n"
          ]
        }
      ]
    },
    {
      "cell_type": "code",
      "source": [
        "# Evaluate the model_3\n",
        "model_3.evaluate(valid_char_dataset)"
      ],
      "metadata": {
        "id": "1AeLiJ6Tg9vq",
        "colab": {
          "base_uri": "https://localhost:8080/"
        },
        "outputId": "1e0121cd-d868-4d98-eb78-b978cc4594f5"
      },
      "execution_count": null,
      "outputs": [
        {
          "output_type": "stream",
          "name": "stdout",
          "text": [
            "945/945 [==============================] - 4s 4ms/step - loss: 0.8239 - accuracy: 0.6827\n"
          ]
        },
        {
          "output_type": "execute_result",
          "data": {
            "text/plain": [
              "[0.8239185810089111, 0.6826757788658142]"
            ]
          },
          "metadata": {},
          "execution_count": 87
        }
      ]
    },
    {
      "cell_type": "code",
      "source": [
        "model_3_pred_probs = model_3.predict(valid_char_dataset)\n",
        "model_3_pred_probs[:5]"
      ],
      "metadata": {
        "colab": {
          "base_uri": "https://localhost:8080/"
        },
        "id": "4DD5KUgMlicb",
        "outputId": "3b8f1eba-9925-4b26-ae57-88f4a66f15a7"
      },
      "execution_count": null,
      "outputs": [
        {
          "output_type": "stream",
          "name": "stdout",
          "text": [
            "945/945 [==============================] - 4s 4ms/step\n"
          ]
        },
        {
          "output_type": "execute_result",
          "data": {
            "text/plain": [
              "array([[0.40483138, 0.35161936, 0.02567575, 0.20373252, 0.0141409 ],\n",
              "       [0.16169724, 0.73522896, 0.00435953, 0.07719199, 0.0215222 ],\n",
              "       [0.167426  , 0.29428697, 0.06189859, 0.44266966, 0.03371879],\n",
              "       [0.01529025, 0.01952993, 0.9240409 , 0.00911061, 0.03202822],\n",
              "       [0.01795222, 0.07836084, 0.85704666, 0.00780195, 0.03883832]],\n",
              "      dtype=float32)"
            ]
          },
          "metadata": {},
          "execution_count": 88
        }
      ]
    },
    {
      "cell_type": "code",
      "source": [
        "# Convert predictions to class labels\n",
        "model_3_preds = tf.argmax(model_3_pred_probs, axis = 1)\n",
        "model_3_preds[:5]"
      ],
      "metadata": {
        "colab": {
          "base_uri": "https://localhost:8080/"
        },
        "id": "ONk1KmH2l2Tv",
        "outputId": "83315e7f-5f8a-4fb6-9ee5-6af273a95807"
      },
      "execution_count": null,
      "outputs": [
        {
          "output_type": "execute_result",
          "data": {
            "text/plain": [
              "<tf.Tensor: shape=(5,), dtype=int64, numpy=array([0, 1, 3, 2, 2])>"
            ]
          },
          "metadata": {},
          "execution_count": 89
        }
      ]
    },
    {
      "cell_type": "code",
      "source": [
        "model_3_results = calculate_results(y_true = val_labels_encoded,\n",
        "                                    y_pred = model_3_preds)\n",
        "model_3_results"
      ],
      "metadata": {
        "colab": {
          "base_uri": "https://localhost:8080/"
        },
        "id": "ZIT8WtVll-z8",
        "outputId": "a0686b26-0894-49ca-b54f-961d56ed76ff"
      },
      "execution_count": null,
      "outputs": [
        {
          "output_type": "execute_result",
          "data": {
            "text/plain": [
              "{'accuracy': 68.26757579769628,\n",
              " 'precision': 0.7023736263347728,\n",
              " 'recall': 0.6826757579769628,\n",
              " 'f1': 0.6872941381068012}"
            ]
          },
          "metadata": {},
          "execution_count": 90
        }
      ]
    },
    {
      "cell_type": "code",
      "source": [
        "model_2_results"
      ],
      "metadata": {
        "colab": {
          "base_uri": "https://localhost:8080/"
        },
        "id": "BYmmkW8YmURl",
        "outputId": "c4e04d67-9f5b-4ad1-a82f-7ec2747cd358"
      },
      "execution_count": null,
      "outputs": [
        {
          "output_type": "execute_result",
          "data": {
            "text/plain": [
              "{'accuracy': 71.76287567853834,\n",
              " 'precision': 0.7174264972038783,\n",
              " 'recall': 0.7176287567853833,\n",
              " 'f1': 0.7146347430951713}"
            ]
          },
          "metadata": {},
          "execution_count": 91
        }
      ]
    },
    {
      "cell_type": "markdown",
      "source": [
        "One_hot_encoded data is used for fitting and training the model, whereas the label encoded data is used for comapring and getting results (as we have to comapre apples with apples)"
      ],
      "metadata": {
        "id": "e8Q5tyETnOx6"
      }
    },
    {
      "cell_type": "markdown",
      "source": [
        "## Model 4: Combining pretrained token embeddings + characters\n",
        "1. Create a token-level embedding model (similar to `model_1`)\n",
        "2. Create a character-level model (similar to `model_3`)\n",
        "3. Combine 1 and 2 with a concatenate (`layers.Concatenate`)\n",
        "4. Build a series of o/p layers on top of step 3 similar to figure 1 and section 4.2 of paper(`1612.05251` of arxiv.org)\n",
        "5. Construct a model which takes token and character-level sequences as input and produces sequence label probabilities as o/p."
      ],
      "metadata": {
        "id": "9f4EM20fp1dx"
      }
    },
    {
      "cell_type": "code",
      "source": [
        "# # 1. Setup token inputs/model\n",
        "# token_inputs = tf.keras.layers.Input(shape = [], dtype = tf.string)\n",
        "# token_embeddings = sentence_encoder_layer(token_inputs)\n",
        "# token_outputs = tf.keras.layers.Dense(128, activation = \"relu\")(token_embeddings)\n",
        "# token_model = tf.keras.Model(inputs = token_inputs,\n",
        "#                              outputs = token_outputs)"
      ],
      "metadata": {
        "id": "5ERkw0Z150xj"
      },
      "execution_count": null,
      "outputs": []
    },
    {
      "cell_type": "code",
      "source": [
        "# # 2. Create a character level model\n",
        "# char_inputs = tf.keras.layers.Input(shape = (1, ), dtype = tf.string)\n",
        "# char_vectorized_values = char_vectorizer(char_inputs)\n",
        "# char_embeddings = char_embedding_layer(char_vectorized_values)\n",
        "# char_bi_lstm = tf.keras.layers.Bidirectional(tf.keras.layers.LSTM(24))(char_embeddings)\n",
        "\n",
        "# char_model = tf.keras.Model(inputs = char_inputs,\n",
        "#                             outputs = char_bi_lstm)"
      ],
      "metadata": {
        "id": "fKGhrErA8Z-B"
      },
      "execution_count": null,
      "outputs": []
    },
    {
      "cell_type": "code",
      "source": [
        "# # 3. Concatenate token and char inputs (create hybrid token embedding)\n",
        "# token_char_concat = tf.keras.layers.Concatenate(name = \"token_char_hybrid\")([token_model.output,\n",
        "#                                                                              char_model.output])"
      ],
      "metadata": {
        "id": "jYbyLyW79LqI"
      },
      "execution_count": null,
      "outputs": []
    },
    {
      "cell_type": "code",
      "source": [
        "# # 4. Create o/p layers adding in Dropout\n",
        "# combined_dropout = tf.keras.layers.Dropout(0.5)(token_char_concat)\n",
        "# combined_dense = tf.keras.layers.Dense(128, activation = \"relu\")(combined_dropout)\n",
        "# final_dropout = tf.keras.layers.Dropout(0.5)(combined_dense)\n",
        "# output_layer = tf.keras.layers.Dense(5, activation = \"softmax\")(final_dropout)\n",
        "\n",
        "\n",
        "# # 5. Construct model with char and token inputs\n",
        "# model_4 = tf.keras.Model(inputs = [token_model.input, char_model.input],\n",
        "#                          outputs = output_layer,\n",
        "#                          name = \"model_4_token_char_embeddings\")"
      ],
      "metadata": {
        "id": "JVgZoIakAfB0"
      },
      "execution_count": null,
      "outputs": []
    },
    {
      "cell_type": "code",
      "source": [
        "# model_4.summary()"
      ],
      "metadata": {
        "id": "PhOgvFf2EKnx"
      },
      "execution_count": null,
      "outputs": []
    },
    {
      "cell_type": "code",
      "source": [
        "# model_4.compile(loss = \"categorical_crossentropy\",\n",
        "#                 optimizer = tf.keras.optimizers.Adam(),\n",
        "#                 metrics = [\"accuracy\"])"
      ],
      "metadata": {
        "id": "9wBNvqGyD4qU"
      },
      "execution_count": null,
      "outputs": []
    },
    {
      "cell_type": "code",
      "source": [
        "# 1. Setup token inputs/model\n",
        "# 2. Create a character level model\n",
        "# 3. Concatenate token and char inputs (create hybrid token embedding)\n",
        "# 4. Create o/p layers adding in Dropout\n",
        "# 5. Construct model with char and token inputs\n",
        "\n",
        "\n",
        "# 1.\n",
        "token_inputs = tf.keras.layers.Input(shape = [], dtype = tf.string, name = \"token_input\")\n",
        "embedding_vectors = sentence_encoder_layer(token_inputs)\n",
        "token_outputs = tf.keras.layers.Dense(128, activation= \"relu\")(embedding_vectors)\n",
        "token_model = tf.keras.Model(inputs = token_inputs,\n",
        "                             outputs = token_outputs)\n",
        "\n",
        "\n",
        "# 2.\n",
        "char_inputs = tf.keras.layers.Input(shape = (1, ), dtype = tf.string, name = \"char_input\")\n",
        "char_vectors = char_vectorizer(char_inputs)\n",
        "char_embeddings = char_embedding_layer(char_vectors)\n",
        "char_bi_lstm = tf.keras.layers.Bidirectional(tf.keras.layers.LSTM(24))(char_embeddings)\n",
        "char_model = tf.keras.Model(inputs = char_inputs,\n",
        "                            outputs = char_bi_lstm)\n",
        "\n",
        "# 3. \n",
        "token_char_concat = tf.keras.layers.Concatenate(name = \"token_char_concatenate\")([token_model.output, char_model.output])\n",
        "\n",
        "# 4. \n",
        "dropout_layer = tf.keras.layers.Dropout(0.5)(token_char_concat)\n",
        "combined_dense = tf.keras.layers.Dense(128, activation = \"softmax\")(dropout_layer)\n",
        "final_dropout = tf.keras.layers.Dropout(0.5)(combined_dense)\n",
        "output_layer = tf.keras.layers.Dense(num_classes, activation = \"softmax\")(final_dropout)\n",
        "\n",
        "# 5. \n",
        "model_4 = tf.keras.Model(inputs = [token_model.input, char_model.input],\n",
        "                         outputs = output_layer,\n",
        "                         name = \"model_4_hybrid\")\n"
      ],
      "metadata": {
        "id": "_L47RYgJEJ9M"
      },
      "execution_count": null,
      "outputs": []
    },
    {
      "cell_type": "code",
      "source": [
        "model_4.summary()"
      ],
      "metadata": {
        "colab": {
          "base_uri": "https://localhost:8080/"
        },
        "id": "56b86sS9FCH0",
        "outputId": "b4f663e2-4210-4c7c-bb2c-4021d10c2fac"
      },
      "execution_count": null,
      "outputs": [
        {
          "output_type": "stream",
          "name": "stdout",
          "text": [
            "Model: \"model_4_hybrid\"\n",
            "__________________________________________________________________________________________________\n",
            " Layer (type)                   Output Shape         Param #     Connected to                     \n",
            "==================================================================================================\n",
            " char_input (InputLayer)        [(None, 1)]          0           []                               \n",
            "                                                                                                  \n",
            " token_input (InputLayer)       [(None,)]            0           []                               \n",
            "                                                                                                  \n",
            " char_vectorizer (TextVectoriza  (None, 290)         0           ['char_input[0][0]']             \n",
            " tion)                                                                                            \n",
            "                                                                                                  \n",
            " USE (KerasLayer)               (None, 512)          256797824   ['token_input[0][0]']            \n",
            "                                                                                                  \n",
            " char_embed (Embedding)         (None, 290, 25)      700         ['char_vectorizer[1][0]']        \n",
            "                                                                                                  \n",
            " dense_5 (Dense)                (None, 128)          65664       ['USE[1][0]']                    \n",
            "                                                                                                  \n",
            " bidirectional (Bidirectional)  (None, 48)           9600        ['char_embed[1][0]']             \n",
            "                                                                                                  \n",
            " token_char_concatenate (Concat  (None, 176)         0           ['dense_5[0][0]',                \n",
            " enate)                                                           'bidirectional[0][0]']          \n",
            "                                                                                                  \n",
            " dropout (Dropout)              (None, 176)          0           ['token_char_concatenate[0][0]'] \n",
            "                                                                                                  \n",
            " dense_6 (Dense)                (None, 128)          22656       ['dropout[0][0]']                \n",
            "                                                                                                  \n",
            " dropout_1 (Dropout)            (None, 128)          0           ['dense_6[0][0]']                \n",
            "                                                                                                  \n",
            " dense_7 (Dense)                (None, 5)            645         ['dropout_1[0][0]']              \n",
            "                                                                                                  \n",
            "==================================================================================================\n",
            "Total params: 256,897,089\n",
            "Trainable params: 99,265\n",
            "Non-trainable params: 256,797,824\n",
            "__________________________________________________________________________________________________\n"
          ]
        }
      ]
    },
    {
      "cell_type": "code",
      "source": [
        "# Plot hybrid token and character model\n",
        "from keras.utils import plot_model\n",
        "plot_model(model_4, show_shapes = True)"
      ],
      "metadata": {
        "colab": {
          "base_uri": "https://localhost:8080/",
          "height": 976
        },
        "id": "kYbHLnOQIY8O",
        "outputId": "e55a1c51-79a3-4e3d-dc28-5213e4121b9a"
      },
      "execution_count": null,
      "outputs": [
        {
          "output_type": "execute_result",
          "data": {
            "image/png": "[encoded data removed]",
            "text/plain": [
              "<IPython.core.display.Image object>"
            ]
          },
          "metadata": {},
          "execution_count": 100
        }
      ]
    },
    {
      "cell_type": "code",
      "source": [
        "model_4.compile(loss = \"categorical_crossentropy\",\n",
        "                optimizer = tf.optimizers.Adam(),\n",
        "                metrics = [\"accuracy\"])"
      ],
      "metadata": {
        "id": "CmKza-n-Jim3"
      },
      "execution_count": null,
      "outputs": []
    },
    {
      "cell_type": "markdown",
      "source": [
        "### Combining token and character data into a tf.data.Dataset"
      ],
      "metadata": {
        "id": "d95C8690H_U0"
      }
    },
    {
      "cell_type": "code",
      "source": [
        "# Combine chars and tokens into a dataset\n",
        "train_char_token_data =  tf.data.Dataset.from_tensor_slices((train_sentences, train_chars)) #make data\n",
        "train_char_token_labels = tf.data.Dataset.from_tensor_slices(train_labels_one_hot) # make labels\n",
        "train_char_token_dataset = tf.data.Dataset.zip((train_char_token_data, train_char_token_labels)) # combine data and labels\n",
        "\n",
        "# Prefetch and batch train data\n",
        "train_char_token_dataset = train_char_token_dataset.batch(batch_size = 32).prefetch(buffer_size = tf.data.AUTOTUNE)\n",
        "\n",
        "# Preparing val dataset\n",
        "val_char_token_data = tf.data.Dataset.from_tensor_slices((val_sentences, val_chars))\n",
        "val_char_token_labels = tf.data.Dataset.from_tensor_slices(val_labels_one_hot)\n",
        "val_char_token_dataset = tf.data.Dataset.zip((val_char_token_data, val_char_token_labels))\n",
        "\n",
        "# Prefetch and batch val dataset\n",
        "val_char_token_dataset = val_char_token_dataset.batch(32).prefetch(tf.data.AUTOTUNE)\n",
        "\n",
        "# Preparing test dataset\n",
        "test_char_token_data = tf.data.Dataset.from_tensor_slices((test_sentences, test_chars))\n",
        "test_char_token_labels = tf.data.Dataset.from_tensor_slices(test_labels_one_hot)\n",
        "test_char_token_dataset = tf.data.Dataset.zip((test_char_token_data, test_char_token_labels))\n",
        "\n",
        "# Prefetch and batch test dataset \n",
        "test_char_token_dataset = test_char_token_dataset.batch(32).prefetch(tf.data.AUTOTUNE)"
      ],
      "metadata": {
        "id": "D_NKQBNaPYsm"
      },
      "execution_count": null,
      "outputs": []
    },
    {
      "cell_type": "code",
      "source": [
        "train_char_token_dataset, val_char_token_dataset"
      ],
      "metadata": {
        "colab": {
          "base_uri": "https://localhost:8080/"
        },
        "id": "nuqAj9GILJhp",
        "outputId": "9208a2ff-1670-4b53-8318-dac46924fd2d"
      },
      "execution_count": null,
      "outputs": [
        {
          "output_type": "execute_result",
          "data": {
            "text/plain": [
              "(<PrefetchDataset element_spec=((TensorSpec(shape=(None,), dtype=tf.string, name=None), TensorSpec(shape=(None,), dtype=tf.string, name=None)), TensorSpec(shape=(None, 5), dtype=tf.float64, name=None))>,\n",
              " <PrefetchDataset element_spec=((TensorSpec(shape=(None,), dtype=tf.string, name=None), TensorSpec(shape=(None,), dtype=tf.string, name=None)), TensorSpec(shape=(None, 5), dtype=tf.float64, name=None))>)"
            ]
          },
          "metadata": {},
          "execution_count": 103
        }
      ]
    },
    {
      "cell_type": "markdown",
      "source": [
        "### Fitting a model on token and character-level sequences"
      ],
      "metadata": {
        "id": "YpGdbVCCOVwo"
      }
    },
    {
      "cell_type": "code",
      "source": [
        "model_4_history = model_4.fit(train_char_token_dataset,\n",
        "                              steps_per_epoch = int(0.1 * len(train_char_token_dataset)),\n",
        "                              epochs = 5,\n",
        "                              validation_data = val_char_token_dataset,\n",
        "                              validation_steps = int(0.1 * len(val_char_token_dataset)))"
      ],
      "metadata": {
        "colab": {
          "base_uri": "https://localhost:8080/"
        },
        "id": "oMeJlyr9Md6D",
        "outputId": "26f5eab5-dffb-429b-a0e8-fc8512160775"
      },
      "execution_count": null,
      "outputs": [
        {
          "output_type": "stream",
          "name": "stdout",
          "text": [
            "Epoch 1/5\n",
            "562/562 [==============================] - 44s 60ms/step - loss: 1.3742 - accuracy: 0.4446 - val_loss: 1.1564 - val_accuracy: 0.6130\n",
            "Epoch 2/5\n",
            "562/562 [==============================] - 31s 56ms/step - loss: 1.1673 - accuracy: 0.5438 - val_loss: 1.0398 - val_accuracy: 0.6263\n",
            "Epoch 3/5\n",
            "562/562 [==============================] - 25s 44ms/step - loss: 1.1020 - accuracy: 0.5666 - val_loss: 0.9837 - val_accuracy: 0.6307\n",
            "Epoch 4/5\n",
            "562/562 [==============================] - 28s 50ms/step - loss: 1.0493 - accuracy: 0.5800 - val_loss: 0.9413 - val_accuracy: 0.6363\n",
            "Epoch 5/5\n",
            "562/562 [==============================] - 26s 46ms/step - loss: 1.0375 - accuracy: 0.5891 - val_loss: 0.9089 - val_accuracy: 0.6509\n"
          ]
        }
      ]
    },
    {
      "cell_type": "code",
      "source": [
        "# Evaluate the model on all of the val dataset.\n",
        "model_4.evaluate(val_char_token_dataset)"
      ],
      "metadata": {
        "colab": {
          "base_uri": "https://localhost:8080/"
        },
        "id": "cHVf9imtN_K3",
        "outputId": "a3b3805c-8b1e-4901-f639-bfb696732b27"
      },
      "execution_count": null,
      "outputs": [
        {
          "output_type": "stream",
          "name": "stdout",
          "text": [
            "945/945 [==============================] - 19s 20ms/step - loss: 0.9089 - accuracy: 0.6579\n"
          ]
        },
        {
          "output_type": "execute_result",
          "data": {
            "text/plain": [
              "[0.9089277386665344, 0.6578842997550964]"
            ]
          },
          "metadata": {},
          "execution_count": 105
        }
      ]
    },
    {
      "cell_type": "code",
      "source": [
        "# Make preds with the model\n",
        "model_4_pred_probs = model_4.predict(val_char_token_dataset)\n",
        "model_4_pred_probs[:1]"
      ],
      "metadata": {
        "id": "zAsKlx6dOQ9q",
        "colab": {
          "base_uri": "https://localhost:8080/"
        },
        "outputId": "389dd6a2-1784-4347-8a11-5f8577cfc3fa"
      },
      "execution_count": null,
      "outputs": [
        {
          "output_type": "stream",
          "name": "stdout",
          "text": [
            "945/945 [==============================] - 21s 19ms/step\n"
          ]
        },
        {
          "output_type": "execute_result",
          "data": {
            "text/plain": [
              "array([[0.29139057, 0.3311771 , 0.10502677, 0.17033838, 0.10206716]],\n",
              "      dtype=float32)"
            ]
          },
          "metadata": {},
          "execution_count": 106
        }
      ]
    },
    {
      "cell_type": "code",
      "source": [
        "model_4_pred_probs.shape"
      ],
      "metadata": {
        "colab": {
          "base_uri": "https://localhost:8080/"
        },
        "id": "SxFh9W5DPWNx",
        "outputId": "41445676-5280-4489-a7dc-000cab316bc2"
      },
      "execution_count": null,
      "outputs": [
        {
          "output_type": "execute_result",
          "data": {
            "text/plain": [
              "(30212, 5)"
            ]
          },
          "metadata": {},
          "execution_count": 107
        }
      ]
    },
    {
      "cell_type": "code",
      "source": [
        "# Convert pred_probs to pred labels\n",
        "model_4_preds = tf.argmax(model_4_pred_probs, axis = 1)\n",
        "model_4_preds[:5]"
      ],
      "metadata": {
        "id": "0F8AkHb6Ow_r",
        "colab": {
          "base_uri": "https://localhost:8080/"
        },
        "outputId": "fa8e7e0b-395d-4d60-b83a-ee9ffe5b624e"
      },
      "execution_count": null,
      "outputs": [
        {
          "output_type": "execute_result",
          "data": {
            "text/plain": [
              "<tf.Tensor: shape=(5,), dtype=int64, numpy=array([1, 1, 1, 2, 4])>"
            ]
          },
          "metadata": {},
          "execution_count": 108
        }
      ]
    },
    {
      "cell_type": "code",
      "source": [
        "model_4_preds.shape"
      ],
      "metadata": {
        "colab": {
          "base_uri": "https://localhost:8080/"
        },
        "id": "VkJHUNx_RY0e",
        "outputId": "c29a8cbf-c223-430f-bba5-c6d976b59218"
      },
      "execution_count": null,
      "outputs": [
        {
          "output_type": "execute_result",
          "data": {
            "text/plain": [
              "TensorShape([30212])"
            ]
          },
          "metadata": {},
          "execution_count": 109
        }
      ]
    },
    {
      "cell_type": "code",
      "source": [
        "# Calculate results\n",
        "model_4_results = calculate_results(y_true = val_labels_encoded,\n",
        "                                    y_pred = model_4_preds)\n",
        "model_4_results"
      ],
      "metadata": {
        "colab": {
          "base_uri": "https://localhost:8080/"
        },
        "id": "FNpLNJS0Pj7b",
        "outputId": "55139474-1014-4e4a-cc11-8fcba20b7413"
      },
      "execution_count": null,
      "outputs": [
        {
          "output_type": "stream",
          "name": "stderr",
          "text": [
            "/usr/local/lib/python3.8/dist-packages/sklearn/metrics/_classification.py:1318: UndefinedMetricWarning: Precision and F-score are ill-defined and being set to 0.0 in labels with no predicted samples. Use `zero_division` parameter to control this behavior.\n",
            "  _warn_prf(average, modifier, msg_start, len(result))\n"
          ]
        },
        {
          "output_type": "execute_result",
          "data": {
            "text/plain": [
              "{'accuracy': 65.78842843903084,\n",
              " 'precision': 0.6010724284799769,\n",
              " 'recall': 0.6578842843903084,\n",
              " 'f1': 0.6222111602966867}"
            ]
          },
          "metadata": {},
          "execution_count": 110
        }
      ]
    },
    {
      "cell_type": "markdown",
      "source": [
        "## Model 5: Pretrained token embeddings + character embeddings + positional embeddings"
      ],
      "metadata": {
        "id": "lgHkeZ_wduTO"
      }
    },
    {
      "cell_type": "markdown",
      "source": [
        "`Feature Enginnering:` Taking non-obvious features from the data and encoding them numerically to help our model learn"
      ],
      "metadata": {
        "id": "Zpd5F5wtefFV"
      }
    },
    {
      "cell_type": "markdown",
      "source": [
        "📝 **Note:** Any engineered features used to train a model need to be available at test time."
      ],
      "metadata": {
        "id": "sIvyJYurfH3p"
      }
    },
    {
      "cell_type": "markdown",
      "source": [
        "### Create positional embeddings"
      ],
      "metadata": {
        "id": "RBYywK9jd_KG"
      }
    },
    {
      "cell_type": "code",
      "source": [
        "# How many line numbers are there\n",
        "train_df[\"line_number\"].value_counts()"
      ],
      "metadata": {
        "colab": {
          "base_uri": "https://localhost:8080/"
        },
        "id": "7bEGfTgHfsX5",
        "outputId": "2413f188-7ed0-4285-8716-86f0bedc3116"
      },
      "execution_count": null,
      "outputs": [
        {
          "output_type": "execute_result",
          "data": {
            "text/plain": [
              "0     15000\n",
              "1     15000\n",
              "2     15000\n",
              "3     15000\n",
              "4     14992\n",
              "5     14949\n",
              "6     14758\n",
              "7     14279\n",
              "8     13346\n",
              "9     11981\n",
              "10    10041\n",
              "11     7892\n",
              "12     5853\n",
              "13     4152\n",
              "14     2835\n",
              "15     1861\n",
              "16     1188\n",
              "17      751\n",
              "18      462\n",
              "19      286\n",
              "20      162\n",
              "21      101\n",
              "22       66\n",
              "23       33\n",
              "24       22\n",
              "25       14\n",
              "26        7\n",
              "27        4\n",
              "28        3\n",
              "29        1\n",
              "30        1\n",
              "Name: line_number, dtype: int64"
            ]
          },
          "metadata": {},
          "execution_count": 111
        }
      ]
    },
    {
      "cell_type": "code",
      "source": [
        "# Check the distribution of \"line number\" column\n",
        "plt.hist(train_df[\"line_number\"]);"
      ],
      "metadata": {
        "colab": {
          "base_uri": "https://localhost:8080/",
          "height": 265
        },
        "id": "hyatMv7JhAJf",
        "outputId": "da84b854-da2c-4aa6-aba4-b7c0407cb47e"
      },
      "execution_count": null,
      "outputs": [
        {
          "output_type": "display_data",
          "data": {
            "text/plain": [
              "<Figure size 432x288 with 1 Axes>"
            ],
            "image/png": "[encoded data removed]"
          },
          "metadata": {
            "needs_background": "light"
          }
        }
      ]
    },
    {
      "cell_type": "code",
      "source": [
        "np.percentile(train_df[\"line_number\"], 95)"
      ],
      "metadata": {
        "colab": {
          "base_uri": "https://localhost:8080/"
        },
        "id": "rhuXBBgMpTs0",
        "outputId": "cf84317f-292f-4af6-e0cb-620548d877cd"
      },
      "execution_count": null,
      "outputs": [
        {
          "output_type": "execute_result",
          "data": {
            "text/plain": [
              "13.0"
            ]
          },
          "metadata": {},
          "execution_count": 113
        }
      ]
    },
    {
      "cell_type": "code",
      "source": [
        "# One hot encode line_number using tf\n",
        "train_line_numbers_one_hot = tf.one_hot(train_df[\"line_number\"].to_numpy(), depth = 15)\n",
        "val_line_number_one_hot = tf.one_hot(val_df[\"line_number\"].to_numpy(), depth = 15)\n",
        "test_line_number_one_hot = tf.one_hot(test_df[\"line_number\"].to_numpy(), depth = 15)"
      ],
      "metadata": {
        "id": "fWvNdwrnhXgA"
      },
      "execution_count": null,
      "outputs": []
    },
    {
      "cell_type": "code",
      "source": [
        "train_line_numbers_one_hot[:10], train_line_numbers_one_hot.shape, val_line_number_one_hot[:10], val_line_number_one_hot.shape"
      ],
      "metadata": {
        "colab": {
          "base_uri": "https://localhost:8080/"
        },
        "id": "MdZ3ZLFRkErb",
        "outputId": "ec428a80-b1e4-4cee-edc2-578c09165774"
      },
      "execution_count": null,
      "outputs": [
        {
          "output_type": "execute_result",
          "data": {
            "text/plain": [
              "(<tf.Tensor: shape=(10, 15), dtype=float32, numpy=\n",
              " array([[1., 0., 0., 0., 0., 0., 0., 0., 0., 0., 0., 0., 0., 0., 0.],\n",
              "        [0., 1., 0., 0., 0., 0., 0., 0., 0., 0., 0., 0., 0., 0., 0.],\n",
              "        [0., 0., 1., 0., 0., 0., 0., 0., 0., 0., 0., 0., 0., 0., 0.],\n",
              "        [0., 0., 0., 1., 0., 0., 0., 0., 0., 0., 0., 0., 0., 0., 0.],\n",
              "        [0., 0., 0., 0., 1., 0., 0., 0., 0., 0., 0., 0., 0., 0., 0.],\n",
              "        [0., 0., 0., 0., 0., 1., 0., 0., 0., 0., 0., 0., 0., 0., 0.],\n",
              "        [0., 0., 0., 0., 0., 0., 1., 0., 0., 0., 0., 0., 0., 0., 0.],\n",
              "        [0., 0., 0., 0., 0., 0., 0., 1., 0., 0., 0., 0., 0., 0., 0.],\n",
              "        [0., 0., 0., 0., 0., 0., 0., 0., 1., 0., 0., 0., 0., 0., 0.],\n",
              "        [0., 0., 0., 0., 0., 0., 0., 0., 0., 1., 0., 0., 0., 0., 0.]],\n",
              "       dtype=float32)>,\n",
              " TensorShape([180040, 15]),\n",
              " <tf.Tensor: shape=(10, 15), dtype=float32, numpy=\n",
              " array([[1., 0., 0., 0., 0., 0., 0., 0., 0., 0., 0., 0., 0., 0., 0.],\n",
              "        [0., 1., 0., 0., 0., 0., 0., 0., 0., 0., 0., 0., 0., 0., 0.],\n",
              "        [0., 0., 1., 0., 0., 0., 0., 0., 0., 0., 0., 0., 0., 0., 0.],\n",
              "        [0., 0., 0., 1., 0., 0., 0., 0., 0., 0., 0., 0., 0., 0., 0.],\n",
              "        [0., 0., 0., 0., 1., 0., 0., 0., 0., 0., 0., 0., 0., 0., 0.],\n",
              "        [0., 0., 0., 0., 0., 1., 0., 0., 0., 0., 0., 0., 0., 0., 0.],\n",
              "        [0., 0., 0., 0., 0., 0., 1., 0., 0., 0., 0., 0., 0., 0., 0.],\n",
              "        [0., 0., 0., 0., 0., 0., 0., 1., 0., 0., 0., 0., 0., 0., 0.],\n",
              "        [0., 0., 0., 0., 0., 0., 0., 0., 1., 0., 0., 0., 0., 0., 0.],\n",
              "        [0., 0., 0., 0., 0., 0., 0., 0., 0., 1., 0., 0., 0., 0., 0.]],\n",
              "       dtype=float32)>,\n",
              " TensorShape([30212, 15]))"
            ]
          },
          "metadata": {},
          "execution_count": 115
        }
      ]
    },
    {
      "cell_type": "code",
      "source": [
        "# How many different total line values are there\n",
        "train_df[\"total_lines\"].value_counts()"
      ],
      "metadata": {
        "colab": {
          "base_uri": "https://localhost:8080/"
        },
        "id": "WtmTxlSrkp-q",
        "outputId": "af6b9df0-86eb-4cbd-9ca5-067932a6f023"
      },
      "execution_count": null,
      "outputs": [
        {
          "output_type": "execute_result",
          "data": {
            "text/plain": [
              "11    24468\n",
              "10    23639\n",
              "12    22113\n",
              "9     19400\n",
              "13    18438\n",
              "14    14610\n",
              "8     12285\n",
              "15    10768\n",
              "7      7464\n",
              "16     7429\n",
              "17     5202\n",
              "6      3353\n",
              "18     3344\n",
              "19     2480\n",
              "20     1281\n",
              "5      1146\n",
              "21      770\n",
              "22      759\n",
              "23      264\n",
              "4       215\n",
              "24      200\n",
              "25      182\n",
              "26       81\n",
              "28       58\n",
              "3        32\n",
              "30       31\n",
              "27       28\n",
              "Name: total_lines, dtype: int64"
            ]
          },
          "metadata": {},
          "execution_count": 116
        }
      ]
    },
    {
      "cell_type": "code",
      "source": [
        "# Check the distribution of total \"total_lines\" column\n",
        "plt.hist(train_df[\"total_lines\"]);"
      ],
      "metadata": {
        "colab": {
          "base_uri": "https://localhost:8080/",
          "height": 267
        },
        "id": "FXEYVn2RmNbS",
        "outputId": "304ab99a-1f06-42b9-ae86-1e26cc5867b2"
      },
      "execution_count": null,
      "outputs": [
        {
          "output_type": "display_data",
          "data": {
            "text/plain": [
              "<Figure size 432x288 with 1 Axes>"
            ],
            "image/png": "[encoded data removed]"
          },
          "metadata": {
            "needs_background": "light"
          }
        }
      ]
    },
    {
      "cell_type": "code",
      "source": [
        "train_total_line_numbers_one_hot = tf.one_hot(train_df[\"total_lines\"].to_numpy(), depth = 20)\n",
        "val_total_line_numbers_one_hot = tf.one_hot(val_df[\"total_lines\"].to_numpy(), depth = 20)\n",
        "test_total_line_numbers_one_hot = tf.one_hot(test_df[\"total_lines\"].to_numpy(), depth = 20)"
      ],
      "metadata": {
        "id": "6GhjnVmJm_5_"
      },
      "execution_count": null,
      "outputs": []
    },
    {
      "cell_type": "code",
      "source": [
        "train_total_line_numbers_one_hot[:10], train_total_line_numbers_one_hot.shape"
      ],
      "metadata": {
        "colab": {
          "base_uri": "https://localhost:8080/"
        },
        "id": "2tZSdra-nMQ-",
        "outputId": "8d512701-8523-410e-e5ed-cbe3b0ec2955"
      },
      "execution_count": null,
      "outputs": [
        {
          "output_type": "execute_result",
          "data": {
            "text/plain": [
              "(<tf.Tensor: shape=(10, 20), dtype=float32, numpy=\n",
              " array([[0., 0., 0., 0., 0., 0., 0., 0., 0., 0., 0., 1., 0., 0., 0., 0.,\n",
              "         0., 0., 0., 0.],\n",
              "        [0., 0., 0., 0., 0., 0., 0., 0., 0., 0., 0., 1., 0., 0., 0., 0.,\n",
              "         0., 0., 0., 0.],\n",
              "        [0., 0., 0., 0., 0., 0., 0., 0., 0., 0., 0., 1., 0., 0., 0., 0.,\n",
              "         0., 0., 0., 0.],\n",
              "        [0., 0., 0., 0., 0., 0., 0., 0., 0., 0., 0., 1., 0., 0., 0., 0.,\n",
              "         0., 0., 0., 0.],\n",
              "        [0., 0., 0., 0., 0., 0., 0., 0., 0., 0., 0., 1., 0., 0., 0., 0.,\n",
              "         0., 0., 0., 0.],\n",
              "        [0., 0., 0., 0., 0., 0., 0., 0., 0., 0., 0., 1., 0., 0., 0., 0.,\n",
              "         0., 0., 0., 0.],\n",
              "        [0., 0., 0., 0., 0., 0., 0., 0., 0., 0., 0., 1., 0., 0., 0., 0.,\n",
              "         0., 0., 0., 0.],\n",
              "        [0., 0., 0., 0., 0., 0., 0., 0., 0., 0., 0., 1., 0., 0., 0., 0.,\n",
              "         0., 0., 0., 0.],\n",
              "        [0., 0., 0., 0., 0., 0., 0., 0., 0., 0., 0., 1., 0., 0., 0., 0.,\n",
              "         0., 0., 0., 0.],\n",
              "        [0., 0., 0., 0., 0., 0., 0., 0., 0., 0., 0., 1., 0., 0., 0., 0.,\n",
              "         0., 0., 0., 0.]], dtype=float32)>, TensorShape([180040, 20]))"
            ]
          },
          "metadata": {},
          "execution_count": 119
        }
      ]
    },
    {
      "cell_type": "code",
      "source": [
        "# check the coverage of a \"total_lines\" value of 20\n",
        "np.percentile(train_df[\"total_lines\"], 95)"
      ],
      "metadata": {
        "id": "5mIkU9PhncFG",
        "colab": {
          "base_uri": "https://localhost:8080/"
        },
        "outputId": "89a2c740-5383-4ec9-8027-2df9c21a646c"
      },
      "execution_count": null,
      "outputs": [
        {
          "output_type": "execute_result",
          "data": {
            "text/plain": [
              "18.0"
            ]
          },
          "metadata": {},
          "execution_count": 120
        }
      ]
    },
    {
      "cell_type": "markdown",
      "source": [
        "18 is the length that covers the 95% of the abstract strings."
      ],
      "metadata": {
        "id": "itvosSaWiSb0"
      }
    },
    {
      "cell_type": "markdown",
      "source": [
        "### Building a token level model\n",
        "\n",
        "1. Create a token level model\n",
        "2. Create a character level model\n",
        "3. Create a model for the \"line_number\" feature\n",
        "4. Create a model for \"total_lines\" feature\n",
        "5. Combine the outputs of 1 and 2 using tf.keras.layers.Concatenate\n",
        "6. Combine the outputs of 3, 4, 5 using tf.keras.layers.Concatenate\n",
        "7. Create an output layer to accept the tribried embedding and output label probabilitites\n",
        "8. Combine the inputs of 1, 2, 3, 4 and outputs of 7 into a tf.keras.Model"
      ],
      "metadata": {
        "id": "qul__-uryss2"
      }
    },
    {
      "cell_type": "code",
      "source": [
        "# 1. Token Inputs (Tf_Hub layer \"USE\")\n",
        "token_inputs = tf.keras.layers.Input(shape = [], dtype = tf.string, name = \"token_inputs\")\n",
        "x = sentence_encoder_layer(token_inputs)\n",
        "token_outputs = tf.keras.layers.Dense(128, activation = \"relu\")(x)\n",
        "token_model = tf.keras.Model(token_inputs,\n",
        "                             token_outputs)\n",
        "\n",
        "# 2. Char Inputs\n",
        "char_inputs = tf.keras.layers.Input(shape = (1, ), dtype = tf.string, name = \"char_inputs\")\n",
        "x = char_vectorizer(char_inputs)\n",
        "x = char_embedding_layer(x)\n",
        "char_bi_lstm = tf.keras.layers.Bidirectional(tf.keras.layers.LSTM(24))(x)\n",
        "char_model = tf.keras.Model(char_inputs,\n",
        "                            char_bi_lstm)\n",
        "\n",
        "# 3. Line number model\n",
        "line_number_inputs = tf.keras.layers.Input(shape = (15,), dtype = tf.float32, name = \"Line_number_inputs\")\n",
        "line_number_outputs = tf.keras.layers.Dense(32, activation = \"relu\")(line_number_inputs)\n",
        "line_number_model = tf.keras.Model(line_number_inputs,\n",
        "                                   line_number_outputs)\n",
        "\n",
        "# 4. Total Lines Model\n",
        "total_lines_inputs = tf.keras.layers.Input(shape = (20, ), dtype = tf.float32, name = \"Total_lines_inputs\")\n",
        "total_lines_outputs = tf.keras.layers.Dense(32, activation = \"relu\")(total_lines_inputs)\n",
        "total_lines_model = tf.keras.Model(total_lines_inputs,\n",
        "                                   total_lines_outputs)\n",
        "\n",
        "# 5. Combine token and char embeddings into a hybrid embedding\n",
        "combined_embeddings = tf.keras.layers.Concatenate(name = \"token_char_hybrid_embedding\")([token_model.output, \n",
        "                                                                                         char_model.output])\n",
        "\n",
        "z = tf.keras.layers.Dense(256, activation = \"relu\")(combined_embeddings)\n",
        "z = tf.keras.layers.Dropout(0.5)(z)\n",
        "\n",
        "# 6. Combine positional embeddings with combined token and char embeddings\n",
        "tribrid_embeddings = tf.keras.layers.Concatenate(name = \"combined_token_positional_embedding\")([line_number_model.output,\n",
        "                                                                                                total_lines_model.output,\n",
        "                                                                                                z])\n",
        "\n",
        "# 7. Create output_layer.\n",
        "output_layer = tf.keras.layers.Dense(num_classes, activation = \"softmax\", name = \"output_layer\")(tribrid_embeddings)\n",
        "\n",
        "# 8. Put together model with all kinds of inputs.\n",
        "tribrid_model_5 = tf.keras.Model(inputs = [line_number_model.input,\n",
        "                                           total_lines_model.input,\n",
        "                                           token_model.input,\n",
        "                                           char_model.input],\n",
        "                                 outputs = output_layer,\n",
        "                                 name = \"tribrid_model_5\")"
      ],
      "metadata": {
        "id": "qKl5LB7oPrSW"
      },
      "execution_count": null,
      "outputs": []
    },
    {
      "cell_type": "markdown",
      "source": [
        "**Note:** A dense layer on its own is effectively an embedding"
      ],
      "metadata": {
        "id": "bt0QT26vSdmU"
      }
    },
    {
      "cell_type": "code",
      "source": [
        "tribrid_model_5.summary()"
      ],
      "metadata": {
        "colab": {
          "base_uri": "https://localhost:8080/"
        },
        "id": "0tTgzZtCRyda",
        "outputId": "49fc7f81-9b68-402c-e2fa-261fc38114dc"
      },
      "execution_count": null,
      "outputs": [
        {
          "output_type": "stream",
          "name": "stdout",
          "text": [
            "Model: \"tribrid_model_5\"\n",
            "__________________________________________________________________________________________________\n",
            " Layer (type)                   Output Shape         Param #     Connected to                     \n",
            "==================================================================================================\n",
            " char_inputs (InputLayer)       [(None, 1)]          0           []                               \n",
            "                                                                                                  \n",
            " token_inputs (InputLayer)      [(None,)]            0           []                               \n",
            "                                                                                                  \n",
            " char_vectorizer (TextVectoriza  (None, 290)         0           ['char_inputs[0][0]']            \n",
            " tion)                                                                                            \n",
            "                                                                                                  \n",
            " USE (KerasLayer)               (None, 512)          256797824   ['token_inputs[0][0]']           \n",
            "                                                                                                  \n",
            " char_embed (Embedding)         (None, 290, 25)      700         ['char_vectorizer[2][0]']        \n",
            "                                                                                                  \n",
            " dense_8 (Dense)                (None, 128)          65664       ['USE[2][0]']                    \n",
            "                                                                                                  \n",
            " bidirectional_1 (Bidirectional  (None, 48)          9600        ['char_embed[2][0]']             \n",
            " )                                                                                                \n",
            "                                                                                                  \n",
            " token_char_hybrid_embedding (C  (None, 176)         0           ['dense_8[0][0]',                \n",
            " oncatenate)                                                      'bidirectional_1[0][0]']        \n",
            "                                                                                                  \n",
            " Line_number_inputs (InputLayer  [(None, 15)]        0           []                               \n",
            " )                                                                                                \n",
            "                                                                                                  \n",
            " Total_lines_inputs (InputLayer  [(None, 20)]        0           []                               \n",
            " )                                                                                                \n",
            "                                                                                                  \n",
            " dense_11 (Dense)               (None, 256)          45312       ['token_char_hybrid_embedding[0][\n",
            "                                                                 0]']                             \n",
            "                                                                                                  \n",
            " dense_9 (Dense)                (None, 32)           512         ['Line_number_inputs[0][0]']     \n",
            "                                                                                                  \n",
            " dense_10 (Dense)               (None, 32)           672         ['Total_lines_inputs[0][0]']     \n",
            "                                                                                                  \n",
            " dropout_2 (Dropout)            (None, 256)          0           ['dense_11[0][0]']               \n",
            "                                                                                                  \n",
            " combined_token_positional_embe  (None, 320)         0           ['dense_9[0][0]',                \n",
            " dding (Concatenate)                                              'dense_10[0][0]',               \n",
            "                                                                  'dropout_2[0][0]']              \n",
            "                                                                                                  \n",
            " output_layer (Dense)           (None, 5)            1605        ['combined_token_positional_embed\n",
            "                                                                 ding[0][0]']                     \n",
            "                                                                                                  \n",
            "==================================================================================================\n",
            "Total params: 256,921,889\n",
            "Trainable params: 124,065\n",
            "Non-trainable params: 256,797,824\n",
            "__________________________________________________________________________________________________\n"
          ]
        }
      ]
    },
    {
      "cell_type": "code",
      "source": [
        "# Plot model_5 to explore it visually...\n",
        "from keras.utils import plot_model\n",
        "plot_model(tribrid_model_5, show_shapes = True)"
      ],
      "metadata": {
        "colab": {
          "base_uri": "https://localhost:8080/",
          "height": 779
        },
        "id": "ZUYlPoo1eUiu",
        "outputId": "2e8d843f-95d2-49ef-a6d3-b9744f27d7b9"
      },
      "execution_count": null,
      "outputs": [
        {
          "output_type": "execute_result",
          "data": {
            "image/png": "[encoded data removed]",
            "text/plain": [
              "<IPython.core.display.Image object>"
            ]
          },
          "metadata": {},
          "execution_count": 123
        }
      ]
    },
    {
      "cell_type": "markdown",
      "source": [
        "**Label Smoothing**\n",
        "\n",
        "For Example, if the model gets too confident on a single class (e.g. its prediction probability is really high), it may get stuck on that class and not consider other classes...\n",
        "\n",
        "Really Confident: `[0.0. 0.0, 1.0. 0.0, 0.0]`\n",
        "\n",
        "What label smoothing does is it assigns some of the values from the highest pred prob to other classes, in turn, hopefully improving generalization: `[0.01, 0.01, 0.96, 0.01, 0.01]`"
      ],
      "metadata": {
        "id": "vUkdOEW3km6i"
      }
    },
    {
      "cell_type": "code",
      "source": [
        "# Compile token char and positional embedding model\n",
        "tribrid_model_5.compile(loss = tf.keras.losses.CategoricalCrossentropy(label_smoothing= 0.2), # helps to prvent overfitting\n",
        "                        optimizer = tf.keras.optimizers.Adam(),\n",
        "                        metrics = [\"accuracy\"])"
      ],
      "metadata": {
        "id": "GwiPZ2Hpelqb"
      },
      "execution_count": null,
      "outputs": []
    },
    {
      "cell_type": "markdown",
      "source": [
        "### Create tribrid embeddings using tf.data\n"
      ],
      "metadata": {
        "id": "zUreoFomkFtp"
      }
    },
    {
      "cell_type": "code",
      "source": [
        "# train_line_number = train_df[\"line_number\"].to_numpy()\n",
        "# train_total_lines = train_df[\"total_lines\"].to_numpy()\n",
        "# train_line_number.shape, train_line_number[:5], train_total_lines[:5] ,train_total_lines.shape\n",
        "\n",
        "\n",
        "# Combine token, char, line_number and total lines into a dataset \n",
        "train_pos_token_char_data = tf.data.Dataset.from_tensor_slices((train_line_numbers_one_hot,\n",
        "                                                                train_total_line_numbers_one_hot,\n",
        "                                                                train_sentences, \n",
        "                                                                train_chars))\n",
        "\n",
        "train_pos_token_char_labels = tf.data.Dataset.from_tensor_slices(train_labels_one_hot)\n",
        "train_pos_token_char_dataset = tf.data.Dataset.zip((train_pos_token_char_data, train_pos_token_char_labels))\n",
        "\n",
        "# Prefetch and batch train dataset\n",
        "train_pos_token_char_dataset = train_pos_token_char_dataset.batch(batch_size = 32).prefetch(buffer_size = tf.data.AUTOTUNE)\n",
        "\n",
        "train_pos_token_char_dataset"
      ],
      "metadata": {
        "id": "MY74_x7SobgA",
        "colab": {
          "base_uri": "https://localhost:8080/"
        },
        "outputId": "2f2518e2-0a48-49d2-e18e-b8fde44d4e4b"
      },
      "execution_count": null,
      "outputs": [
        {
          "output_type": "execute_result",
          "data": {
            "text/plain": [
              "<PrefetchDataset element_spec=((TensorSpec(shape=(None, 15), dtype=tf.float32, name=None), TensorSpec(shape=(None, 20), dtype=tf.float32, name=None), TensorSpec(shape=(None,), dtype=tf.string, name=None), TensorSpec(shape=(None,), dtype=tf.string, name=None)), TensorSpec(shape=(None, 5), dtype=tf.float64, name=None))>"
            ]
          },
          "metadata": {},
          "execution_count": 125
        }
      ]
    },
    {
      "cell_type": "code",
      "source": [
        "# Validation Dataset\n",
        "\n",
        "# Combine token, char, line_number and total lines into a val dataset \n",
        "val_pos_token_char_data = tf.data.Dataset.from_tensor_slices((val_line_number_one_hot,\n",
        "                                                              val_total_line_numbers_one_hot,\n",
        "                                                              val_sentences, \n",
        "                                                              val_chars))\n",
        "\n",
        "val_pos_token_char_labels = tf.data.Dataset.from_tensor_slices(val_labels_one_hot)\n",
        "val_pos_token_char_dataset = tf.data.Dataset.zip((val_pos_token_char_data, val_pos_token_char_labels))\n",
        "\n",
        "# Prefetch and batch train dataset\n",
        "val_pos_token_char_dataset = val_pos_token_char_dataset.batch(batch_size = 32).prefetch(buffer_size = tf.data.AUTOTUNE)\n",
        "\n",
        "val_pos_token_char_dataset"
      ],
      "metadata": {
        "colab": {
          "base_uri": "https://localhost:8080/"
        },
        "id": "lCjkQ4uDLfl9",
        "outputId": "a9953ecd-911a-4dec-eab9-1eb5cdf19d8f"
      },
      "execution_count": null,
      "outputs": [
        {
          "output_type": "execute_result",
          "data": {
            "text/plain": [
              "<PrefetchDataset element_spec=((TensorSpec(shape=(None, 15), dtype=tf.float32, name=None), TensorSpec(shape=(None, 20), dtype=tf.float32, name=None), TensorSpec(shape=(None,), dtype=tf.string, name=None), TensorSpec(shape=(None,), dtype=tf.string, name=None)), TensorSpec(shape=(None, 5), dtype=tf.float64, name=None))>"
            ]
          },
          "metadata": {},
          "execution_count": 126
        }
      ]
    },
    {
      "cell_type": "code",
      "source": [
        "# Test Dataset\n",
        "\n",
        "# Combine token, char, line_number and total lines into a test dataset \n",
        "test_pos_token_char_data = tf.data.Dataset.from_tensor_slices((test_line_number_one_hot,\n",
        "                                                               test_total_line_numbers_one_hot,\n",
        "                                                               test_sentences,\n",
        "                                                               test_chars))\n",
        "\n",
        "test_pos_token_char_labels = tf.data.Dataset.from_tensor_slices(test_labels_one_hot)\n",
        "test_pos_token_char_dataset = tf.data.Dataset.zip((test_pos_token_char_data, test_pos_token_char_labels))\n",
        "\n",
        "# Prefetch and batch train dataset\n",
        "test_pos_token_char_dataset = test_pos_token_char_dataset.batch(batch_size = 32).prefetch(buffer_size = tf.data.AUTOTUNE)\n",
        "\n",
        "test_pos_token_char_dataset"
      ],
      "metadata": {
        "colab": {
          "base_uri": "https://localhost:8080/"
        },
        "id": "amXoi_Q4MwK6",
        "outputId": "3e61cfec-d304-44c2-84f2-118a98e396bf"
      },
      "execution_count": null,
      "outputs": [
        {
          "output_type": "execute_result",
          "data": {
            "text/plain": [
              "<PrefetchDataset element_spec=((TensorSpec(shape=(None, 15), dtype=tf.float32, name=None), TensorSpec(shape=(None, 20), dtype=tf.float32, name=None), TensorSpec(shape=(None,), dtype=tf.string, name=None), TensorSpec(shape=(None,), dtype=tf.string, name=None)), TensorSpec(shape=(None, 5), dtype=tf.float64, name=None))>"
            ]
          },
          "metadata": {},
          "execution_count": 127
        }
      ]
    },
    {
      "cell_type": "markdown",
      "source": [
        "### Fitting evaluating and making predictions with the tribrid_model_5"
      ],
      "metadata": {
        "id": "PLftaGRbNU-Z"
      }
    },
    {
      "cell_type": "code",
      "source": [
        "model_5_history = tribrid_model_5.fit(train_pos_token_char_dataset,\n",
        "                                      epochs = 5,\n",
        "                                      steps_per_epoch = int(0.1 * len(train_pos_token_char_dataset)),\n",
        "                                      validation_data = val_pos_token_char_dataset,\n",
        "                                      validation_steps = int(0.1 * len(val_pos_token_char_dataset)))"
      ],
      "metadata": {
        "colab": {
          "base_uri": "https://localhost:8080/"
        },
        "id": "RjXImUtvOX7i",
        "outputId": "7c870f8f-a3da-46cf-d463-37b286012dfb"
      },
      "execution_count": null,
      "outputs": [
        {
          "output_type": "stream",
          "name": "stdout",
          "text": [
            "Epoch 1/5\n",
            "562/562 [==============================] - 45s 57ms/step - loss: 1.0932 - accuracy: 0.7251 - val_loss: 0.9852 - val_accuracy: 0.8012\n",
            "Epoch 2/5\n",
            "562/562 [==============================] - 27s 48ms/step - loss: 0.9704 - accuracy: 0.8151 - val_loss: 0.9512 - val_accuracy: 0.8245\n",
            "Epoch 3/5\n",
            "562/562 [==============================] - 24s 42ms/step - loss: 0.9508 - accuracy: 0.8231 - val_loss: 0.9422 - val_accuracy: 0.8308\n",
            "Epoch 4/5\n",
            "562/562 [==============================] - 29s 52ms/step - loss: 0.9408 - accuracy: 0.8360 - val_loss: 0.9313 - val_accuracy: 0.8288\n",
            "Epoch 5/5\n",
            "562/562 [==============================] - 33s 59ms/step - loss: 0.9382 - accuracy: 0.8335 - val_loss: 0.9244 - val_accuracy: 0.8398\n"
          ]
        }
      ]
    },
    {
      "cell_type": "code",
      "source": [
        "# Evaluate the model\n",
        "tribrid_model_5.evaluate(val_pos_token_char_dataset)"
      ],
      "metadata": {
        "colab": {
          "base_uri": "https://localhost:8080/"
        },
        "id": "DhsHYCCYPHCZ",
        "outputId": "2b2fc66a-82d6-4cb4-be8b-117f835925ee"
      },
      "execution_count": null,
      "outputs": [
        {
          "output_type": "stream",
          "name": "stdout",
          "text": [
            "945/945 [==============================] - 19s 21ms/step - loss: 0.9229 - accuracy: 0.8419\n"
          ]
        },
        {
          "output_type": "execute_result",
          "data": {
            "text/plain": [
              "[0.9228819608688354, 0.8418840169906616]"
            ]
          },
          "metadata": {},
          "execution_count": 129
        }
      ]
    },
    {
      "cell_type": "code",
      "source": [
        "# Make predictions with the model\n",
        "model_5_pred_probs = tribrid_model_5.predict(val_pos_token_char_dataset)\n",
        "model_5_pred_probs[:5]"
      ],
      "metadata": {
        "colab": {
          "base_uri": "https://localhost:8080/"
        },
        "id": "2OYvOTgiPjSU",
        "outputId": "e911f4dd-e042-4028-a809-38563234f6e0"
      },
      "execution_count": null,
      "outputs": [
        {
          "output_type": "stream",
          "name": "stdout",
          "text": [
            "945/945 [==============================] - 22s 20ms/step\n"
          ]
        },
        {
          "output_type": "execute_result",
          "data": {
            "text/plain": [
              "array([[0.6408657 , 0.08295716, 0.01450029, 0.24114941, 0.02052751],\n",
              "       [0.65041053, 0.07977314, 0.06921575, 0.18846408, 0.01213645],\n",
              "       [0.35518777, 0.10712424, 0.13914144, 0.34590924, 0.05263735],\n",
              "       [0.03213811, 0.0584949 , 0.79733074, 0.02890133, 0.08313494],\n",
              "       [0.04257974, 0.03821048, 0.77699155, 0.03125547, 0.11096278]],\n",
              "      dtype=float32)"
            ]
          },
          "metadata": {},
          "execution_count": 130
        }
      ]
    },
    {
      "cell_type": "code",
      "source": [
        "# Converting pred probs to preds\n",
        "model_5_preds = tf.argmax(model_5_pred_probs, axis = 1)\n",
        "model_5_preds[:5]"
      ],
      "metadata": {
        "colab": {
          "base_uri": "https://localhost:8080/"
        },
        "id": "Ld3z1OY1QA2_",
        "outputId": "ec4f74af-3536-45d8-8556-2cfb95ce19e2"
      },
      "execution_count": null,
      "outputs": [
        {
          "output_type": "execute_result",
          "data": {
            "text/plain": [
              "<tf.Tensor: shape=(5,), dtype=int64, numpy=array([0, 0, 0, 2, 2])>"
            ]
          },
          "metadata": {},
          "execution_count": 131
        }
      ]
    },
    {
      "cell_type": "code",
      "source": [
        "# Calculate results\n",
        "model_5_results = calculate_results(y_true = val_labels_encoded,\n",
        "                                    y_pred = model_5_preds)\n",
        "model_5_results"
      ],
      "metadata": {
        "colab": {
          "base_uri": "https://localhost:8080/"
        },
        "id": "jIKkXAf4QQ5h",
        "outputId": "e274ee62-2ff1-4217-813d-6d1635837969"
      },
      "execution_count": null,
      "outputs": [
        {
          "output_type": "execute_result",
          "data": {
            "text/plain": [
              "{'accuracy': 84.1884019594863,\n",
              " 'precision': 0.8462193997977151,\n",
              " 'recall': 0.8418840195948629,\n",
              " 'f1': 0.8375153793457407}"
            ]
          },
          "metadata": {},
          "execution_count": 132
        }
      ]
    },
    {
      "cell_type": "markdown",
      "source": [
        "## Comapring performances of all the models so far.."
      ],
      "metadata": {
        "id": "v21UflXbQhvn"
      }
    },
    {
      "cell_type": "code",
      "source": [
        "all_model_results = pd.DataFrame({\"baseline_results\": baseline_results,\n",
        "                                  \"1_Conv1D_token_embed\": model_1_results,\n",
        "                                  \"2_tf_hub_pretrained_USE\": model_2_results,\n",
        "                                  \"3_Conv1D_char_embeds\": model_3_results,\n",
        "                                  \"4_hybrid_pretrained_token_embeds_plus_char_embeds\": model_4_results,\n",
        "                                  \"5_tribrid_pos_token_char\": model_5_results})\n",
        "\n",
        "all_model_results = all_model_results.transpose()"
      ],
      "metadata": {
        "id": "g0ZfeXlNTMmF"
      },
      "execution_count": null,
      "outputs": []
    },
    {
      "cell_type": "code",
      "source": [
        "# Reduce the accuracy as the same scale as other params\n",
        "all_model_results[\"accuracy\"] = all_model_results[\"accuracy\"]/100"
      ],
      "metadata": {
        "id": "r-j5pklwUSR0"
      },
      "execution_count": null,
      "outputs": []
    },
    {
      "cell_type": "code",
      "source": [
        "all_model_results"
      ],
      "metadata": {
        "colab": {
          "base_uri": "https://localhost:8080/",
          "height": 238
        },
        "id": "QKEw9wrCUd42",
        "outputId": "50c72dd0-a8d4-4b4e-fa31-2a9a01a0a6f0"
      },
      "execution_count": null,
      "outputs": [
        {
          "output_type": "execute_result",
          "data": {
            "text/plain": [
              "                                                   accuracy  precision  \\\n",
              "baseline_results                                   0.721832   0.718647   \n",
              "1_Conv1D_token_embed                               0.800046   0.800039   \n",
              "2_tf_hub_pretrained_USE                            0.717629   0.717426   \n",
              "3_Conv1D_char_embeds                               0.682676   0.702374   \n",
              "4_hybrid_pretrained_token_embeds_plus_char_embeds  0.657884   0.601072   \n",
              "5_tribrid_pos_token_char                           0.841884   0.846219   \n",
              "\n",
              "                                                     recall        f1  \n",
              "baseline_results                                   0.721832  0.698925  \n",
              "1_Conv1D_token_embed                               0.800046  0.796814  \n",
              "2_tf_hub_pretrained_USE                            0.717629  0.714635  \n",
              "3_Conv1D_char_embeds                               0.682676  0.687294  \n",
              "4_hybrid_pretrained_token_embeds_plus_char_embeds  0.657884  0.622211  \n",
              "5_tribrid_pos_token_char                           0.841884  0.837515  "
            ],
            "text/html": [
              "\n",
              "  <div id=\"df-76609042-1acf-4bee-8ece-fcb3553fdbe0\">\n",
              "    <div class=\"colab-df-container\">\n",
              "      <div>\n",
              "<style scoped>\n",
              "    .dataframe tbody tr th:only-of-type {\n",
              "        vertical-align: middle;\n",
              "    }\n",
              "\n",
              "    .dataframe tbody tr th {\n",
              "        vertical-align: top;\n",
              "    }\n",
              "\n",
              "    .dataframe thead th {\n",
              "        text-align: right;\n",
              "    }\n",
              "</style>\n",
              "<table border=\"1\" class=\"dataframe\">\n",
              "  <thead>\n",
              "    <tr style=\"text-align: right;\">\n",
              "      <th></th>\n",
              "      <th>accuracy</th>\n",
              "      <th>precision</th>\n",
              "      <th>recall</th>\n",
              "      <th>f1</th>\n",
              "    </tr>\n",
              "  </thead>\n",
              "  <tbody>\n",
              "    <tr>\n",
              "      <th>baseline_results</th>\n",
              "      <td>0.721832</td>\n",
              "      <td>0.718647</td>\n",
              "      <td>0.721832</td>\n",
              "      <td>0.698925</td>\n",
              "    </tr>\n",
              "    <tr>\n",
              "      <th>1_Conv1D_token_embed</th>\n",
              "      <td>0.800046</td>\n",
              "      <td>0.800039</td>\n",
              "      <td>0.800046</td>\n",
              "      <td>0.796814</td>\n",
              "    </tr>\n",
              "    <tr>\n",
              "      <th>2_tf_hub_pretrained_USE</th>\n",
              "      <td>0.717629</td>\n",
              "      <td>0.717426</td>\n",
              "      <td>0.717629</td>\n",
              "      <td>0.714635</td>\n",
              "    </tr>\n",
              "    <tr>\n",
              "      <th>3_Conv1D_char_embeds</th>\n",
              "      <td>0.682676</td>\n",
              "      <td>0.702374</td>\n",
              "      <td>0.682676</td>\n",
              "      <td>0.687294</td>\n",
              "    </tr>\n",
              "    <tr>\n",
              "      <th>4_hybrid_pretrained_token_embeds_plus_char_embeds</th>\n",
              "      <td>0.657884</td>\n",
              "      <td>0.601072</td>\n",
              "      <td>0.657884</td>\n",
              "      <td>0.622211</td>\n",
              "    </tr>\n",
              "    <tr>\n",
              "      <th>5_tribrid_pos_token_char</th>\n",
              "      <td>0.841884</td>\n",
              "      <td>0.846219</td>\n",
              "      <td>0.841884</td>\n",
              "      <td>0.837515</td>\n",
              "    </tr>\n",
              "  </tbody>\n",
              "</table>\n",
              "</div>\n",
              "      <button class=\"colab-df-convert\" onclick=\"convertToInteractive('df-76609042-1acf-4bee-8ece-fcb3553fdbe0')\"\n",
              "              title=\"Convert this dataframe to an interactive table.\"\n",
              "              style=\"display:none;\">\n",
              "        \n",
              "  <svg xmlns=\"http://www.w3.org/2000/svg\" height=\"24px\"viewBox=\"0 0 24 24\"\n",
              "       width=\"24px\">\n",
              "    <path d=\"M0 0h24v24H0V0z\" fill=\"none\"/>\n",
              "    <path d=\"M18.56 5.44l.94 2.06.94-2.06 2.06-.94-2.06-.94-.94-2.06-.94 2.06-2.06.94zm-11 1L8.5 8.5l.94-2.06 2.06-.94-2.06-.94L8.5 2.5l-.94 2.06-2.06.94zm10 10l.94 2.06.94-2.06 2.06-.94-2.06-.94-.94-2.06-.94 2.06-2.06.94z\"/><path d=\"M17.41 7.96l-1.37-1.37c-.4-.4-.92-.59-1.43-.59-.52 0-1.04.2-1.43.59L10.3 9.45l-7.72 7.72c-.78.78-.78 2.05 0 2.83L4 21.41c.39.39.9.59 1.41.59.51 0 1.02-.2 1.41-.59l7.78-7.78 2.81-2.81c.8-.78.8-2.07 0-2.86zM5.41 20L4 18.59l7.72-7.72 1.47 1.35L5.41 20z\"/>\n",
              "  </svg>\n",
              "      </button>\n",
              "      \n",
              "  <style>\n",
              "    .colab-df-container {\n",
              "      display:flex;\n",
              "      flex-wrap:wrap;\n",
              "      gap: 12px;\n",
              "    }\n",
              "\n",
              "    .colab-df-convert {\n",
              "      background-color: #E8F0FE;\n",
              "      border: none;\n",
              "      border-radius: 50%;\n",
              "      cursor: pointer;\n",
              "      display: none;\n",
              "      fill: #1967D2;\n",
              "      height: 32px;\n",
              "      padding: 0 0 0 0;\n",
              "      width: 32px;\n",
              "    }\n",
              "\n",
              "    .colab-df-convert:hover {\n",
              "      background-color: #E2EBFA;\n",
              "      box-shadow: 0px 1px 2px rgba(60, 64, 67, 0.3), 0px 1px 3px 1px rgba(60, 64, 67, 0.15);\n",
              "      fill: #174EA6;\n",
              "    }\n",
              "\n",
              "    [theme=dark] .colab-df-convert {\n",
              "      background-color: #3B4455;\n",
              "      fill: #D2E3FC;\n",
              "    }\n",
              "\n",
              "    [theme=dark] .colab-df-convert:hover {\n",
              "      background-color: #434B5C;\n",
              "      box-shadow: 0px 1px 3px 1px rgba(0, 0, 0, 0.15);\n",
              "      filter: drop-shadow(0px 1px 2px rgba(0, 0, 0, 0.3));\n",
              "      fill: #FFFFFF;\n",
              "    }\n",
              "  </style>\n",
              "\n",
              "      <script>\n",
              "        const buttonEl =\n",
              "          document.querySelector('#df-76609042-1acf-4bee-8ece-fcb3553fdbe0 button.colab-df-convert');\n",
              "        buttonEl.style.display =\n",
              "          google.colab.kernel.accessAllowed ? 'block' : 'none';\n",
              "\n",
              "        async function convertToInteractive(key) {\n",
              "          const element = document.querySelector('#df-76609042-1acf-4bee-8ece-fcb3553fdbe0');\n",
              "          const dataTable =\n",
              "            await google.colab.kernel.invokeFunction('convertToInteractive',\n",
              "                                                     [key], {});\n",
              "          if (!dataTable) return;\n",
              "\n",
              "          const docLinkHtml = 'Like what you see? Visit the ' +\n",
              "            '<a target=\"_blank\" href=https://colab.research.google.com/notebooks/data_table.ipynb>data table notebook</a>'\n",
              "            + ' to learn more about interactive tables.';\n",
              "          element.innerHTML = '';\n",
              "          dataTable['output_type'] = 'display_data';\n",
              "          await google.colab.output.renderOutput(dataTable, element);\n",
              "          const docLink = document.createElement('div');\n",
              "          docLink.innerHTML = docLinkHtml;\n",
              "          element.appendChild(docLink);\n",
              "        }\n",
              "      </script>\n",
              "    </div>\n",
              "  </div>\n",
              "  "
            ]
          },
          "metadata": {},
          "execution_count": 135
        }
      ]
    },
    {
      "cell_type": "code",
      "source": [
        "# Plot and compare results\n",
        "all_model_results.plot(kind = \"bar\", figsize = (10, 7)).legend(bbox_to_anchor=(1.0, 1.0));"
      ],
      "metadata": {
        "colab": {
          "base_uri": "https://localhost:8080/",
          "height": 694
        },
        "id": "ZzCoexDmUhSA",
        "outputId": "14281aa1-fd7d-4364-a8db-2cb107307285"
      },
      "execution_count": null,
      "outputs": [
        {
          "output_type": "display_data",
          "data": {
            "text/plain": [
              "<Figure size 720x504 with 1 Axes>"
            ],
            "image/png": "[encoded data removed]"
          },
          "metadata": {
            "needs_background": "light"
          }
        }
      ]
    },
    {
      "cell_type": "code",
      "source": [
        "all_model_results.sort_values(\"f1\", ascending = False)[\"f1\"].plot(kind = \"bar\", figsize = (10, 7))"
      ],
      "metadata": {
        "colab": {
          "base_uri": "https://localhost:8080/",
          "height": 712
        },
        "id": "fLzaZbvHVI8g",
        "outputId": "41739696-8644-4cc1-be84-8e5bee370382"
      },
      "execution_count": null,
      "outputs": [
        {
          "output_type": "execute_result",
          "data": {
            "text/plain": [
              "<AxesSubplot:>"
            ]
          },
          "metadata": {},
          "execution_count": 137
        },
        {
          "output_type": "display_data",
          "data": {
            "text/plain": [
              "<Figure size 720x504 with 1 Axes>"
            ],
            "image/png": "[encoded data removed]"
          },
          "metadata": {
            "needs_background": "light"
          }
        }
      ]
    },
    {
      "cell_type": "markdown",
      "source": [
        "## Save and load model"
      ],
      "metadata": {
        "id": "hkBThNrzV56A"
      }
    },
    {
      "cell_type": "code",
      "source": [
        "tribrid_model_5.save(\"model_5_skimlit_tribrid\")"
      ],
      "metadata": {
        "colab": {
          "base_uri": "https://localhost:8080/"
        },
        "id": "MRcADctbYyzc",
        "outputId": "0d89ffaf-8f96-42be-ad51-bfff06fae8c0"
      },
      "execution_count": null,
      "outputs": [
        {
          "output_type": "stream",
          "name": "stderr",
          "text": [
            "WARNING:absl:Function `_wrapped_model` contains input name(s) Line_number_inputs, Total_lines_inputs with unsupported characters which will be renamed to line_number_inputs, total_lines_inputs in the SavedModel.\n",
            "WARNING:absl:Found untraced functions such as lstm_cell_4_layer_call_fn, lstm_cell_4_layer_call_and_return_conditional_losses, lstm_cell_5_layer_call_fn, lstm_cell_5_layer_call_and_return_conditional_losses while saving (showing 4 of 4). These functions will not be directly callable after loading.\n"
          ]
        }
      ]
    },
    {
      "cell_type": "code",
      "source": [
        "# load in model\n",
        "loaded_model_5_saved_model_format = tf.keras.models.load_model(\"model_5_skimlit_tribrid\")"
      ],
      "metadata": {
        "id": "raShhriFZQKA"
      },
      "execution_count": null,
      "outputs": []
    },
    {
      "cell_type": "code",
      "source": [
        "loaded_model_5_saved_model_format.evaluate(val_pos_token_char_dataset)"
      ],
      "metadata": {
        "colab": {
          "base_uri": "https://localhost:8080/"
        },
        "id": "fH6uTPI0ZoQ7",
        "outputId": "c25d10fd-50d3-4f25-e366-f07982d84d61"
      },
      "execution_count": null,
      "outputs": [
        {
          "output_type": "stream",
          "name": "stdout",
          "text": [
            "945/945 [==============================] - 24s 22ms/step - loss: 0.9229 - accuracy: 0.8419\n"
          ]
        },
        {
          "output_type": "execute_result",
          "data": {
            "text/plain": [
              "[0.9228819608688354, 0.8418840169906616]"
            ]
          },
          "metadata": {},
          "execution_count": 140
        }
      ]
    },
    {
      "cell_type": "code",
      "source": [
        "print(tf.__version__)"
      ],
      "metadata": {
        "colab": {
          "base_uri": "https://localhost:8080/"
        },
        "id": "D-Oe4pzSZwG-",
        "outputId": "3e648faf-c3bf-4002-bc94-aacdf522196e"
      },
      "execution_count": null,
      "outputs": [
        {
          "output_type": "stream",
          "name": "stdout",
          "text": [
            "2.11.0\n"
          ]
        }
      ]
    },
    {
      "cell_type": "code",
      "source": [
        "# make predictions on loaded model with \n",
        "loaded_model_pred_probs = loaded_model_5_saved_model_format.predict(val_pos_token_char_dataset)\n",
        "loaded_model_pred_probs[:5]"
      ],
      "metadata": {
        "colab": {
          "base_uri": "https://localhost:8080/"
        },
        "id": "rPBnIo1IaZGz",
        "outputId": "845e7583-2601-4219-8c2b-cfc172bf6924"
      },
      "execution_count": null,
      "outputs": [
        {
          "output_type": "stream",
          "name": "stdout",
          "text": [
            "945/945 [==============================] - 22s 20ms/step\n"
          ]
        },
        {
          "output_type": "execute_result",
          "data": {
            "text/plain": [
              "array([[0.6408657 , 0.08295716, 0.01450029, 0.24114941, 0.02052751],\n",
              "       [0.6504106 , 0.07977314, 0.06921577, 0.18846409, 0.01213645],\n",
              "       [0.35518774, 0.10712423, 0.13914147, 0.34590918, 0.05263734],\n",
              "       [0.03213811, 0.0584949 , 0.79733074, 0.02890133, 0.08313494],\n",
              "       [0.04257973, 0.03821047, 0.77699167, 0.03125547, 0.11096273]],\n",
              "      dtype=float32)"
            ]
          },
          "metadata": {},
          "execution_count": 142
        }
      ]
    },
    {
      "cell_type": "code",
      "source": [
        "loaded_model_preds = tf.argmax(loaded_model_pred_probs, axis = 1)\n",
        "loaded_model_preds[:5]"
      ],
      "metadata": {
        "colab": {
          "base_uri": "https://localhost:8080/"
        },
        "id": "5TlwyrP7b5eP",
        "outputId": "df18731f-9659-47f9-a7bc-1a65bcf13354"
      },
      "execution_count": null,
      "outputs": [
        {
          "output_type": "execute_result",
          "data": {
            "text/plain": [
              "<tf.Tensor: shape=(5,), dtype=int64, numpy=array([0, 0, 0, 2, 2])>"
            ]
          },
          "metadata": {},
          "execution_count": 143
        }
      ]
    },
    {
      "cell_type": "code",
      "source": [
        "loaded_model_results = calculate_results(y_true = val_labels_encoded,\n",
        "                                         y_pred = loaded_model_preds)\n",
        "loaded_model_results"
      ],
      "metadata": {
        "colab": {
          "base_uri": "https://localhost:8080/"
        },
        "id": "a8VgIEmJcTjc",
        "outputId": "b6452952-ae92-4fdd-a270-b87608dca747"
      },
      "execution_count": null,
      "outputs": [
        {
          "output_type": "execute_result",
          "data": {
            "text/plain": [
              "{'accuracy': 84.1884019594863,\n",
              " 'precision': 0.8462193997977151,\n",
              " 'recall': 0.8418840195948629,\n",
              " 'f1': 0.8375153793457407}"
            ]
          },
          "metadata": {},
          "execution_count": 144
        }
      ]
    },
    {
      "cell_type": "code",
      "source": [
        "assert loaded_model_results == model_5_results"
      ],
      "metadata": {
        "id": "j7ggx4CEciy4"
      },
      "execution_count": null,
      "outputs": []
    },
    {
      "cell_type": "markdown",
      "source": [
        "`assert` gives an error if two comparable objects are'nt equal"
      ],
      "metadata": {
        "id": "QLUkyRWzdHP7"
      }
    },
    {
      "cell_type": "code",
      "source": [
        "# check loaded model summary\n",
        "loaded_model_5_saved_model_format.summary()"
      ],
      "metadata": {
        "colab": {
          "base_uri": "https://localhost:8080/"
        },
        "id": "xc-7u2GHctFZ",
        "outputId": "53c92d8c-20f5-4597-dc84-b0407db03dd5"
      },
      "execution_count": null,
      "outputs": [
        {
          "output_type": "stream",
          "name": "stdout",
          "text": [
            "Model: \"tribrid_model_5\"\n",
            "__________________________________________________________________________________________________\n",
            " Layer (type)                   Output Shape         Param #     Connected to                     \n",
            "==================================================================================================\n",
            " char_inputs (InputLayer)       [(None, 1)]          0           []                               \n",
            "                                                                                                  \n",
            " token_inputs (InputLayer)      [(None,)]            0           []                               \n",
            "                                                                                                  \n",
            " char_vectorizer (TextVectoriza  (None, 290)         0           ['char_inputs[0][0]']            \n",
            " tion)                                                                                            \n",
            "                                                                                                  \n",
            " USE (KerasLayer)               (None, 512)          256797824   ['token_inputs[0][0]']           \n",
            "                                                                                                  \n",
            " char_embed (Embedding)         (None, 290, 25)      700         ['char_vectorizer[0][0]']        \n",
            "                                                                                                  \n",
            " dense_8 (Dense)                (None, 128)          65664       ['USE[0][0]']                    \n",
            "                                                                                                  \n",
            " bidirectional_1 (Bidirectional  (None, 48)          9600        ['char_embed[0][0]']             \n",
            " )                                                                                                \n",
            "                                                                                                  \n",
            " token_char_hybrid_embedding (C  (None, 176)         0           ['dense_8[0][0]',                \n",
            " oncatenate)                                                      'bidirectional_1[0][0]']        \n",
            "                                                                                                  \n",
            " Line_number_inputs (InputLayer  [(None, 15)]        0           []                               \n",
            " )                                                                                                \n",
            "                                                                                                  \n",
            " Total_lines_inputs (InputLayer  [(None, 20)]        0           []                               \n",
            " )                                                                                                \n",
            "                                                                                                  \n",
            " dense_11 (Dense)               (None, 256)          45312       ['token_char_hybrid_embedding[0][\n",
            "                                                                 0]']                             \n",
            "                                                                                                  \n",
            " dense_9 (Dense)                (None, 32)           512         ['Line_number_inputs[0][0]']     \n",
            "                                                                                                  \n",
            " dense_10 (Dense)               (None, 32)           672         ['Total_lines_inputs[0][0]']     \n",
            "                                                                                                  \n",
            " dropout_2 (Dropout)            (None, 256)          0           ['dense_11[0][0]']               \n",
            "                                                                                                  \n",
            " combined_token_positional_embe  (None, 320)         0           ['dense_9[0][0]',                \n",
            " dding (Concatenate)                                              'dense_10[0][0]',               \n",
            "                                                                  'dropout_2[0][0]']              \n",
            "                                                                                                  \n",
            " output_layer (Dense)           (None, 5)            1605        ['combined_token_positional_embed\n",
            "                                                                 ding[0][0]']                     \n",
            "                                                                                                  \n",
            "==================================================================================================\n",
            "Total params: 256,921,889\n",
            "Trainable params: 124,065\n",
            "Non-trainable params: 256,797,824\n",
            "__________________________________________________________________________________________________\n"
          ]
        }
      ]
    }
  ]
}