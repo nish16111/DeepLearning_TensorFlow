{
  "nbformat": 4,
  "nbformat_minor": 0,
  "metadata": {
    "colab": {
      "provenance": []
    },
    "kernelspec": {
      "name": "python3",
      "display_name": "Python 3"
    },
    "language_info": {
      "name": "python"
    }
  },
  "cells": [
    {
      "cell_type": "code",
      "execution_count": null,
      "metadata": {
        "id": "-Smg4OTve7HF"
      },
      "outputs": [],
      "source": [
        "import tensorflow as tf"
      ]
    },
    {
      "cell_type": "code",
      "source": [
        "print(tf.__version__)"
      ],
      "metadata": {
        "colab": {
          "base_uri": "https://localhost:8080/"
        },
        "id": "0GHx0KnXg0g8",
        "outputId": "1bededc3-6e8d-4cf3-abd1-f36dd5f534d7"
      },
      "execution_count": null,
      "outputs": [
        {
          "output_type": "stream",
          "name": "stdout",
          "text": [
            "2.8.2\n"
          ]
        }
      ]
    },
    {
      "cell_type": "code",
      "source": [
        "###Creating Data"
      ],
      "metadata": {
        "id": "60psF4GQg3pQ"
      },
      "execution_count": null,
      "outputs": []
    },
    {
      "cell_type": "code",
      "source": [
        "import numpy as np\n",
        "import matplotlib.pyplot as plt\n",
        "\n",
        "X = np.array([-7.0, -4.0, -1.0, 2.0, 5.0, 8.0, 11.0, 14.0])\n",
        "\n",
        "y = np.array([3.0, 6.0, 9.0, 12.0, 15.0, 18.0, 21.0, 24.0])\n",
        "\n",
        "plt.scatter(X, y);"
      ],
      "metadata": {
        "colab": {
          "base_uri": "https://localhost:8080/",
          "height": 269
        },
        "id": "efdHLq59hBnp",
        "outputId": "814f4164-f823-4b52-823d-287f755984b6"
      },
      "execution_count": null,
      "outputs": [
        {
          "output_type": "display_data",
          "data": {
            "text/plain": [
              "<Figure size 432x288 with 1 Axes>"
            ],
            "image/png": "[encoded data removed]"
          },
          "metadata": {
            "needs_background": "light"
          }
        }
      ]
    },
    {
      "cell_type": "code",
      "source": [
        "X.shape, y.shape"
      ],
      "metadata": {
        "colab": {
          "base_uri": "https://localhost:8080/"
        },
        "id": "99rHAAtghfoW",
        "outputId": "144ce570-f78c-49e4-ccdb-3688e7a3ae04"
      },
      "execution_count": null,
      "outputs": [
        {
          "output_type": "execute_result",
          "data": {
            "text/plain": [
              "((8,), (8,))"
            ]
          },
          "metadata": {},
          "execution_count": 5
        }
      ]
    },
    {
      "cell_type": "code",
      "source": [
        "house_info = tf.constant([\"bedroom\", \"bathroom\", \"garage\"])\n",
        "house_price = tf.constant([939700])\n",
        "house_info, house_price"
      ],
      "metadata": {
        "colab": {
          "base_uri": "https://localhost:8080/"
        },
        "id": "on8EWBsch-ck",
        "outputId": "82f49263-29d0-427c-adaf-faefed7b988f"
      },
      "execution_count": null,
      "outputs": [
        {
          "output_type": "execute_result",
          "data": {
            "text/plain": [
              "(<tf.Tensor: shape=(3,), dtype=string, numpy=array([b'bedroom', b'bathroom', b'garage'], dtype=object)>,\n",
              " <tf.Tensor: shape=(1,), dtype=int32, numpy=array([939700], dtype=int32)>)"
            ]
          },
          "metadata": {},
          "execution_count": 6
        }
      ]
    },
    {
      "cell_type": "code",
      "source": [
        "X[0], y[0]"
      ],
      "metadata": {
        "colab": {
          "base_uri": "https://localhost:8080/"
        },
        "id": "0deqjQMTi4yM",
        "outputId": "9e882ec7-3a3c-46c4-ce39-fb0a823b20a0"
      },
      "execution_count": null,
      "outputs": [
        {
          "output_type": "execute_result",
          "data": {
            "text/plain": [
              "(-7.0, 3.0)"
            ]
          },
          "metadata": {},
          "execution_count": 7
        }
      ]
    },
    {
      "cell_type": "code",
      "source": [
        "X[1], y[1]"
      ],
      "metadata": {
        "colab": {
          "base_uri": "https://localhost:8080/"
        },
        "id": "2DsD_35Xi9Hl",
        "outputId": "21423b12-c652-411d-be22-850646c23323"
      },
      "execution_count": null,
      "outputs": [
        {
          "output_type": "execute_result",
          "data": {
            "text/plain": [
              "(-4.0, 6.0)"
            ]
          },
          "metadata": {},
          "execution_count": 8
        }
      ]
    },
    {
      "cell_type": "code",
      "source": [
        "input_shape = X[0].shape\n",
        "output_shape = y[0].shape\n",
        "input_shape, output_shape"
      ],
      "metadata": {
        "colab": {
          "base_uri": "https://localhost:8080/"
        },
        "id": "sbsNR9oEiV67",
        "outputId": "c81b5b63-f271-4e42-f232-fff925a093fc"
      },
      "execution_count": null,
      "outputs": [
        {
          "output_type": "execute_result",
          "data": {
            "text/plain": [
              "((), ())"
            ]
          },
          "metadata": {},
          "execution_count": 9
        }
      ]
    },
    {
      "cell_type": "code",
      "source": [
        "X[0].ndim"
      ],
      "metadata": {
        "colab": {
          "base_uri": "https://localhost:8080/"
        },
        "id": "Mh-yjKd1i1Qv",
        "outputId": "a399ebf2-8076-4f46-da1f-547efee54a4c"
      },
      "execution_count": null,
      "outputs": [
        {
          "output_type": "execute_result",
          "data": {
            "text/plain": [
              "0"
            ]
          },
          "metadata": {},
          "execution_count": 10
        }
      ]
    },
    {
      "cell_type": "code",
      "source": [
        "X[0], y[0]"
      ],
      "metadata": {
        "colab": {
          "base_uri": "https://localhost:8080/"
        },
        "id": "cuITHOnEjUAp",
        "outputId": "8cd4273c-2fd6-4fa1-fbd3-8be2943fd239"
      },
      "execution_count": null,
      "outputs": [
        {
          "output_type": "execute_result",
          "data": {
            "text/plain": [
              "(-7.0, 3.0)"
            ]
          },
          "metadata": {},
          "execution_count": 11
        }
      ]
    },
    {
      "cell_type": "code",
      "source": [
        "X = tf.constant(X)\n",
        "y= tf.constant(y)\n",
        "X, y"
      ],
      "metadata": {
        "colab": {
          "base_uri": "https://localhost:8080/"
        },
        "id": "TQhjw9rYjXD7",
        "outputId": "f4dd38ac-b2ee-4768-a424-026fd0b2ad32"
      },
      "execution_count": null,
      "outputs": [
        {
          "output_type": "execute_result",
          "data": {
            "text/plain": [
              "(<tf.Tensor: shape=(8,), dtype=float64, numpy=array([-7., -4., -1.,  2.,  5.,  8., 11., 14.])>,\n",
              " <tf.Tensor: shape=(8,), dtype=float64, numpy=array([ 3.,  6.,  9., 12., 15., 18., 21., 24.])>)"
            ]
          },
          "metadata": {},
          "execution_count": 12
        }
      ]
    },
    {
      "cell_type": "code",
      "source": [
        "input_shape = X[0].shape\n",
        "output_shape = y[0].shape\n",
        "input_shape, output_shape"
      ],
      "metadata": {
        "colab": {
          "base_uri": "https://localhost:8080/"
        },
        "id": "4qZhpIfwzCj6",
        "outputId": "950f5266-b44d-416e-e110-adf3b06a1253"
      },
      "execution_count": null,
      "outputs": [
        {
          "output_type": "execute_result",
          "data": {
            "text/plain": [
              "(TensorShape([]), TensorShape([]))"
            ]
          },
          "metadata": {},
          "execution_count": 13
        }
      ]
    },
    {
      "cell_type": "code",
      "source": [
        "plt.scatter(X, y)"
      ],
      "metadata": {
        "colab": {
          "base_uri": "https://localhost:8080/",
          "height": 287
        },
        "id": "cEG96LOtzOEM",
        "outputId": "8eaea404-ab86-4198-86a8-97d22d7141a7"
      },
      "execution_count": null,
      "outputs": [
        {
          "output_type": "execute_result",
          "data": {
            "text/plain": [
              "<matplotlib.collections.PathCollection at 0x7f8b1e3e6a10>"
            ]
          },
          "metadata": {},
          "execution_count": 14
        },
        {
          "output_type": "display_data",
          "data": {
            "text/plain": [
              "<Figure size 432x288 with 1 Axes>"
            ],
            "image/png": "[encoded data removed]"
          },
          "metadata": {
            "needs_background": "light"
          }
        }
      ]
    },
    {
      "cell_type": "code",
      "source": [
        "# create \n",
        "# compile\n",
        "# fitting a model\n",
        "# evaluate the model\n",
        "tf.random.set_seed(42)\n",
        "model = tf.keras.Sequential([\n",
        "    \n",
        "    tf.keras.layers.Dense(1)\n",
        "])\n",
        "\n",
        "model.compile(loss=tf.keras.losses.mae,\n",
        "              optimizer=tf.keras.optimizers.SGD(),\n",
        "              metrics=[\"mae\"])\n",
        "\n",
        "model.fit(tf.expand_dims(X, axis=-1), y, epochs=100)"
      ],
      "metadata": {
        "colab": {
          "base_uri": "https://localhost:8080/"
        },
        "id": "uFOhF8bDzYBb",
        "outputId": "1fd03951-ecd3-4f8d-f487-f024900fa281"
      },
      "execution_count": null,
      "outputs": [
        {
          "output_type": "stream",
          "name": "stdout",
          "text": [
            "Epoch 1/100\n",
            "1/1 [==============================] - 1s 568ms/step - loss: 11.5048 - mae: 11.5048\n",
            "Epoch 2/100\n",
            "1/1 [==============================] - 0s 5ms/step - loss: 11.3723 - mae: 11.3723\n",
            "Epoch 3/100\n",
            "1/1 [==============================] - 0s 8ms/step - loss: 11.2398 - mae: 11.2398\n",
            "Epoch 4/100\n",
            "1/1 [==============================] - 0s 13ms/step - loss: 11.1073 - mae: 11.1073\n",
            "Epoch 5/100\n",
            "1/1 [==============================] - 0s 8ms/step - loss: 10.9748 - mae: 10.9748\n",
            "Epoch 6/100\n",
            "1/1 [==============================] - 0s 13ms/step - loss: 10.8423 - mae: 10.8423\n",
            "Epoch 7/100\n",
            "1/1 [==============================] - 0s 12ms/step - loss: 10.7098 - mae: 10.7098\n",
            "Epoch 8/100\n",
            "1/1 [==============================] - 0s 12ms/step - loss: 10.5773 - mae: 10.5773\n",
            "Epoch 9/100\n",
            "1/1 [==============================] - 0s 9ms/step - loss: 10.4448 - mae: 10.4448\n",
            "Epoch 10/100\n",
            "1/1 [==============================] - 0s 8ms/step - loss: 10.3123 - mae: 10.3123\n",
            "Epoch 11/100\n",
            "1/1 [==============================] - 0s 8ms/step - loss: 10.1798 - mae: 10.1798\n",
            "Epoch 12/100\n",
            "1/1 [==============================] - 0s 8ms/step - loss: 10.0473 - mae: 10.0473\n",
            "Epoch 13/100\n",
            "1/1 [==============================] - 0s 8ms/step - loss: 9.9148 - mae: 9.9148\n",
            "Epoch 14/100\n",
            "1/1 [==============================] - 0s 8ms/step - loss: 9.7823 - mae: 9.7823\n",
            "Epoch 15/100\n",
            "1/1 [==============================] - 0s 7ms/step - loss: 9.6498 - mae: 9.6498\n",
            "Epoch 16/100\n",
            "1/1 [==============================] - 0s 8ms/step - loss: 9.5173 - mae: 9.5173\n",
            "Epoch 17/100\n",
            "1/1 [==============================] - 0s 8ms/step - loss: 9.3848 - mae: 9.3848\n",
            "Epoch 18/100\n",
            "1/1 [==============================] - 0s 8ms/step - loss: 9.2523 - mae: 9.2523\n",
            "Epoch 19/100\n",
            "1/1 [==============================] - 0s 11ms/step - loss: 9.1198 - mae: 9.1198\n",
            "Epoch 20/100\n",
            "1/1 [==============================] - 0s 18ms/step - loss: 8.9873 - mae: 8.9873\n",
            "Epoch 21/100\n",
            "1/1 [==============================] - 0s 10ms/step - loss: 8.8548 - mae: 8.8548\n",
            "Epoch 22/100\n",
            "1/1 [==============================] - 0s 9ms/step - loss: 8.7223 - mae: 8.7223\n",
            "Epoch 23/100\n",
            "1/1 [==============================] - 0s 8ms/step - loss: 8.5898 - mae: 8.5898\n",
            "Epoch 24/100\n",
            "1/1 [==============================] - 0s 11ms/step - loss: 8.4573 - mae: 8.4573\n",
            "Epoch 25/100\n",
            "1/1 [==============================] - 0s 6ms/step - loss: 8.3248 - mae: 8.3248\n",
            "Epoch 26/100\n",
            "1/1 [==============================] - 0s 6ms/step - loss: 8.1923 - mae: 8.1923\n",
            "Epoch 27/100\n",
            "1/1 [==============================] - 0s 7ms/step - loss: 8.0598 - mae: 8.0598\n",
            "Epoch 28/100\n",
            "1/1 [==============================] - 0s 6ms/step - loss: 7.9273 - mae: 7.9273\n",
            "Epoch 29/100\n",
            "1/1 [==============================] - 0s 6ms/step - loss: 7.7948 - mae: 7.7948\n",
            "Epoch 30/100\n",
            "1/1 [==============================] - 0s 6ms/step - loss: 7.6623 - mae: 7.6623\n",
            "Epoch 31/100\n",
            "1/1 [==============================] - 0s 7ms/step - loss: 7.5298 - mae: 7.5298\n",
            "Epoch 32/100\n",
            "1/1 [==============================] - 0s 7ms/step - loss: 7.3973 - mae: 7.3973\n",
            "Epoch 33/100\n",
            "1/1 [==============================] - 0s 7ms/step - loss: 7.2648 - mae: 7.2648\n",
            "Epoch 34/100\n",
            "1/1 [==============================] - 0s 7ms/step - loss: 7.2525 - mae: 7.2525\n",
            "Epoch 35/100\n",
            "1/1 [==============================] - 0s 7ms/step - loss: 7.2469 - mae: 7.2469\n",
            "Epoch 36/100\n",
            "1/1 [==============================] - 0s 7ms/step - loss: 7.2413 - mae: 7.2413\n",
            "Epoch 37/100\n",
            "1/1 [==============================] - 0s 7ms/step - loss: 7.2356 - mae: 7.2356\n",
            "Epoch 38/100\n",
            "1/1 [==============================] - 0s 7ms/step - loss: 7.2300 - mae: 7.2300\n",
            "Epoch 39/100\n",
            "1/1 [==============================] - 0s 7ms/step - loss: 7.2244 - mae: 7.2244\n",
            "Epoch 40/100\n",
            "1/1 [==============================] - 0s 9ms/step - loss: 7.2188 - mae: 7.2188\n",
            "Epoch 41/100\n",
            "1/1 [==============================] - 0s 7ms/step - loss: 7.2131 - mae: 7.2131\n",
            "Epoch 42/100\n",
            "1/1 [==============================] - 0s 6ms/step - loss: 7.2075 - mae: 7.2075\n",
            "Epoch 43/100\n",
            "1/1 [==============================] - 0s 7ms/step - loss: 7.2019 - mae: 7.2019\n",
            "Epoch 44/100\n",
            "1/1 [==============================] - 0s 7ms/step - loss: 7.1963 - mae: 7.1963\n",
            "Epoch 45/100\n",
            "1/1 [==============================] - 0s 7ms/step - loss: 7.1906 - mae: 7.1906\n",
            "Epoch 46/100\n",
            "1/1 [==============================] - 0s 7ms/step - loss: 7.1850 - mae: 7.1850\n",
            "Epoch 47/100\n",
            "1/1 [==============================] - 0s 7ms/step - loss: 7.1794 - mae: 7.1794\n",
            "Epoch 48/100\n",
            "1/1 [==============================] - 0s 7ms/step - loss: 7.1738 - mae: 7.1738\n",
            "Epoch 49/100\n",
            "1/1 [==============================] - 0s 7ms/step - loss: 7.1681 - mae: 7.1681\n",
            "Epoch 50/100\n",
            "1/1 [==============================] - 0s 6ms/step - loss: 7.1625 - mae: 7.1625\n",
            "Epoch 51/100\n",
            "1/1 [==============================] - 0s 7ms/step - loss: 7.1569 - mae: 7.1569\n",
            "Epoch 52/100\n",
            "1/1 [==============================] - 0s 7ms/step - loss: 7.1512 - mae: 7.1512\n",
            "Epoch 53/100\n",
            "1/1 [==============================] - 0s 10ms/step - loss: 7.1456 - mae: 7.1456\n",
            "Epoch 54/100\n",
            "1/1 [==============================] - 0s 11ms/step - loss: 7.1400 - mae: 7.1400\n",
            "Epoch 55/100\n",
            "1/1 [==============================] - 0s 7ms/step - loss: 7.1344 - mae: 7.1344\n",
            "Epoch 56/100\n",
            "1/1 [==============================] - 0s 6ms/step - loss: 7.1287 - mae: 7.1287\n",
            "Epoch 57/100\n",
            "1/1 [==============================] - 0s 6ms/step - loss: 7.1231 - mae: 7.1231\n",
            "Epoch 58/100\n",
            "1/1 [==============================] - 0s 6ms/step - loss: 7.1175 - mae: 7.1175\n",
            "Epoch 59/100\n",
            "1/1 [==============================] - 0s 6ms/step - loss: 7.1119 - mae: 7.1119\n",
            "Epoch 60/100\n",
            "1/1 [==============================] - 0s 6ms/step - loss: 7.1063 - mae: 7.1063\n",
            "Epoch 61/100\n",
            "1/1 [==============================] - 0s 6ms/step - loss: 7.1006 - mae: 7.1006\n",
            "Epoch 62/100\n",
            "1/1 [==============================] - 0s 7ms/step - loss: 7.0950 - mae: 7.0950\n",
            "Epoch 63/100\n",
            "1/1 [==============================] - 0s 7ms/step - loss: 7.0894 - mae: 7.0894\n",
            "Epoch 64/100\n",
            "1/1 [==============================] - 0s 7ms/step - loss: 7.0838 - mae: 7.0838\n",
            "Epoch 65/100\n",
            "1/1 [==============================] - 0s 6ms/step - loss: 7.0781 - mae: 7.0781\n",
            "Epoch 66/100\n",
            "1/1 [==============================] - 0s 7ms/step - loss: 7.0725 - mae: 7.0725\n",
            "Epoch 67/100\n",
            "1/1 [==============================] - 0s 6ms/step - loss: 7.0669 - mae: 7.0669\n",
            "Epoch 68/100\n",
            "1/1 [==============================] - 0s 8ms/step - loss: 7.0613 - mae: 7.0613\n",
            "Epoch 69/100\n",
            "1/1 [==============================] - 0s 7ms/step - loss: 7.0556 - mae: 7.0556\n",
            "Epoch 70/100\n",
            "1/1 [==============================] - 0s 7ms/step - loss: 7.0500 - mae: 7.0500\n",
            "Epoch 71/100\n",
            "1/1 [==============================] - 0s 6ms/step - loss: 7.0444 - mae: 7.0444\n",
            "Epoch 72/100\n",
            "1/1 [==============================] - 0s 6ms/step - loss: 7.0388 - mae: 7.0388\n",
            "Epoch 73/100\n",
            "1/1 [==============================] - 0s 7ms/step - loss: 7.0331 - mae: 7.0331\n",
            "Epoch 74/100\n",
            "1/1 [==============================] - 0s 7ms/step - loss: 7.0275 - mae: 7.0275\n",
            "Epoch 75/100\n",
            "1/1 [==============================] - 0s 7ms/step - loss: 7.0219 - mae: 7.0219\n",
            "Epoch 76/100\n",
            "1/1 [==============================] - 0s 7ms/step - loss: 7.0163 - mae: 7.0163\n",
            "Epoch 77/100\n",
            "1/1 [==============================] - 0s 6ms/step - loss: 7.0106 - mae: 7.0106\n",
            "Epoch 78/100\n",
            "1/1 [==============================] - 0s 6ms/step - loss: 7.0050 - mae: 7.0050\n",
            "Epoch 79/100\n",
            "1/1 [==============================] - 0s 7ms/step - loss: 6.9994 - mae: 6.9994\n",
            "Epoch 80/100\n",
            "1/1 [==============================] - 0s 6ms/step - loss: 6.9938 - mae: 6.9938\n",
            "Epoch 81/100\n",
            "1/1 [==============================] - 0s 6ms/step - loss: 6.9881 - mae: 6.9881\n",
            "Epoch 82/100\n",
            "1/1 [==============================] - 0s 6ms/step - loss: 6.9825 - mae: 6.9825\n",
            "Epoch 83/100\n",
            "1/1 [==============================] - 0s 7ms/step - loss: 6.9769 - mae: 6.9769\n",
            "Epoch 84/100\n",
            "1/1 [==============================] - 0s 9ms/step - loss: 6.9713 - mae: 6.9713\n",
            "Epoch 85/100\n",
            "1/1 [==============================] - 0s 9ms/step - loss: 6.9656 - mae: 6.9656\n",
            "Epoch 86/100\n",
            "1/1 [==============================] - 0s 6ms/step - loss: 6.9600 - mae: 6.9600\n",
            "Epoch 87/100\n",
            "1/1 [==============================] - 0s 13ms/step - loss: 6.9544 - mae: 6.9544\n",
            "Epoch 88/100\n",
            "1/1 [==============================] - 0s 7ms/step - loss: 6.9488 - mae: 6.9488\n",
            "Epoch 89/100\n",
            "1/1 [==============================] - 0s 7ms/step - loss: 6.9431 - mae: 6.9431\n",
            "Epoch 90/100\n",
            "1/1 [==============================] - 0s 7ms/step - loss: 6.9375 - mae: 6.9375\n",
            "Epoch 91/100\n",
            "1/1 [==============================] - 0s 11ms/step - loss: 6.9319 - mae: 6.9319\n",
            "Epoch 92/100\n",
            "1/1 [==============================] - 0s 7ms/step - loss: 6.9263 - mae: 6.9263\n",
            "Epoch 93/100\n",
            "1/1 [==============================] - 0s 7ms/step - loss: 6.9206 - mae: 6.9206\n",
            "Epoch 94/100\n",
            "1/1 [==============================] - 0s 7ms/step - loss: 6.9150 - mae: 6.9150\n",
            "Epoch 95/100\n",
            "1/1 [==============================] - 0s 7ms/step - loss: 6.9094 - mae: 6.9094\n",
            "Epoch 96/100\n",
            "1/1 [==============================] - 0s 7ms/step - loss: 6.9038 - mae: 6.9038\n",
            "Epoch 97/100\n",
            "1/1 [==============================] - 0s 7ms/step - loss: 6.8981 - mae: 6.8981\n",
            "Epoch 98/100\n",
            "1/1 [==============================] - 0s 7ms/step - loss: 6.8925 - mae: 6.8925\n",
            "Epoch 99/100\n",
            "1/1 [==============================] - 0s 6ms/step - loss: 6.8869 - mae: 6.8869\n",
            "Epoch 100/100\n",
            "1/1 [==============================] - 0s 6ms/step - loss: 6.8813 - mae: 6.8813\n"
          ]
        },
        {
          "output_type": "execute_result",
          "data": {
            "text/plain": [
              "<keras.callbacks.History at 0x7f8b1dac58d0>"
            ]
          },
          "metadata": {},
          "execution_count": 15
        }
      ]
    },
    {
      "cell_type": "code",
      "source": [
        "X, y"
      ],
      "metadata": {
        "colab": {
          "base_uri": "https://localhost:8080/"
        },
        "id": "TXR5sUHXOdIr",
        "outputId": "f23e71be-1c07-4c5a-a957-cd56744099db"
      },
      "execution_count": null,
      "outputs": [
        {
          "output_type": "execute_result",
          "data": {
            "text/plain": [
              "(<tf.Tensor: shape=(8,), dtype=float64, numpy=array([-7., -4., -1.,  2.,  5.,  8., 11., 14.])>,\n",
              " <tf.Tensor: shape=(8,), dtype=float64, numpy=array([ 3.,  6.,  9., 12., 15., 18., 21., 24.])>)"
            ]
          },
          "metadata": {},
          "execution_count": 16
        }
      ]
    },
    {
      "cell_type": "code",
      "source": [
        "y_pred = model.predict([17])\n",
        "y_pred"
      ],
      "metadata": {
        "colab": {
          "base_uri": "https://localhost:8080/"
        },
        "id": "Zf2_bH5LRrZN",
        "outputId": "ca6e1f9a-63d6-4d32-f03d-29a5ed92171f"
      },
      "execution_count": null,
      "outputs": [
        {
          "output_type": "execute_result",
          "data": {
            "text/plain": [
              "array([[30.158512]], dtype=float32)"
            ]
          },
          "metadata": {},
          "execution_count": 17
        }
      ]
    },
    {
      "cell_type": "code",
      "source": [
        "# extra hidden layer\n",
        "model = tf.keras.Sequential([\n",
        "    tf.keras.layers.Dense(50, activation = None),\n",
        "    tf.keras.layers.Dense(1)\n",
        "])\n",
        "model.compile(loss = \"mae\",\n",
        "               optimizer = tf.keras.optimizers.Adam(learning_rate=0.01),\n",
        "               metrics = [\"mae\"])\n",
        "model.fit(tf.expand_dims(X, axis = -1), y, epochs= 100)"
      ],
      "metadata": {
        "colab": {
          "base_uri": "https://localhost:8080/"
        },
        "id": "Fyk91-AkRwaK",
        "outputId": "07f351fc-5cc5-448d-fcc7-76097173b717"
      },
      "execution_count": null,
      "outputs": [
        {
          "output_type": "stream",
          "name": "stdout",
          "text": [
            "Epoch 1/100\n",
            "1/1 [==============================] - 1s 550ms/step - loss: 14.6466 - mae: 14.6466\n",
            "Epoch 2/100\n",
            "1/1 [==============================] - 0s 9ms/step - loss: 13.9532 - mae: 13.9532\n",
            "Epoch 3/100\n",
            "1/1 [==============================] - 0s 12ms/step - loss: 13.2603 - mae: 13.2603\n",
            "Epoch 4/100\n",
            "1/1 [==============================] - 0s 10ms/step - loss: 12.5659 - mae: 12.5659\n",
            "Epoch 5/100\n",
            "1/1 [==============================] - 0s 13ms/step - loss: 11.8675 - mae: 11.8675\n",
            "Epoch 6/100\n",
            "1/1 [==============================] - 0s 8ms/step - loss: 11.1621 - mae: 11.1621\n",
            "Epoch 7/100\n",
            "1/1 [==============================] - 0s 11ms/step - loss: 10.4475 - mae: 10.4475\n",
            "Epoch 8/100\n",
            "1/1 [==============================] - 0s 7ms/step - loss: 9.7214 - mae: 9.7214\n",
            "Epoch 9/100\n",
            "1/1 [==============================] - 0s 11ms/step - loss: 8.9817 - mae: 8.9817\n",
            "Epoch 10/100\n",
            "1/1 [==============================] - 0s 9ms/step - loss: 8.2262 - mae: 8.2262\n",
            "Epoch 11/100\n",
            "1/1 [==============================] - 0s 8ms/step - loss: 7.4526 - mae: 7.4526\n",
            "Epoch 12/100\n",
            "1/1 [==============================] - 0s 8ms/step - loss: 6.6585 - mae: 6.6585\n",
            "Epoch 13/100\n",
            "1/1 [==============================] - 0s 9ms/step - loss: 6.6244 - mae: 6.6244\n",
            "Epoch 14/100\n",
            "1/1 [==============================] - 0s 8ms/step - loss: 6.9777 - mae: 6.9777\n",
            "Epoch 15/100\n",
            "1/1 [==============================] - 0s 8ms/step - loss: 7.2653 - mae: 7.2653\n",
            "Epoch 16/100\n",
            "1/1 [==============================] - 0s 7ms/step - loss: 7.4820 - mae: 7.4820\n",
            "Epoch 17/100\n",
            "1/1 [==============================] - 0s 8ms/step - loss: 7.4879 - mae: 7.4879\n",
            "Epoch 18/100\n",
            "1/1 [==============================] - 0s 8ms/step - loss: 7.3301 - mae: 7.3301\n",
            "Epoch 19/100\n",
            "1/1 [==============================] - 0s 9ms/step - loss: 7.0454 - mae: 7.0454\n",
            "Epoch 20/100\n",
            "1/1 [==============================] - 0s 9ms/step - loss: 6.7251 - mae: 6.7251\n",
            "Epoch 21/100\n",
            "1/1 [==============================] - 0s 9ms/step - loss: 6.4643 - mae: 6.4643\n",
            "Epoch 22/100\n",
            "1/1 [==============================] - 0s 12ms/step - loss: 6.1900 - mae: 6.1900\n",
            "Epoch 23/100\n",
            "1/1 [==============================] - 0s 8ms/step - loss: 5.9246 - mae: 5.9246\n",
            "Epoch 24/100\n",
            "1/1 [==============================] - 0s 8ms/step - loss: 5.8782 - mae: 5.8782\n",
            "Epoch 25/100\n",
            "1/1 [==============================] - 0s 8ms/step - loss: 5.8276 - mae: 5.8276\n",
            "Epoch 26/100\n",
            "1/1 [==============================] - 0s 7ms/step - loss: 5.9724 - mae: 5.9724\n",
            "Epoch 27/100\n",
            "1/1 [==============================] - 0s 7ms/step - loss: 6.0130 - mae: 6.0130\n",
            "Epoch 28/100\n",
            "1/1 [==============================] - 0s 7ms/step - loss: 5.9583 - mae: 5.9583\n",
            "Epoch 29/100\n",
            "1/1 [==============================] - 0s 7ms/step - loss: 5.8190 - mae: 5.8190\n",
            "Epoch 30/100\n",
            "1/1 [==============================] - 0s 7ms/step - loss: 5.6030 - mae: 5.6030\n",
            "Epoch 31/100\n",
            "1/1 [==============================] - 0s 7ms/step - loss: 5.3433 - mae: 5.3433\n",
            "Epoch 32/100\n",
            "1/1 [==============================] - 0s 7ms/step - loss: 5.2352 - mae: 5.2352\n",
            "Epoch 33/100\n",
            "1/1 [==============================] - 0s 8ms/step - loss: 5.1239 - mae: 5.1239\n",
            "Epoch 34/100\n",
            "1/1 [==============================] - 0s 7ms/step - loss: 5.0746 - mae: 5.0746\n",
            "Epoch 35/100\n",
            "1/1 [==============================] - 0s 7ms/step - loss: 5.0523 - mae: 5.0523\n",
            "Epoch 36/100\n",
            "1/1 [==============================] - 0s 7ms/step - loss: 4.9871 - mae: 4.9871\n",
            "Epoch 37/100\n",
            "1/1 [==============================] - 0s 6ms/step - loss: 4.8824 - mae: 4.8824\n",
            "Epoch 38/100\n",
            "1/1 [==============================] - 0s 7ms/step - loss: 4.7409 - mae: 4.7409\n",
            "Epoch 39/100\n",
            "1/1 [==============================] - 0s 6ms/step - loss: 4.5658 - mae: 4.5658\n",
            "Epoch 40/100\n",
            "1/1 [==============================] - 0s 7ms/step - loss: 4.4020 - mae: 4.4020\n",
            "Epoch 41/100\n",
            "1/1 [==============================] - 0s 7ms/step - loss: 4.3009 - mae: 4.3009\n",
            "Epoch 42/100\n",
            "1/1 [==============================] - 0s 11ms/step - loss: 4.1923 - mae: 4.1923\n",
            "Epoch 43/100\n",
            "1/1 [==============================] - 0s 7ms/step - loss: 4.0760 - mae: 4.0760\n",
            "Epoch 44/100\n",
            "1/1 [==============================] - 0s 8ms/step - loss: 4.0086 - mae: 4.0086\n",
            "Epoch 45/100\n",
            "1/1 [==============================] - 0s 8ms/step - loss: 3.8364 - mae: 3.8364\n",
            "Epoch 46/100\n",
            "1/1 [==============================] - 0s 8ms/step - loss: 3.6514 - mae: 3.6514\n",
            "Epoch 47/100\n",
            "1/1 [==============================] - 0s 6ms/step - loss: 3.4858 - mae: 3.4858\n",
            "Epoch 48/100\n",
            "1/1 [==============================] - 0s 7ms/step - loss: 3.3568 - mae: 3.3568\n",
            "Epoch 49/100\n",
            "1/1 [==============================] - 0s 6ms/step - loss: 3.2428 - mae: 3.2428\n",
            "Epoch 50/100\n",
            "1/1 [==============================] - 0s 7ms/step - loss: 3.0760 - mae: 3.0760\n",
            "Epoch 51/100\n",
            "1/1 [==============================] - 0s 7ms/step - loss: 2.8591 - mae: 2.8591\n",
            "Epoch 52/100\n",
            "1/1 [==============================] - 0s 7ms/step - loss: 2.6501 - mae: 2.6501\n",
            "Epoch 53/100\n",
            "1/1 [==============================] - 0s 7ms/step - loss: 2.4760 - mae: 2.4760\n",
            "Epoch 54/100\n",
            "1/1 [==============================] - 0s 7ms/step - loss: 2.3457 - mae: 2.3457\n",
            "Epoch 55/100\n",
            "1/1 [==============================] - 0s 7ms/step - loss: 2.1065 - mae: 2.1065\n",
            "Epoch 56/100\n",
            "1/1 [==============================] - 0s 8ms/step - loss: 1.8523 - mae: 1.8523\n",
            "Epoch 57/100\n",
            "1/1 [==============================] - 0s 8ms/step - loss: 1.7208 - mae: 1.7208\n",
            "Epoch 58/100\n",
            "1/1 [==============================] - 0s 7ms/step - loss: 1.5507 - mae: 1.5507\n",
            "Epoch 59/100\n",
            "1/1 [==============================] - 0s 7ms/step - loss: 1.2700 - mae: 1.2700\n",
            "Epoch 60/100\n",
            "1/1 [==============================] - 0s 8ms/step - loss: 0.9323 - mae: 0.9323\n",
            "Epoch 61/100\n",
            "1/1 [==============================] - 0s 7ms/step - loss: 0.8599 - mae: 0.8599\n",
            "Epoch 62/100\n",
            "1/1 [==============================] - 0s 8ms/step - loss: 0.6865 - mae: 0.6865\n",
            "Epoch 63/100\n",
            "1/1 [==============================] - 0s 6ms/step - loss: 0.3405 - mae: 0.3405\n",
            "Epoch 64/100\n",
            "1/1 [==============================] - 0s 9ms/step - loss: 0.1659 - mae: 0.1659\n",
            "Epoch 65/100\n",
            "1/1 [==============================] - 0s 48ms/step - loss: 0.4224 - mae: 0.4224\n",
            "Epoch 66/100\n",
            "1/1 [==============================] - 0s 11ms/step - loss: 0.4802 - mae: 0.4802\n",
            "Epoch 67/100\n",
            "1/1 [==============================] - 0s 13ms/step - loss: 0.6473 - mae: 0.6473\n",
            "Epoch 68/100\n",
            "1/1 [==============================] - 0s 20ms/step - loss: 0.6601 - mae: 0.6601\n",
            "Epoch 69/100\n",
            "1/1 [==============================] - 0s 11ms/step - loss: 0.7372 - mae: 0.7372\n",
            "Epoch 70/100\n",
            "1/1 [==============================] - 0s 18ms/step - loss: 0.7022 - mae: 0.7022\n",
            "Epoch 71/100\n",
            "1/1 [==============================] - 0s 17ms/step - loss: 0.6318 - mae: 0.6318\n",
            "Epoch 72/100\n",
            "1/1 [==============================] - 0s 18ms/step - loss: 0.6151 - mae: 0.6151\n",
            "Epoch 73/100\n",
            "1/1 [==============================] - 0s 17ms/step - loss: 0.4329 - mae: 0.4329\n",
            "Epoch 74/100\n",
            "1/1 [==============================] - 0s 20ms/step - loss: 0.4277 - mae: 0.4277\n",
            "Epoch 75/100\n",
            "1/1 [==============================] - 0s 17ms/step - loss: 0.3097 - mae: 0.3097\n",
            "Epoch 76/100\n",
            "1/1 [==============================] - 0s 16ms/step - loss: 0.0356 - mae: 0.0356\n",
            "Epoch 77/100\n",
            "1/1 [==============================] - 0s 17ms/step - loss: 0.4880 - mae: 0.4880\n",
            "Epoch 78/100\n",
            "1/1 [==============================] - 0s 28ms/step - loss: 0.6479 - mae: 0.6479\n",
            "Epoch 79/100\n",
            "1/1 [==============================] - 0s 21ms/step - loss: 0.6174 - mae: 0.6174\n",
            "Epoch 80/100\n",
            "1/1 [==============================] - 0s 7ms/step - loss: 0.4529 - mae: 0.4529\n",
            "Epoch 81/100\n",
            "1/1 [==============================] - 0s 7ms/step - loss: 0.6294 - mae: 0.6294\n",
            "Epoch 82/100\n",
            "1/1 [==============================] - 0s 11ms/step - loss: 0.7850 - mae: 0.7850\n",
            "Epoch 83/100\n",
            "1/1 [==============================] - 0s 13ms/step - loss: 0.6653 - mae: 0.6653\n",
            "Epoch 84/100\n",
            "1/1 [==============================] - 0s 22ms/step - loss: 0.3935 - mae: 0.3935\n",
            "Epoch 85/100\n",
            "1/1 [==============================] - 0s 13ms/step - loss: 0.5590 - mae: 0.5590\n",
            "Epoch 86/100\n",
            "1/1 [==============================] - 0s 13ms/step - loss: 0.6263 - mae: 0.6263\n",
            "Epoch 87/100\n",
            "1/1 [==============================] - 0s 13ms/step - loss: 0.5316 - mae: 0.5316\n",
            "Epoch 88/100\n",
            "1/1 [==============================] - 0s 6ms/step - loss: 0.2161 - mae: 0.2161\n",
            "Epoch 89/100\n",
            "1/1 [==============================] - 0s 7ms/step - loss: 0.3441 - mae: 0.3441\n",
            "Epoch 90/100\n",
            "1/1 [==============================] - 0s 29ms/step - loss: 0.5325 - mae: 0.5325\n",
            "Epoch 91/100\n",
            "1/1 [==============================] - 0s 24ms/step - loss: 0.4389 - mae: 0.4389\n",
            "Epoch 92/100\n",
            "1/1 [==============================] - 0s 15ms/step - loss: 0.2560 - mae: 0.2560\n",
            "Epoch 93/100\n",
            "1/1 [==============================] - 0s 11ms/step - loss: 0.5795 - mae: 0.5795\n",
            "Epoch 94/100\n",
            "1/1 [==============================] - 0s 14ms/step - loss: 0.7585 - mae: 0.7585\n",
            "Epoch 95/100\n",
            "1/1 [==============================] - 0s 18ms/step - loss: 0.6773 - mae: 0.6773\n",
            "Epoch 96/100\n",
            "1/1 [==============================] - 0s 17ms/step - loss: 0.3691 - mae: 0.3691\n",
            "Epoch 97/100\n",
            "1/1 [==============================] - 0s 10ms/step - loss: 0.3135 - mae: 0.3135\n",
            "Epoch 98/100\n",
            "1/1 [==============================] - 0s 16ms/step - loss: 0.5528 - mae: 0.5528\n",
            "Epoch 99/100\n",
            "1/1 [==============================] - 0s 15ms/step - loss: 0.5451 - mae: 0.5451\n",
            "Epoch 100/100\n",
            "1/1 [==============================] - 0s 8ms/step - loss: 0.2902 - mae: 0.2902\n"
          ]
        },
        {
          "output_type": "execute_result",
          "data": {
            "text/plain": [
              "<keras.callbacks.History at 0x7f8b1d9a6fd0>"
            ]
          },
          "metadata": {},
          "execution_count": 18
        }
      ]
    },
    {
      "cell_type": "code",
      "source": [
        "X, y"
      ],
      "metadata": {
        "colab": {
          "base_uri": "https://localhost:8080/"
        },
        "id": "HrND3JvhV4uZ",
        "outputId": "ff9d0ed9-196f-4545-fc72-7b9b1fdf802e"
      },
      "execution_count": null,
      "outputs": [
        {
          "output_type": "execute_result",
          "data": {
            "text/plain": [
              "(<tf.Tensor: shape=(8,), dtype=float64, numpy=array([-7., -4., -1.,  2.,  5.,  8., 11., 14.])>,\n",
              " <tf.Tensor: shape=(8,), dtype=float64, numpy=array([ 3.,  6.,  9., 12., 15., 18., 21., 24.])>)"
            ]
          },
          "metadata": {},
          "execution_count": 19
        }
      ]
    },
    {
      "cell_type": "code",
      "source": [
        "model.predict([17.0])"
      ],
      "metadata": {
        "colab": {
          "base_uri": "https://localhost:8080/"
        },
        "id": "muQwrnNkWxdv",
        "outputId": "b11b6ad0-a4d4-4c0f-b310-42c5e3e44777"
      },
      "execution_count": null,
      "outputs": [
        {
          "output_type": "execute_result",
          "data": {
            "text/plain": [
              "array([[26.434414]], dtype=float32)"
            ]
          },
          "metadata": {},
          "execution_count": 20
        }
      ]
    },
    {
      "cell_type": "code",
      "source": [
        "## Evaluating a model"
      ],
      "metadata": {
        "id": "QuIvJk-uW-2b"
      },
      "execution_count": null,
      "outputs": []
    },
    {
      "cell_type": "code",
      "source": [
        "X = tf.range(-100, 100, 4)\n",
        "X"
      ],
      "metadata": {
        "colab": {
          "base_uri": "https://localhost:8080/"
        },
        "id": "epMTz6j-ZPuP",
        "outputId": "ad93f9f7-424e-489f-a1a0-9681c6f10f29"
      },
      "execution_count": null,
      "outputs": [
        {
          "output_type": "execute_result",
          "data": {
            "text/plain": [
              "<tf.Tensor: shape=(50,), dtype=int32, numpy=\n",
              "array([-100,  -96,  -92,  -88,  -84,  -80,  -76,  -72,  -68,  -64,  -60,\n",
              "        -56,  -52,  -48,  -44,  -40,  -36,  -32,  -28,  -24,  -20,  -16,\n",
              "        -12,   -8,   -4,    0,    4,    8,   12,   16,   20,   24,   28,\n",
              "         32,   36,   40,   44,   48,   52,   56,   60,   64,   68,   72,\n",
              "         76,   80,   84,   88,   92,   96], dtype=int32)>"
            ]
          },
          "metadata": {},
          "execution_count": 22
        }
      ]
    },
    {
      "cell_type": "code",
      "source": [
        "y = X+10\n",
        "y"
      ],
      "metadata": {
        "colab": {
          "base_uri": "https://localhost:8080/"
        },
        "id": "5Y0HKcMGok2R",
        "outputId": "f3315433-8afc-42bc-b633-cb11f598ed2b"
      },
      "execution_count": null,
      "outputs": [
        {
          "output_type": "execute_result",
          "data": {
            "text/plain": [
              "<tf.Tensor: shape=(50,), dtype=int32, numpy=\n",
              "array([-90, -86, -82, -78, -74, -70, -66, -62, -58, -54, -50, -46, -42,\n",
              "       -38, -34, -30, -26, -22, -18, -14, -10,  -6,  -2,   2,   6,  10,\n",
              "        14,  18,  22,  26,  30,  34,  38,  42,  46,  50,  54,  58,  62,\n",
              "        66,  70,  74,  78,  82,  86,  90,  94,  98, 102, 106], dtype=int32)>"
            ]
          },
          "metadata": {},
          "execution_count": 23
        }
      ]
    },
    {
      "cell_type": "code",
      "source": [
        "import matplotlib.pyplot as plt"
      ],
      "metadata": {
        "id": "Zim-PMMMotJu"
      },
      "execution_count": null,
      "outputs": []
    },
    {
      "cell_type": "code",
      "source": [
        "plt.scatter(X, y)"
      ],
      "metadata": {
        "colab": {
          "base_uri": "https://localhost:8080/",
          "height": 283
        },
        "id": "p2Js3YaEo2Ap",
        "outputId": "dfed54bc-1a87-452e-a0f9-17f26f0082dc"
      },
      "execution_count": null,
      "outputs": [
        {
          "output_type": "execute_result",
          "data": {
            "text/plain": [
              "<matplotlib.collections.PathCollection at 0x7f8b1db45890>"
            ]
          },
          "metadata": {},
          "execution_count": 25
        },
        {
          "output_type": "display_data",
          "data": {
            "text/plain": [
              "<Figure size 432x288 with 1 Axes>"
            ],
            "image/png": "[encoded data removed]"
          },
          "metadata": {
            "needs_background": "light"
          }
        }
      ]
    },
    {
      "cell_type": "code",
      "source": [
        "len(X)"
      ],
      "metadata": {
        "colab": {
          "base_uri": "https://localhost:8080/"
        },
        "id": "p0AoE-3To455",
        "outputId": "1f8edc38-e42f-4fee-8881-fa00b36b8f66"
      },
      "execution_count": null,
      "outputs": [
        {
          "output_type": "execute_result",
          "data": {
            "text/plain": [
              "50"
            ]
          },
          "metadata": {},
          "execution_count": 26
        }
      ]
    },
    {
      "cell_type": "code",
      "source": [
        "X_train = X[:40]\n",
        "y_train = y[:40]\n",
        "\n",
        "X_test = X[40:]\n",
        "y_test = y[40:]\n",
        "\n",
        "len(X_train), len(y_train), len(y_test), len(X_test)"
      ],
      "metadata": {
        "colab": {
          "base_uri": "https://localhost:8080/"
        },
        "id": "RW9PEZa4qIxQ",
        "outputId": "f3d3b80e-3e51-4cdb-abda-50f9cf01be06"
      },
      "execution_count": null,
      "outputs": [
        {
          "output_type": "execute_result",
          "data": {
            "text/plain": [
              "(40, 40, 10, 10)"
            ]
          },
          "metadata": {},
          "execution_count": 27
        }
      ]
    },
    {
      "cell_type": "code",
      "source": [
        "plt.scatter(X_train, y_train)"
      ],
      "metadata": {
        "colab": {
          "base_uri": "https://localhost:8080/",
          "height": 283
        },
        "id": "dBEIO3t2qzuI",
        "outputId": "d35a2e8f-2c29-4564-9357-d51e070ea2ab"
      },
      "execution_count": null,
      "outputs": [
        {
          "output_type": "execute_result",
          "data": {
            "text/plain": [
              "<matplotlib.collections.PathCollection at 0x7f8b1d343610>"
            ]
          },
          "metadata": {},
          "execution_count": 28
        },
        {
          "output_type": "display_data",
          "data": {
            "text/plain": [
              "<Figure size 432x288 with 1 Axes>"
            ],
            "image/png": "[encoded data removed]"
          },
          "metadata": {
            "needs_background": "light"
          }
        }
      ]
    },
    {
      "cell_type": "code",
      "source": [
        "plt.scatter(X_test, y_test)"
      ],
      "metadata": {
        "colab": {
          "base_uri": "https://localhost:8080/",
          "height": 283
        },
        "id": "QRwrxQLCrJWe",
        "outputId": "f0525281-93c8-4caa-b135-9622dc42cca7"
      },
      "execution_count": null,
      "outputs": [
        {
          "output_type": "execute_result",
          "data": {
            "text/plain": [
              "<matplotlib.collections.PathCollection at 0x7f8b1d2b9850>"
            ]
          },
          "metadata": {},
          "execution_count": 29
        },
        {
          "output_type": "display_data",
          "data": {
            "text/plain": [
              "<Figure size 432x288 with 1 Axes>"
            ],
            "image/png": "[encoded data removed]"
          },
          "metadata": {
            "needs_background": "light"
          }
        }
      ]
    },
    {
      "cell_type": "code",
      "source": [
        "plt.figure(figsize = (10, 7))\n",
        "plt.scatter(X_train, y_train, c = \"b\", label = \"Training data\")\n",
        "\n",
        "plt.scatter(X_test, y_test, c = \"g\", label = \"Testing data\")\n",
        "plt.legend();"
      ],
      "metadata": {
        "colab": {
          "base_uri": "https://localhost:8080/",
          "height": 428
        },
        "id": "nheYGcMkrOsQ",
        "outputId": "a4c2b673-afa9-4a3c-ebbb-9017ed7f990b"
      },
      "execution_count": null,
      "outputs": [
        {
          "output_type": "display_data",
          "data": {
            "text/plain": [
              "<Figure size 720x504 with 1 Axes>"
            ],
            "image/png": "[encoded data removed]"
          },
          "metadata": {
            "needs_background": "light"
          }
        }
      ]
    },
    {
      "cell_type": "code",
      "source": [
        "model = tf.keras.Sequential([\n",
        "    tf.keras.layers.Dense(1)\n",
        "])\n",
        "\n",
        "model.compile(loss = tf.keras.losses.mae,\n",
        "              optimizer = tf.keras.optimizers.SGD(),\n",
        "              metrics = [\"mae\"])\n",
        "\n",
        "# model.fit(X_train, y_train, epochs = 100)\n",
        "\n",
        "model.summary()"
      ],
      "metadata": {
        "colab": {
          "base_uri": "https://localhost:8080/",
          "height": 437
        },
        "id": "oP0txLL3r-zU",
        "outputId": "b28e688b-3e52-4a47-d24a-ce08004af59f"
      },
      "execution_count": null,
      "outputs": [
        {
          "output_type": "error",
          "ename": "ValueError",
          "evalue": "ignored",
          "traceback": [
            "\u001b[0;31m---------------------------------------------------------------------------\u001b[0m",
            "\u001b[0;31mValueError\u001b[0m                                Traceback (most recent call last)",
            "\u001b[0;32m<ipython-input-32-48c338459d39>\u001b[0m in \u001b[0;36m<module>\u001b[0;34m\u001b[0m\n\u001b[1;32m      9\u001b[0m \u001b[0;31m# model.fit(X_train, y_train, epochs = 100)\u001b[0m\u001b[0;34m\u001b[0m\u001b[0;34m\u001b[0m\u001b[0;34m\u001b[0m\u001b[0m\n\u001b[1;32m     10\u001b[0m \u001b[0;34m\u001b[0m\u001b[0m\n\u001b[0;32m---> 11\u001b[0;31m \u001b[0mmodel\u001b[0m\u001b[0;34m.\u001b[0m\u001b[0msummary\u001b[0m\u001b[0;34m(\u001b[0m\u001b[0;34m)\u001b[0m\u001b[0;34m\u001b[0m\u001b[0;34m\u001b[0m\u001b[0m\n\u001b[0m",
            "\u001b[0;32m/usr/local/lib/python3.7/dist-packages/keras/engine/training.py\u001b[0m in \u001b[0;36msummary\u001b[0;34m(self, line_length, positions, print_fn, expand_nested, show_trainable)\u001b[0m\n\u001b[1;32m   2774\u001b[0m     \u001b[0;32mif\u001b[0m \u001b[0;32mnot\u001b[0m \u001b[0mself\u001b[0m\u001b[0;34m.\u001b[0m\u001b[0mbuilt\u001b[0m\u001b[0;34m:\u001b[0m\u001b[0;34m\u001b[0m\u001b[0;34m\u001b[0m\u001b[0m\n\u001b[1;32m   2775\u001b[0m       raise ValueError(\n\u001b[0;32m-> 2776\u001b[0;31m           \u001b[0;34m'This model has not yet been built. '\u001b[0m\u001b[0;34m\u001b[0m\u001b[0;34m\u001b[0m\u001b[0m\n\u001b[0m\u001b[1;32m   2777\u001b[0m           \u001b[0;34m'Build the model first by calling `build()` or by calling '\u001b[0m\u001b[0;34m\u001b[0m\u001b[0;34m\u001b[0m\u001b[0m\n\u001b[1;32m   2778\u001b[0m           'the model on a batch of data.')\n",
            "\u001b[0;31mValueError\u001b[0m: This model has not yet been built. Build the model first by calling `build()` or by calling the model on a batch of data."
          ]
        }
      ]
    },
    {
      "cell_type": "code",
      "source": [
        "X.shape, y.shape\n",
        "X[0].shape, y[0].shape"
      ],
      "metadata": {
        "colab": {
          "base_uri": "https://localhost:8080/"
        },
        "id": "e9ESVRj4u924",
        "outputId": "31ec1e66-239b-4731-99e7-5f66a874a62a"
      },
      "execution_count": null,
      "outputs": [
        {
          "output_type": "execute_result",
          "data": {
            "text/plain": [
              "(TensorShape([]), TensorShape([]))"
            ]
          },
          "metadata": {},
          "execution_count": 33
        }
      ]
    },
    {
      "cell_type": "code",
      "source": [
        "tf.random.set_seed(42)\n",
        "\n",
        "\n",
        "model = tf.keras.Sequential([\n",
        "    tf.keras.layers.Dense(10, input_shape = [1], name = \"Input_layer\"),\n",
        "    tf.keras.layers.Dense(1, name = \"output_layer\")\n",
        "], name = \"model_1\")\n",
        "\n",
        "model.compile(loss= tf.keras.losses.mae,\n",
        "              optimizer = tf.keras.optimizers.SGD(),\n",
        "              metrics = [\"mae\"])\n",
        "\n",
        "model.summary()"
      ],
      "metadata": {
        "colab": {
          "base_uri": "https://localhost:8080/"
        },
        "id": "U0cWosLRt2Ii",
        "outputId": "8dab4ac7-3772-4e9d-cd2d-7ba3ff1b03db"
      },
      "execution_count": null,
      "outputs": [
        {
          "output_type": "stream",
          "name": "stdout",
          "text": [
            "Model: \"model_1\"\n",
            "_________________________________________________________________\n",
            " Layer (type)                Output Shape              Param #   \n",
            "=================================================================\n",
            " Input_layer (Dense)         (None, 10)                20        \n",
            "                                                                 \n",
            " output_layer (Dense)        (None, 1)                 11        \n",
            "                                                                 \n",
            "=================================================================\n",
            "Total params: 31\n",
            "Trainable params: 31\n",
            "Non-trainable params: 0\n",
            "_________________________________________________________________\n"
          ]
        }
      ]
    },
    {
      "cell_type": "code",
      "source": [
        "model.fit(X_train, y_train, epochs = 100, verbose=0)"
      ],
      "metadata": {
        "colab": {
          "base_uri": "https://localhost:8080/"
        },
        "id": "KzPfntGrvKH2",
        "outputId": "c8adbcab-7209-464c-814b-929b6e764c5a"
      },
      "execution_count": null,
      "outputs": [
        {
          "output_type": "execute_result",
          "data": {
            "text/plain": [
              "<keras.callbacks.History at 0x7f8b21db53d0>"
            ]
          },
          "metadata": {},
          "execution_count": 35
        }
      ]
    },
    {
      "cell_type": "code",
      "source": [
        "model.summary()"
      ],
      "metadata": {
        "colab": {
          "base_uri": "https://localhost:8080/"
        },
        "id": "w38nslIm13fa",
        "outputId": "19021815-1226-4938-da0a-c75cf8bf7479"
      },
      "execution_count": null,
      "outputs": [
        {
          "output_type": "stream",
          "name": "stdout",
          "text": [
            "Model: \"model_1\"\n",
            "_________________________________________________________________\n",
            " Layer (type)                Output Shape              Param #   \n",
            "=================================================================\n",
            " Input_layer (Dense)         (None, 10)                20        \n",
            "                                                                 \n",
            " output_layer (Dense)        (None, 1)                 11        \n",
            "                                                                 \n",
            "=================================================================\n",
            "Total params: 31\n",
            "Trainable params: 31\n",
            "Non-trainable params: 0\n",
            "_________________________________________________________________\n"
          ]
        }
      ]
    },
    {
      "cell_type": "code",
      "source": [
        "from tensorflow.keras.utils import plot_model\n",
        "plot_model(model, show_shapes= True)"
      ],
      "metadata": {
        "colab": {
          "base_uri": "https://localhost:8080/",
          "height": 312
        },
        "id": "9-As-s0_2tvj",
        "outputId": "80f20da0-89c5-4240-94de-d22035be96ec"
      },
      "execution_count": null,
      "outputs": [
        {
          "output_type": "execute_result",
          "data": {
            "image/png": "[encoded data removed]",
            "text/plain": [
              "<IPython.core.display.Image object>"
            ]
          },
          "metadata": {},
          "execution_count": 37
        }
      ]
    },
    {
      "cell_type": "code",
      "source": [
        "y_pred = model.predict(X_test)\n",
        "y_pred"
      ],
      "metadata": {
        "colab": {
          "base_uri": "https://localhost:8080/"
        },
        "id": "jvVCvXkd3H8M",
        "outputId": "c838e8af-f6ce-4481-cebe-1384100afe18"
      },
      "execution_count": null,
      "outputs": [
        {
          "output_type": "execute_result",
          "data": {
            "text/plain": [
              "array([[ 70.55218 ],\n",
              "       [ 75.13991 ],\n",
              "       [ 79.72763 ],\n",
              "       [ 84.31535 ],\n",
              "       [ 88.903076],\n",
              "       [ 93.49081 ],\n",
              "       [ 98.07853 ],\n",
              "       [102.66625 ],\n",
              "       [107.253975],\n",
              "       [111.8417  ]], dtype=float32)"
            ]
          },
          "metadata": {},
          "execution_count": 38
        }
      ]
    },
    {
      "cell_type": "code",
      "source": [
        "y_test"
      ],
      "metadata": {
        "colab": {
          "base_uri": "https://localhost:8080/"
        },
        "id": "Wxzv6xqd6qFy",
        "outputId": "6c1ebd02-fed7-4166-8828-7f4351d502b5"
      },
      "execution_count": null,
      "outputs": [
        {
          "output_type": "execute_result",
          "data": {
            "text/plain": [
              "<tf.Tensor: shape=(10,), dtype=int32, numpy=array([ 70,  74,  78,  82,  86,  90,  94,  98, 102, 106], dtype=int32)>"
            ]
          },
          "metadata": {},
          "execution_count": 39
        }
      ]
    },
    {
      "cell_type": "code",
      "source": [
        "# Plotting function:\n",
        "def plot_predictions(train_data = X_train,\n",
        "                     train_labels = y_train,\n",
        "                     test_data = X_test,\n",
        "                     test_labels = y_test,\n",
        "                     predictions = y_pred):\n",
        "  plt.figure(figsize = (9, 7))\n",
        "  plt.scatter(train_data, train_labels, c = \"b\", label = \"Training_data\")\n",
        "  plt.scatter(test_data, test_labels, c = \"g\", label = \"Test data\")\n",
        "  plt.scatter(test_data, predictions, c = \"r\", label = \"Predictions\")\n",
        "  plt.legend();\n",
        "  "
      ],
      "metadata": {
        "id": "LjKANgeYTx3A"
      },
      "execution_count": null,
      "outputs": []
    },
    {
      "cell_type": "code",
      "source": [
        "plot_predictions(train_data = X_train,\n",
        "                 train_labels = y_train,\n",
        "                 test_data = X_test,\n",
        "                 test_labels = y_test,\n",
        "                 predictions = y_pred)"
      ],
      "metadata": {
        "colab": {
          "base_uri": "https://localhost:8080/",
          "height": 428
        },
        "id": "eX3FRZeWWp1r",
        "outputId": "8773fd87-3372-4443-fbc6-b8807e3ea908"
      },
      "execution_count": null,
      "outputs": [
        {
          "output_type": "display_data",
          "data": {
            "text/plain": [
              "<Figure size 648x504 with 1 Axes>"
            ],
            "image/png": "[encoded data removed]"
          },
          "metadata": {
            "needs_background": "light"
          }
        }
      ]
    },
    {
      "cell_type": "code",
      "source": [
        "model.evaluate(X_test, y_test)"
      ],
      "metadata": {
        "colab": {
          "base_uri": "https://localhost:8080/"
        },
        "id": "njE1bz-kWz5L",
        "outputId": "486e4e07-ec73-4bce-ef2a-fa25c2bd2f85"
      },
      "execution_count": null,
      "outputs": [
        {
          "output_type": "stream",
          "name": "stdout",
          "text": [
            "1/1 [==============================] - 0s 286ms/step - loss: 3.1969 - mae: 3.1969\n"
          ]
        },
        {
          "output_type": "execute_result",
          "data": {
            "text/plain": [
              "[3.196942090988159, 3.196942090988159]"
            ]
          },
          "metadata": {},
          "execution_count": 42
        }
      ]
    },
    {
      "cell_type": "code",
      "source": [
        "tf.constant(y_pred)"
      ],
      "metadata": {
        "colab": {
          "base_uri": "https://localhost:8080/"
        },
        "id": "Xt3tqL7qdSak",
        "outputId": "07a0332e-7191-4cec-ea45-507d4ebbdc08"
      },
      "execution_count": null,
      "outputs": [
        {
          "output_type": "execute_result",
          "data": {
            "text/plain": [
              "<tf.Tensor: shape=(10, 1), dtype=float32, numpy=\n",
              "array([[ 70.55218 ],\n",
              "       [ 75.13991 ],\n",
              "       [ 79.72763 ],\n",
              "       [ 84.31535 ],\n",
              "       [ 88.903076],\n",
              "       [ 93.49081 ],\n",
              "       [ 98.07853 ],\n",
              "       [102.66625 ],\n",
              "       [107.253975],\n",
              "       [111.8417  ]], dtype=float32)>"
            ]
          },
          "metadata": {},
          "execution_count": 43
        }
      ]
    },
    {
      "cell_type": "code",
      "source": [
        "tf.squeeze(y_pred).shape\n"
      ],
      "metadata": {
        "colab": {
          "base_uri": "https://localhost:8080/"
        },
        "id": "nTOhk_WPfLGp",
        "outputId": "52ef447e-2907-4002-a824-6dc331d84a46"
      },
      "execution_count": null,
      "outputs": [
        {
          "output_type": "execute_result",
          "data": {
            "text/plain": [
              "TensorShape([10])"
            ]
          },
          "metadata": {},
          "execution_count": 44
        }
      ]
    },
    {
      "cell_type": "code",
      "source": [
        "y_test"
      ],
      "metadata": {
        "colab": {
          "base_uri": "https://localhost:8080/"
        },
        "id": "mB_j0itabhgL",
        "outputId": "e242d688-0e54-4c31-8843-892a7862b7f6"
      },
      "execution_count": null,
      "outputs": [
        {
          "output_type": "execute_result",
          "data": {
            "text/plain": [
              "<tf.Tensor: shape=(10,), dtype=int32, numpy=array([ 70,  74,  78,  82,  86,  90,  94,  98, 102, 106], dtype=int32)>"
            ]
          },
          "metadata": {},
          "execution_count": 45
        }
      ]
    },
    {
      "cell_type": "code",
      "source": [
        "tf.squeeze(y_pred)"
      ],
      "metadata": {
        "colab": {
          "base_uri": "https://localhost:8080/"
        },
        "id": "waTdJ9A-biUc",
        "outputId": "83d537cd-4177-4df1-ae50-a28e14dabdc4"
      },
      "execution_count": null,
      "outputs": [
        {
          "output_type": "execute_result",
          "data": {
            "text/plain": [
              "<tf.Tensor: shape=(10,), dtype=float32, numpy=\n",
              "array([ 70.55218 ,  75.13991 ,  79.72763 ,  84.31535 ,  88.903076,\n",
              "        93.49081 ,  98.07853 , 102.66625 , 107.253975, 111.8417  ],\n",
              "      dtype=float32)>"
            ]
          },
          "metadata": {},
          "execution_count": 46
        }
      ]
    },
    {
      "cell_type": "code",
      "source": [
        "mae = tf.metrics.mean_absolute_error(y_true = y_test,\n",
        "                                     y_pred = tf.squeeze(y_pred))\n",
        "mae"
      ],
      "metadata": {
        "colab": {
          "base_uri": "https://localhost:8080/"
        },
        "id": "ileE5gtdeMQG",
        "outputId": "2188a5a6-cd08-412d-f044-691158eeeece"
      },
      "execution_count": null,
      "outputs": [
        {
          "output_type": "execute_result",
          "data": {
            "text/plain": [
              "<tf.Tensor: shape=(), dtype=float32, numpy=3.1969407>"
            ]
          },
          "metadata": {},
          "execution_count": 47
        }
      ]
    },
    {
      "cell_type": "code",
      "source": [
        "mse = tf.metrics.mean_squared_error(y_test, tf.squeeze(y_pred))\n",
        "mse"
      ],
      "metadata": {
        "colab": {
          "base_uri": "https://localhost:8080/"
        },
        "id": "V6lAjRbXecK9",
        "outputId": "eba8ad15-d4da-4a5b-fad2-110ebfb8c7b4"
      },
      "execution_count": null,
      "outputs": [
        {
          "output_type": "execute_result",
          "data": {
            "text/plain": [
              "<tf.Tensor: shape=(), dtype=float32, numpy=13.070143>"
            ]
          },
          "metadata": {},
          "execution_count": 48
        }
      ]
    },
    {
      "cell_type": "code",
      "source": [
        "# func to disp mae and mse\n",
        "def mae(y_true, y_pred):\n",
        "  return tf.metrics.mean_absolute_error(y_true = y_true,\n",
        "                                        y_pred = tf.squeeze(y_pred))\n",
        "def mse(y_true, y_pred):\n",
        "  return tf.metrics.mean_squared_error(y_true = y_true, \n",
        "                                       y_pred = tf.squeeze(y_pred))\n",
        "  "
      ],
      "metadata": {
        "id": "4uDb1Tb9gLeS"
      },
      "execution_count": null,
      "outputs": []
    },
    {
      "cell_type": "code",
      "source": [
        "tf.random.set_seed(42)\n",
        "\n",
        "model_1 = tf.keras.Sequential([\n",
        "    tf.keras.layers.Dense(1)\n",
        "])\n",
        "\n",
        "model_1.compile(loss = tf.keras.losses.mae,\n",
        "                optimizer = tf.keras.optimizers.SGD(),\n",
        "                metrics=[\"mae\"])\n",
        "\n",
        "model_1.fit(tf.expand_dims(X_train, axis = -1), y_train, epochs = 100)"
      ],
      "metadata": {
        "id": "ttpTNA_jhkr-",
        "colab": {
          "base_uri": "https://localhost:8080/"
        },
        "outputId": "f872986b-2bd3-4313-862f-e6ebf8530e9d"
      },
      "execution_count": null,
      "outputs": [
        {
          "output_type": "stream",
          "name": "stdout",
          "text": [
            "Epoch 1/100\n",
            "2/2 [==============================] - 1s 16ms/step - loss: 15.9024 - mae: 15.9024\n",
            "Epoch 2/100\n",
            "2/2 [==============================] - 0s 7ms/step - loss: 11.2837 - mae: 11.2837\n",
            "Epoch 3/100\n",
            "2/2 [==============================] - 0s 6ms/step - loss: 11.1074 - mae: 11.1074\n",
            "Epoch 4/100\n",
            "2/2 [==============================] - 0s 5ms/step - loss: 9.2991 - mae: 9.2991\n",
            "Epoch 5/100\n",
            "2/2 [==============================] - 0s 7ms/step - loss: 10.1677 - mae: 10.1677\n",
            "Epoch 6/100\n",
            "2/2 [==============================] - 0s 10ms/step - loss: 9.4303 - mae: 9.4303\n",
            "Epoch 7/100\n",
            "2/2 [==============================] - 0s 12ms/step - loss: 8.5704 - mae: 8.5704\n",
            "Epoch 8/100\n",
            "2/2 [==============================] - 0s 4ms/step - loss: 9.0442 - mae: 9.0442\n",
            "Epoch 9/100\n",
            "2/2 [==============================] - 0s 12ms/step - loss: 18.7517 - mae: 18.7517\n",
            "Epoch 10/100\n",
            "2/2 [==============================] - 0s 5ms/step - loss: 10.1142 - mae: 10.1142\n",
            "Epoch 11/100\n",
            "2/2 [==============================] - 0s 9ms/step - loss: 8.3980 - mae: 8.3980\n",
            "Epoch 12/100\n",
            "2/2 [==============================] - 0s 20ms/step - loss: 10.6639 - mae: 10.6639\n",
            "Epoch 13/100\n",
            "2/2 [==============================] - 0s 10ms/step - loss: 9.7977 - mae: 9.7977\n",
            "Epoch 14/100\n",
            "2/2 [==============================] - 0s 20ms/step - loss: 16.0103 - mae: 16.0103\n",
            "Epoch 15/100\n",
            "2/2 [==============================] - 0s 10ms/step - loss: 11.4068 - mae: 11.4068\n",
            "Epoch 16/100\n",
            "2/2 [==============================] - 0s 24ms/step - loss: 8.5393 - mae: 8.5393\n",
            "Epoch 17/100\n",
            "2/2 [==============================] - 0s 12ms/step - loss: 13.6348 - mae: 13.6348\n",
            "Epoch 18/100\n",
            "2/2 [==============================] - 0s 13ms/step - loss: 11.4629 - mae: 11.4629\n",
            "Epoch 19/100\n",
            "2/2 [==============================] - 0s 8ms/step - loss: 17.9148 - mae: 17.9148\n",
            "Epoch 20/100\n",
            "2/2 [==============================] - 0s 8ms/step - loss: 15.0494 - mae: 15.0494\n",
            "Epoch 21/100\n",
            "2/2 [==============================] - 0s 8ms/step - loss: 11.0216 - mae: 11.0216\n",
            "Epoch 22/100\n",
            "2/2 [==============================] - 0s 9ms/step - loss: 8.1558 - mae: 8.1558\n",
            "Epoch 23/100\n",
            "2/2 [==============================] - 0s 6ms/step - loss: 9.5138 - mae: 9.5138\n",
            "Epoch 24/100\n",
            "2/2 [==============================] - 0s 11ms/step - loss: 7.6617 - mae: 7.6617\n",
            "Epoch 25/100\n",
            "2/2 [==============================] - 0s 8ms/step - loss: 13.1859 - mae: 13.1859\n",
            "Epoch 26/100\n",
            "2/2 [==============================] - 0s 7ms/step - loss: 16.4211 - mae: 16.4211\n",
            "Epoch 27/100\n",
            "2/2 [==============================] - 0s 5ms/step - loss: 13.1660 - mae: 13.1660\n",
            "Epoch 28/100\n",
            "2/2 [==============================] - 0s 8ms/step - loss: 14.2559 - mae: 14.2559\n",
            "Epoch 29/100\n",
            "2/2 [==============================] - 0s 8ms/step - loss: 10.0670 - mae: 10.0670\n",
            "Epoch 30/100\n",
            "2/2 [==============================] - 0s 22ms/step - loss: 16.3409 - mae: 16.3409\n",
            "Epoch 31/100\n",
            "2/2 [==============================] - 0s 10ms/step - loss: 23.6444 - mae: 23.6444\n",
            "Epoch 32/100\n",
            "2/2 [==============================] - 0s 8ms/step - loss: 7.6215 - mae: 7.6215\n",
            "Epoch 33/100\n",
            "2/2 [==============================] - 0s 7ms/step - loss: 9.3221 - mae: 9.3221\n",
            "Epoch 34/100\n",
            "2/2 [==============================] - 0s 6ms/step - loss: 13.7313 - mae: 13.7313\n",
            "Epoch 35/100\n",
            "2/2 [==============================] - 0s 7ms/step - loss: 11.1276 - mae: 11.1276\n",
            "Epoch 36/100\n",
            "2/2 [==============================] - 0s 7ms/step - loss: 13.3222 - mae: 13.3222\n",
            "Epoch 37/100\n",
            "2/2 [==============================] - 0s 7ms/step - loss: 9.4763 - mae: 9.4763\n",
            "Epoch 38/100\n",
            "2/2 [==============================] - 0s 7ms/step - loss: 10.1381 - mae: 10.1381\n",
            "Epoch 39/100\n",
            "2/2 [==============================] - 0s 13ms/step - loss: 10.1793 - mae: 10.1793\n",
            "Epoch 40/100\n",
            "2/2 [==============================] - 0s 10ms/step - loss: 10.9137 - mae: 10.9137\n",
            "Epoch 41/100\n",
            "2/2 [==============================] - 0s 9ms/step - loss: 7.9063 - mae: 7.9063\n",
            "Epoch 42/100\n",
            "2/2 [==============================] - 0s 11ms/step - loss: 10.0914 - mae: 10.0914\n",
            "Epoch 43/100\n",
            "2/2 [==============================] - 0s 4ms/step - loss: 8.7006 - mae: 8.7006\n",
            "Epoch 44/100\n",
            "2/2 [==============================] - 0s 5ms/step - loss: 12.2047 - mae: 12.2047\n",
            "Epoch 45/100\n",
            "2/2 [==============================] - 0s 5ms/step - loss: 13.7970 - mae: 13.7970\n",
            "Epoch 46/100\n",
            "2/2 [==============================] - 0s 6ms/step - loss: 8.4687 - mae: 8.4687\n",
            "Epoch 47/100\n",
            "2/2 [==============================] - 0s 6ms/step - loss: 9.1330 - mae: 9.1330\n",
            "Epoch 48/100\n",
            "2/2 [==============================] - 0s 8ms/step - loss: 10.6190 - mae: 10.6190\n",
            "Epoch 49/100\n",
            "2/2 [==============================] - 0s 6ms/step - loss: 7.7503 - mae: 7.7503\n",
            "Epoch 50/100\n",
            "2/2 [==============================] - 0s 6ms/step - loss: 9.5407 - mae: 9.5407\n",
            "Epoch 51/100\n",
            "2/2 [==============================] - 0s 6ms/step - loss: 9.1584 - mae: 9.1584\n",
            "Epoch 52/100\n",
            "2/2 [==============================] - 0s 6ms/step - loss: 16.3630 - mae: 16.3630\n",
            "Epoch 53/100\n",
            "2/2 [==============================] - 0s 6ms/step - loss: 14.1299 - mae: 14.1299\n",
            "Epoch 54/100\n",
            "2/2 [==============================] - 0s 6ms/step - loss: 21.1247 - mae: 21.1247\n",
            "Epoch 55/100\n",
            "2/2 [==============================] - 0s 6ms/step - loss: 16.3961 - mae: 16.3961\n",
            "Epoch 56/100\n",
            "2/2 [==============================] - 0s 5ms/step - loss: 9.9806 - mae: 9.9806\n",
            "Epoch 57/100\n",
            "2/2 [==============================] - 0s 6ms/step - loss: 9.9606 - mae: 9.9606\n",
            "Epoch 58/100\n",
            "2/2 [==============================] - 0s 6ms/step - loss: 9.2209 - mae: 9.2209\n",
            "Epoch 59/100\n",
            "2/2 [==============================] - 0s 23ms/step - loss: 8.4239 - mae: 8.4239\n",
            "Epoch 60/100\n",
            "2/2 [==============================] - 0s 8ms/step - loss: 9.4869 - mae: 9.4869\n",
            "Epoch 61/100\n",
            "2/2 [==============================] - 0s 5ms/step - loss: 11.4355 - mae: 11.4355\n",
            "Epoch 62/100\n",
            "2/2 [==============================] - 0s 6ms/step - loss: 11.6887 - mae: 11.6887\n",
            "Epoch 63/100\n",
            "2/2 [==============================] - 0s 8ms/step - loss: 7.0838 - mae: 7.0838\n",
            "Epoch 64/100\n",
            "2/2 [==============================] - 0s 6ms/step - loss: 16.9675 - mae: 16.9675\n",
            "Epoch 65/100\n",
            "2/2 [==============================] - 0s 7ms/step - loss: 12.4599 - mae: 12.4599\n",
            "Epoch 66/100\n",
            "2/2 [==============================] - 0s 6ms/step - loss: 13.0184 - mae: 13.0184\n",
            "Epoch 67/100\n",
            "2/2 [==============================] - 0s 6ms/step - loss: 8.0600 - mae: 8.0600\n",
            "Epoch 68/100\n",
            "2/2 [==============================] - 0s 4ms/step - loss: 10.1888 - mae: 10.1888\n",
            "Epoch 69/100\n",
            "2/2 [==============================] - 0s 6ms/step - loss: 12.3633 - mae: 12.3633\n",
            "Epoch 70/100\n",
            "2/2 [==============================] - 0s 6ms/step - loss: 9.0516 - mae: 9.0516\n",
            "Epoch 71/100\n",
            "2/2 [==============================] - 0s 6ms/step - loss: 10.0378 - mae: 10.0378\n",
            "Epoch 72/100\n",
            "2/2 [==============================] - 0s 6ms/step - loss: 10.0516 - mae: 10.0516\n",
            "Epoch 73/100\n",
            "2/2 [==============================] - 0s 7ms/step - loss: 12.6151 - mae: 12.6151\n",
            "Epoch 74/100\n",
            "2/2 [==============================] - 0s 7ms/step - loss: 10.3819 - mae: 10.3819\n",
            "Epoch 75/100\n",
            "2/2 [==============================] - 0s 7ms/step - loss: 9.7229 - mae: 9.7229\n",
            "Epoch 76/100\n",
            "2/2 [==============================] - 0s 5ms/step - loss: 11.2252 - mae: 11.2252\n",
            "Epoch 77/100\n",
            "2/2 [==============================] - 0s 7ms/step - loss: 8.3642 - mae: 8.3642\n",
            "Epoch 78/100\n",
            "2/2 [==============================] - 0s 5ms/step - loss: 9.1274 - mae: 9.1274\n",
            "Epoch 79/100\n",
            "2/2 [==============================] - 0s 5ms/step - loss: 19.5039 - mae: 19.5039\n",
            "Epoch 80/100\n",
            "2/2 [==============================] - 0s 7ms/step - loss: 14.8945 - mae: 14.8945\n",
            "Epoch 81/100\n",
            "2/2 [==============================] - 0s 12ms/step - loss: 9.0034 - mae: 9.0034\n",
            "Epoch 82/100\n",
            "2/2 [==============================] - 0s 9ms/step - loss: 13.0206 - mae: 13.0206\n",
            "Epoch 83/100\n",
            "2/2 [==============================] - 0s 6ms/step - loss: 7.9299 - mae: 7.9299\n",
            "Epoch 84/100\n",
            "2/2 [==============================] - 0s 6ms/step - loss: 7.6872 - mae: 7.6872\n",
            "Epoch 85/100\n",
            "2/2 [==============================] - 0s 19ms/step - loss: 10.0328 - mae: 10.0328\n",
            "Epoch 86/100\n",
            "2/2 [==============================] - 0s 5ms/step - loss: 9.2433 - mae: 9.2433\n",
            "Epoch 87/100\n",
            "2/2 [==============================] - 0s 5ms/step - loss: 12.0209 - mae: 12.0209\n",
            "Epoch 88/100\n",
            "2/2 [==============================] - 0s 7ms/step - loss: 10.6389 - mae: 10.6389\n",
            "Epoch 89/100\n",
            "2/2 [==============================] - 0s 11ms/step - loss: 7.2667 - mae: 7.2667\n",
            "Epoch 90/100\n",
            "2/2 [==============================] - 0s 6ms/step - loss: 12.7786 - mae: 12.7786\n",
            "Epoch 91/100\n",
            "2/2 [==============================] - 0s 5ms/step - loss: 7.3481 - mae: 7.3481\n",
            "Epoch 92/100\n",
            "2/2 [==============================] - 0s 5ms/step - loss: 7.7175 - mae: 7.7175\n",
            "Epoch 93/100\n",
            "2/2 [==============================] - 0s 5ms/step - loss: 7.1263 - mae: 7.1263\n",
            "Epoch 94/100\n",
            "2/2 [==============================] - 0s 15ms/step - loss: 12.6190 - mae: 12.6190\n",
            "Epoch 95/100\n",
            "2/2 [==============================] - 0s 7ms/step - loss: 10.0912 - mae: 10.0912\n",
            "Epoch 96/100\n",
            "2/2 [==============================] - 0s 5ms/step - loss: 9.3558 - mae: 9.3558\n",
            "Epoch 97/100\n",
            "2/2 [==============================] - 0s 9ms/step - loss: 12.6834 - mae: 12.6834\n",
            "Epoch 98/100\n",
            "2/2 [==============================] - 0s 6ms/step - loss: 8.6762 - mae: 8.6762\n",
            "Epoch 99/100\n",
            "2/2 [==============================] - 0s 6ms/step - loss: 9.4693 - mae: 9.4693\n",
            "Epoch 100/100\n",
            "2/2 [==============================] - 0s 6ms/step - loss: 8.7067 - mae: 8.7067\n"
          ]
        },
        {
          "output_type": "execute_result",
          "data": {
            "text/plain": [
              "<keras.callbacks.History at 0x7f8b21e269d0>"
            ]
          },
          "metadata": {},
          "execution_count": 50
        }
      ]
    },
    {
      "cell_type": "code",
      "source": [
        "y_pred_1 = model_1.predict(X_test)\n",
        "plot_predictions(predictions = y_pred_1)"
      ],
      "metadata": {
        "colab": {
          "base_uri": "https://localhost:8080/",
          "height": 428
        },
        "id": "Xz4XEz-gU0rd",
        "outputId": "71e69aba-3665-40b6-ffed-3575de6f5d7e"
      },
      "execution_count": null,
      "outputs": [
        {
          "output_type": "display_data",
          "data": {
            "text/plain": [
              "<Figure size 648x504 with 1 Axes>"
            ],
            "image/png": "[encoded data removed]"
          },
          "metadata": {
            "needs_background": "light"
          }
        }
      ]
    },
    {
      "cell_type": "code",
      "source": [
        "mae_1 = mae(y_test, y_pred_1)\n",
        "mse_1 = mse(y_test, y_pred_1)\n",
        "mae_1, mse_1"
      ],
      "metadata": {
        "colab": {
          "base_uri": "https://localhost:8080/"
        },
        "id": "2aQkI1BwWXsl",
        "outputId": "5eb43d0f-fa96-4615-8cc6-84cea825dc74"
      },
      "execution_count": null,
      "outputs": [
        {
          "output_type": "execute_result",
          "data": {
            "text/plain": [
              "(<tf.Tensor: shape=(), dtype=float32, numpy=18.745327>,\n",
              " <tf.Tensor: shape=(), dtype=float32, numpy=353.57336>)"
            ]
          },
          "metadata": {},
          "execution_count": 52
        }
      ]
    },
    {
      "cell_type": "code",
      "source": [
        "tf.random.set_seed(42)\n",
        "model_2 = tf.keras.Sequential([\n",
        "    tf.keras.layers.Dense(10),\n",
        "    tf.keras.layers.Dense(1)\n",
        "])\n",
        "\n",
        "model_2.compile(loss = tf.keras.losses.mae,\n",
        "                optimizer = tf.keras.optimizers.SGD(),\n",
        "                metrics = [\"mae\"])\n",
        "\n",
        "model_2.fit(tf.expand_dims(X_train, axis = -1), y_train, epochs = 100)\n"
      ],
      "metadata": {
        "colab": {
          "base_uri": "https://localhost:8080/"
        },
        "id": "aHlSS8MmXScT",
        "outputId": "2519593a-1852-43e3-8131-5b0d7b91a62d"
      },
      "execution_count": null,
      "outputs": [
        {
          "output_type": "stream",
          "name": "stdout",
          "text": [
            "Epoch 1/100\n",
            "2/2 [==============================] - 1s 11ms/step - loss: 27.4058 - mae: 27.4058\n",
            "Epoch 2/100\n",
            "2/2 [==============================] - 0s 25ms/step - loss: 24.6339 - mae: 24.6339\n",
            "Epoch 3/100\n",
            "2/2 [==============================] - 0s 7ms/step - loss: 29.8935 - mae: 29.8935\n",
            "Epoch 4/100\n",
            "2/2 [==============================] - 0s 7ms/step - loss: 27.4055 - mae: 27.4055\n",
            "Epoch 5/100\n",
            "2/2 [==============================] - 0s 12ms/step - loss: 14.9463 - mae: 14.9463\n",
            "Epoch 6/100\n",
            "2/2 [==============================] - 0s 12ms/step - loss: 11.8819 - mae: 11.8819\n",
            "Epoch 7/100\n",
            "2/2 [==============================] - 0s 9ms/step - loss: 11.1988 - mae: 11.1988\n",
            "Epoch 8/100\n",
            "2/2 [==============================] - 0s 10ms/step - loss: 11.0910 - mae: 11.0910\n",
            "Epoch 9/100\n",
            "2/2 [==============================] - 0s 10ms/step - loss: 40.4763 - mae: 40.4763\n",
            "Epoch 10/100\n",
            "2/2 [==============================] - 0s 4ms/step - loss: 27.8688 - mae: 27.8688\n",
            "Epoch 11/100\n",
            "2/2 [==============================] - 0s 6ms/step - loss: 10.2473 - mae: 10.2473\n",
            "Epoch 12/100\n",
            "2/2 [==============================] - 0s 4ms/step - loss: 25.2803 - mae: 25.2803\n",
            "Epoch 13/100\n",
            "2/2 [==============================] - 0s 8ms/step - loss: 16.9897 - mae: 16.9897\n",
            "Epoch 14/100\n",
            "2/2 [==============================] - 0s 4ms/step - loss: 25.9217 - mae: 25.9217\n",
            "Epoch 15/100\n",
            "2/2 [==============================] - 0s 7ms/step - loss: 17.9948 - mae: 17.9948\n",
            "Epoch 16/100\n",
            "2/2 [==============================] - 0s 9ms/step - loss: 7.3510 - mae: 7.3510\n",
            "Epoch 17/100\n",
            "2/2 [==============================] - 0s 12ms/step - loss: 10.8636 - mae: 10.8636\n",
            "Epoch 18/100\n",
            "2/2 [==============================] - 0s 8ms/step - loss: 19.5304 - mae: 19.5304\n",
            "Epoch 19/100\n",
            "2/2 [==============================] - 0s 13ms/step - loss: 10.3469 - mae: 10.3469\n",
            "Epoch 20/100\n",
            "2/2 [==============================] - 0s 7ms/step - loss: 17.6985 - mae: 17.6985\n",
            "Epoch 21/100\n",
            "2/2 [==============================] - 0s 15ms/step - loss: 15.8984 - mae: 15.8984\n",
            "Epoch 22/100\n",
            "2/2 [==============================] - 0s 17ms/step - loss: 14.1991 - mae: 14.1991\n",
            "Epoch 23/100\n",
            "2/2 [==============================] - 0s 11ms/step - loss: 8.7720 - mae: 8.7720\n",
            "Epoch 24/100\n",
            "2/2 [==============================] - 0s 6ms/step - loss: 11.0570 - mae: 11.0570\n",
            "Epoch 25/100\n",
            "2/2 [==============================] - 0s 6ms/step - loss: 12.6838 - mae: 12.6838\n",
            "Epoch 26/100\n",
            "2/2 [==============================] - 0s 12ms/step - loss: 26.1877 - mae: 26.1877\n",
            "Epoch 27/100\n",
            "2/2 [==============================] - 0s 5ms/step - loss: 11.7432 - mae: 11.7432\n",
            "Epoch 28/100\n",
            "2/2 [==============================] - 0s 6ms/step - loss: 22.8730 - mae: 22.8730\n",
            "Epoch 29/100\n",
            "2/2 [==============================] - 0s 6ms/step - loss: 9.2459 - mae: 9.2459\n",
            "Epoch 30/100\n",
            "2/2 [==============================] - 0s 11ms/step - loss: 29.2641 - mae: 29.2641\n",
            "Epoch 31/100\n",
            "2/2 [==============================] - 0s 7ms/step - loss: 53.0225 - mae: 53.0225\n",
            "Epoch 32/100\n",
            "2/2 [==============================] - 0s 7ms/step - loss: 11.9951 - mae: 11.9951\n",
            "Epoch 33/100\n",
            "2/2 [==============================] - 0s 6ms/step - loss: 15.6357 - mae: 15.6357\n",
            "Epoch 34/100\n",
            "2/2 [==============================] - 0s 6ms/step - loss: 12.6925 - mae: 12.6925\n",
            "Epoch 35/100\n",
            "2/2 [==============================] - 0s 7ms/step - loss: 9.2398 - mae: 9.2398\n",
            "Epoch 36/100\n",
            "2/2 [==============================] - 0s 6ms/step - loss: 16.6497 - mae: 16.6497\n",
            "Epoch 37/100\n",
            "2/2 [==============================] - 0s 15ms/step - loss: 11.0382 - mae: 11.0382\n",
            "Epoch 38/100\n",
            "2/2 [==============================] - 0s 7ms/step - loss: 18.1634 - mae: 18.1634\n",
            "Epoch 39/100\n",
            "2/2 [==============================] - 0s 6ms/step - loss: 19.1013 - mae: 19.1013\n",
            "Epoch 40/100\n",
            "2/2 [==============================] - 0s 6ms/step - loss: 20.4324 - mae: 20.4324\n",
            "Epoch 41/100\n",
            "2/2 [==============================] - 0s 7ms/step - loss: 14.9102 - mae: 14.9102\n",
            "Epoch 42/100\n",
            "2/2 [==============================] - 0s 8ms/step - loss: 12.2809 - mae: 12.2809\n",
            "Epoch 43/100\n",
            "2/2 [==============================] - 0s 18ms/step - loss: 10.7333 - mae: 10.7333\n",
            "Epoch 44/100\n",
            "2/2 [==============================] - 0s 6ms/step - loss: 23.0260 - mae: 23.0260\n",
            "Epoch 45/100\n",
            "2/2 [==============================] - 0s 8ms/step - loss: 10.3897 - mae: 10.3897\n",
            "Epoch 46/100\n",
            "2/2 [==============================] - 0s 7ms/step - loss: 11.7904 - mae: 11.7904\n",
            "Epoch 47/100\n",
            "2/2 [==============================] - 0s 7ms/step - loss: 9.6438 - mae: 9.6438\n",
            "Epoch 48/100\n",
            "2/2 [==============================] - 0s 9ms/step - loss: 17.2335 - mae: 17.2335\n",
            "Epoch 49/100\n",
            "2/2 [==============================] - 0s 4ms/step - loss: 9.5729 - mae: 9.5729\n",
            "Epoch 50/100\n",
            "2/2 [==============================] - 0s 4ms/step - loss: 13.8185 - mae: 13.8185\n",
            "Epoch 51/100\n",
            "2/2 [==============================] - 0s 4ms/step - loss: 11.5958 - mae: 11.5958\n",
            "Epoch 52/100\n",
            "2/2 [==============================] - 0s 4ms/step - loss: 30.5538 - mae: 30.5538\n",
            "Epoch 53/100\n",
            "2/2 [==============================] - 0s 4ms/step - loss: 14.3541 - mae: 14.3541\n",
            "Epoch 54/100\n",
            "2/2 [==============================] - 0s 4ms/step - loss: 23.9713 - mae: 23.9713\n",
            "Epoch 55/100\n",
            "2/2 [==============================] - 0s 6ms/step - loss: 23.1938 - mae: 23.1938\n",
            "Epoch 56/100\n",
            "2/2 [==============================] - 0s 4ms/step - loss: 10.8837 - mae: 10.8837\n",
            "Epoch 57/100\n",
            "2/2 [==============================] - 0s 4ms/step - loss: 12.7445 - mae: 12.7445\n",
            "Epoch 58/100\n",
            "2/2 [==============================] - 0s 4ms/step - loss: 9.5995 - mae: 9.5995\n",
            "Epoch 59/100\n",
            "2/2 [==============================] - 0s 4ms/step - loss: 12.5172 - mae: 12.5172\n",
            "Epoch 60/100\n",
            "2/2 [==============================] - 0s 4ms/step - loss: 12.3200 - mae: 12.3200\n",
            "Epoch 61/100\n",
            "2/2 [==============================] - 0s 5ms/step - loss: 17.4604 - mae: 17.4604\n",
            "Epoch 62/100\n",
            "2/2 [==============================] - 0s 5ms/step - loss: 10.6052 - mae: 10.6052\n",
            "Epoch 63/100\n",
            "2/2 [==============================] - 0s 5ms/step - loss: 10.4893 - mae: 10.4893\n",
            "Epoch 64/100\n",
            "2/2 [==============================] - 0s 4ms/step - loss: 24.8450 - mae: 24.8450\n",
            "Epoch 65/100\n",
            "2/2 [==============================] - 0s 5ms/step - loss: 10.6761 - mae: 10.6761\n",
            "Epoch 66/100\n",
            "2/2 [==============================] - 0s 4ms/step - loss: 21.7809 - mae: 21.7809\n",
            "Epoch 67/100\n",
            "2/2 [==============================] - 0s 4ms/step - loss: 10.7136 - mae: 10.7136\n",
            "Epoch 68/100\n",
            "2/2 [==============================] - 0s 5ms/step - loss: 10.6397 - mae: 10.6397\n",
            "Epoch 69/100\n",
            "2/2 [==============================] - 0s 5ms/step - loss: 22.6914 - mae: 22.6914\n",
            "Epoch 70/100\n",
            "2/2 [==============================] - 0s 5ms/step - loss: 9.3316 - mae: 9.3316\n",
            "Epoch 71/100\n",
            "2/2 [==============================] - 0s 6ms/step - loss: 15.4355 - mae: 15.4355\n",
            "Epoch 72/100\n",
            "2/2 [==============================] - 0s 4ms/step - loss: 6.7437 - mae: 6.7437\n",
            "Epoch 73/100\n",
            "2/2 [==============================] - 0s 5ms/step - loss: 11.6891 - mae: 11.6891\n",
            "Epoch 74/100\n",
            "2/2 [==============================] - 0s 7ms/step - loss: 24.0400 - mae: 24.0400\n",
            "Epoch 75/100\n",
            "2/2 [==============================] - 0s 8ms/step - loss: 9.5896 - mae: 9.5896\n",
            "Epoch 76/100\n",
            "2/2 [==============================] - 0s 6ms/step - loss: 12.4371 - mae: 12.4371\n",
            "Epoch 77/100\n",
            "2/2 [==============================] - 0s 6ms/step - loss: 16.6489 - mae: 16.6489\n",
            "Epoch 78/100\n",
            "2/2 [==============================] - 0s 6ms/step - loss: 9.0614 - mae: 9.0614\n",
            "Epoch 79/100\n",
            "2/2 [==============================] - 0s 5ms/step - loss: 23.9675 - mae: 23.9675\n",
            "Epoch 80/100\n",
            "2/2 [==============================] - 0s 5ms/step - loss: 26.7463 - mae: 26.7463\n",
            "Epoch 81/100\n",
            "2/2 [==============================] - 0s 6ms/step - loss: 11.6714 - mae: 11.6714\n",
            "Epoch 82/100\n",
            "2/2 [==============================] - 0s 5ms/step - loss: 12.0228 - mae: 12.0228\n",
            "Epoch 83/100\n",
            "2/2 [==============================] - 0s 6ms/step - loss: 17.4218 - mae: 17.4218\n",
            "Epoch 84/100\n",
            "2/2 [==============================] - 0s 4ms/step - loss: 7.2629 - mae: 7.2629\n",
            "Epoch 85/100\n",
            "2/2 [==============================] - 0s 5ms/step - loss: 14.9650 - mae: 14.9650\n",
            "Epoch 86/100\n",
            "2/2 [==============================] - 0s 5ms/step - loss: 15.2862 - mae: 15.2862\n",
            "Epoch 87/100\n",
            "2/2 [==============================] - 0s 6ms/step - loss: 19.1086 - mae: 19.1086\n",
            "Epoch 88/100\n",
            "2/2 [==============================] - 0s 5ms/step - loss: 29.8229 - mae: 29.8229\n",
            "Epoch 89/100\n",
            "2/2 [==============================] - 0s 5ms/step - loss: 10.1742 - mae: 10.1742\n",
            "Epoch 90/100\n",
            "2/2 [==============================] - 0s 7ms/step - loss: 21.5240 - mae: 21.5240\n",
            "Epoch 91/100\n",
            "2/2 [==============================] - 0s 5ms/step - loss: 10.5716 - mae: 10.5716\n",
            "Epoch 92/100\n",
            "2/2 [==============================] - 0s 13ms/step - loss: 18.3977 - mae: 18.3977\n",
            "Epoch 93/100\n",
            "2/2 [==============================] - 0s 5ms/step - loss: 7.4138 - mae: 7.4138\n",
            "Epoch 94/100\n",
            "2/2 [==============================] - 0s 4ms/step - loss: 17.7380 - mae: 17.7380\n",
            "Epoch 95/100\n",
            "2/2 [==============================] - 0s 5ms/step - loss: 11.1144 - mae: 11.1144\n",
            "Epoch 96/100\n",
            "2/2 [==============================] - 0s 5ms/step - loss: 19.4346 - mae: 19.4346\n",
            "Epoch 97/100\n",
            "2/2 [==============================] - 0s 5ms/step - loss: 12.1593 - mae: 12.1593\n",
            "Epoch 98/100\n",
            "2/2 [==============================] - 0s 4ms/step - loss: 11.5653 - mae: 11.5653\n",
            "Epoch 99/100\n",
            "2/2 [==============================] - 0s 6ms/step - loss: 13.8827 - mae: 13.8827\n",
            "Epoch 100/100\n",
            "2/2 [==============================] - 0s 5ms/step - loss: 20.2277 - mae: 20.2277\n"
          ]
        },
        {
          "output_type": "execute_result",
          "data": {
            "text/plain": [
              "<keras.callbacks.History at 0x7f8b1cf0a150>"
            ]
          },
          "metadata": {},
          "execution_count": 53
        }
      ]
    },
    {
      "cell_type": "code",
      "source": [
        "y_pred_2 = model.predict(X_test)\n"
      ],
      "metadata": {
        "id": "NX9pgh6IZbJW"
      },
      "execution_count": null,
      "outputs": []
    },
    {
      "cell_type": "code",
      "source": [
        "plot_predictions(predictions = y_pred_2)"
      ],
      "metadata": {
        "colab": {
          "base_uri": "https://localhost:8080/",
          "height": 428
        },
        "id": "VYs4PcBPaX4X",
        "outputId": "f4754a2d-9043-4b55-ed80-335503ebca29"
      },
      "execution_count": null,
      "outputs": [
        {
          "output_type": "display_data",
          "data": {
            "text/plain": [
              "<Figure size 648x504 with 1 Axes>"
            ],
            "image/png": "[encoded data removed]"
          },
          "metadata": {
            "needs_background": "light"
          }
        }
      ]
    },
    {
      "cell_type": "code",
      "source": [
        "mae_2 = mae = (y_test, y_pred_2)\n",
        "mse_2 = mse(y_test, y_pred_2)\n",
        "mae_2, mse_2"
      ],
      "metadata": {
        "colab": {
          "base_uri": "https://localhost:8080/"
        },
        "id": "eE_se0apatOy",
        "outputId": "c0925f36-39d5-4730-dfdb-c6ac4cb6c80d"
      },
      "execution_count": null,
      "outputs": [
        {
          "output_type": "execute_result",
          "data": {
            "text/plain": [
              "((<tf.Tensor: shape=(10,), dtype=int32, numpy=array([ 70,  74,  78,  82,  86,  90,  94,  98, 102, 106], dtype=int32)>,\n",
              "  array([[ 70.55218 ],\n",
              "         [ 75.13991 ],\n",
              "         [ 79.72763 ],\n",
              "         [ 84.31535 ],\n",
              "         [ 88.903076],\n",
              "         [ 93.49081 ],\n",
              "         [ 98.07853 ],\n",
              "         [102.66625 ],\n",
              "         [107.253975],\n",
              "         [111.8417  ]], dtype=float32)),\n",
              " <tf.Tensor: shape=(), dtype=float32, numpy=13.070143>)"
            ]
          },
          "metadata": {},
          "execution_count": 56
        }
      ]
    },
    {
      "cell_type": "code",
      "source": [
        "model_3 = tf.keras.Sequential([\n",
        "    tf.keras.layers.Dense(10),\n",
        "    tf.keras.layers.Dense(1)\n",
        "])\n",
        "\n",
        "model_3.compile(loss = tf.keras.losses.mae,\n",
        "                optimizer = tf.keras.optimizers.SGD(),\n",
        "                metrics = [\"mae\"])\n",
        "\n",
        "model_3.fit(tf.expand_dims(X_train, axis = -1), y_train, epochs = 500)\n"
      ],
      "metadata": {
        "colab": {
          "base_uri": "https://localhost:8080/"
        },
        "id": "1IuHrYtGdJz3",
        "outputId": "09bc03cc-f6da-4796-f4ad-15ffedea03b2"
      },
      "execution_count": null,
      "outputs": [
        {
          "output_type": "stream",
          "name": "stdout",
          "text": [
            "Epoch 1/500\n",
            "2/2 [==============================] - 0s 6ms/step - loss: 42.5822 - mae: 42.5822\n",
            "Epoch 2/500\n",
            "2/2 [==============================] - 0s 6ms/step - loss: 10.9331 - mae: 10.9331\n",
            "Epoch 3/500\n",
            "2/2 [==============================] - 0s 5ms/step - loss: 26.9259 - mae: 26.9259\n",
            "Epoch 4/500\n",
            "2/2 [==============================] - 0s 8ms/step - loss: 13.6703 - mae: 13.6703\n",
            "Epoch 5/500\n",
            "2/2 [==============================] - 0s 9ms/step - loss: 15.1926 - mae: 15.1926\n",
            "Epoch 6/500\n",
            "2/2 [==============================] - 0s 6ms/step - loss: 12.0801 - mae: 12.0801\n",
            "Epoch 7/500\n",
            "2/2 [==============================] - 0s 6ms/step - loss: 11.4040 - mae: 11.4040\n",
            "Epoch 8/500\n",
            "2/2 [==============================] - 0s 8ms/step - loss: 11.1956 - mae: 11.1956\n",
            "Epoch 9/500\n",
            "2/2 [==============================] - 0s 5ms/step - loss: 41.6513 - mae: 41.6513\n",
            "Epoch 10/500\n",
            "2/2 [==============================] - 0s 5ms/step - loss: 28.8935 - mae: 28.8935\n",
            "Epoch 11/500\n",
            "2/2 [==============================] - 0s 5ms/step - loss: 8.5332 - mae: 8.5332\n",
            "Epoch 12/500\n",
            "2/2 [==============================] - 0s 4ms/step - loss: 27.4635 - mae: 27.4635\n",
            "Epoch 13/500\n",
            "2/2 [==============================] - 0s 5ms/step - loss: 12.1139 - mae: 12.1139\n",
            "Epoch 14/500\n",
            "2/2 [==============================] - 0s 5ms/step - loss: 34.8373 - mae: 34.8373\n",
            "Epoch 15/500\n",
            "2/2 [==============================] - 0s 14ms/step - loss: 22.6692 - mae: 22.6692\n",
            "Epoch 16/500\n",
            "2/2 [==============================] - 0s 4ms/step - loss: 9.9359 - mae: 9.9359\n",
            "Epoch 17/500\n",
            "2/2 [==============================] - 0s 5ms/step - loss: 17.8992 - mae: 17.8992\n",
            "Epoch 18/500\n",
            "2/2 [==============================] - 0s 5ms/step - loss: 14.3769 - mae: 14.3769\n",
            "Epoch 19/500\n",
            "2/2 [==============================] - 0s 5ms/step - loss: 14.4871 - mae: 14.4871\n",
            "Epoch 20/500\n",
            "2/2 [==============================] - 0s 5ms/step - loss: 10.4799 - mae: 10.4799\n",
            "Epoch 21/500\n",
            "2/2 [==============================] - 0s 5ms/step - loss: 15.2574 - mae: 15.2574\n",
            "Epoch 22/500\n",
            "2/2 [==============================] - 0s 5ms/step - loss: 15.6024 - mae: 15.6024\n",
            "Epoch 23/500\n",
            "2/2 [==============================] - 0s 5ms/step - loss: 9.2279 - mae: 9.2279\n",
            "Epoch 24/500\n",
            "2/2 [==============================] - 0s 5ms/step - loss: 17.2281 - mae: 17.2281\n",
            "Epoch 25/500\n",
            "2/2 [==============================] - 0s 6ms/step - loss: 15.9113 - mae: 15.9113\n",
            "Epoch 26/500\n",
            "2/2 [==============================] - 0s 5ms/step - loss: 20.8721 - mae: 20.8721\n",
            "Epoch 27/500\n",
            "2/2 [==============================] - 0s 5ms/step - loss: 26.0935 - mae: 26.0935\n",
            "Epoch 28/500\n",
            "2/2 [==============================] - 0s 6ms/step - loss: 18.5731 - mae: 18.5731\n",
            "Epoch 29/500\n",
            "2/2 [==============================] - 0s 10ms/step - loss: 9.2419 - mae: 9.2419\n",
            "Epoch 30/500\n",
            "2/2 [==============================] - 0s 4ms/step - loss: 29.1981 - mae: 29.1981\n",
            "Epoch 31/500\n",
            "2/2 [==============================] - 0s 4ms/step - loss: 52.8950 - mae: 52.8950\n",
            "Epoch 32/500\n",
            "2/2 [==============================] - 0s 4ms/step - loss: 11.9662 - mae: 11.9662\n",
            "Epoch 33/500\n",
            "2/2 [==============================] - 0s 4ms/step - loss: 15.5894 - mae: 15.5894\n",
            "Epoch 34/500\n",
            "2/2 [==============================] - 0s 4ms/step - loss: 12.6582 - mae: 12.6582\n",
            "Epoch 35/500\n",
            "2/2 [==============================] - 0s 4ms/step - loss: 9.2225 - mae: 9.2225\n",
            "Epoch 36/500\n",
            "2/2 [==============================] - 0s 5ms/step - loss: 16.5907 - mae: 16.5907\n",
            "Epoch 37/500\n",
            "2/2 [==============================] - 0s 4ms/step - loss: 11.0521 - mae: 11.0521\n",
            "Epoch 38/500\n",
            "2/2 [==============================] - 0s 4ms/step - loss: 18.1794 - mae: 18.1794\n",
            "Epoch 39/500\n",
            "2/2 [==============================] - 0s 4ms/step - loss: 19.1155 - mae: 19.1155\n",
            "Epoch 40/500\n",
            "2/2 [==============================] - 0s 4ms/step - loss: 20.4601 - mae: 20.4601\n",
            "Epoch 41/500\n",
            "2/2 [==============================] - 0s 4ms/step - loss: 14.8707 - mae: 14.8707\n",
            "Epoch 42/500\n",
            "2/2 [==============================] - 0s 4ms/step - loss: 12.2499 - mae: 12.2499\n",
            "Epoch 43/500\n",
            "2/2 [==============================] - 0s 4ms/step - loss: 10.7146 - mae: 10.7146\n",
            "Epoch 44/500\n",
            "2/2 [==============================] - 0s 4ms/step - loss: 22.9474 - mae: 22.9474\n",
            "Epoch 45/500\n",
            "2/2 [==============================] - 0s 4ms/step - loss: 10.3634 - mae: 10.3634\n",
            "Epoch 46/500\n",
            "2/2 [==============================] - 0s 4ms/step - loss: 11.7521 - mae: 11.7521\n",
            "Epoch 47/500\n",
            "2/2 [==============================] - 0s 5ms/step - loss: 9.6556 - mae: 9.6556\n",
            "Epoch 48/500\n",
            "2/2 [==============================] - 0s 4ms/step - loss: 17.2632 - mae: 17.2632\n",
            "Epoch 49/500\n",
            "2/2 [==============================] - 0s 4ms/step - loss: 9.5489 - mae: 9.5489\n",
            "Epoch 50/500\n",
            "2/2 [==============================] - 0s 4ms/step - loss: 13.7777 - mae: 13.7777\n",
            "Epoch 51/500\n",
            "2/2 [==============================] - 0s 4ms/step - loss: 11.5782 - mae: 11.5782\n",
            "Epoch 52/500\n",
            "2/2 [==============================] - 0s 4ms/step - loss: 30.4587 - mae: 30.4587\n",
            "Epoch 53/500\n",
            "2/2 [==============================] - 0s 4ms/step - loss: 14.3112 - mae: 14.3112\n",
            "Epoch 54/500\n",
            "2/2 [==============================] - 0s 4ms/step - loss: 23.8976 - mae: 23.8976\n",
            "Epoch 55/500\n",
            "2/2 [==============================] - 0s 4ms/step - loss: 23.1125 - mae: 23.1125\n",
            "Epoch 56/500\n",
            "2/2 [==============================] - 0s 4ms/step - loss: 10.8542 - mae: 10.8542\n",
            "Epoch 57/500\n",
            "2/2 [==============================] - 0s 4ms/step - loss: 12.7053 - mae: 12.7053\n",
            "Epoch 58/500\n",
            "2/2 [==============================] - 0s 4ms/step - loss: 9.5760 - mae: 9.5760\n",
            "Epoch 59/500\n",
            "2/2 [==============================] - 0s 4ms/step - loss: 12.4807 - mae: 12.4807\n",
            "Epoch 60/500\n",
            "2/2 [==============================] - 0s 4ms/step - loss: 11.8913 - mae: 11.8913\n",
            "Epoch 61/500\n",
            "2/2 [==============================] - 0s 4ms/step - loss: 16.9716 - mae: 16.9716\n",
            "Epoch 62/500\n",
            "2/2 [==============================] - 0s 4ms/step - loss: 10.3876 - mae: 10.3876\n",
            "Epoch 63/500\n",
            "2/2 [==============================] - 0s 3ms/step - loss: 10.3428 - mae: 10.3428\n",
            "Epoch 64/500\n",
            "2/2 [==============================] - 0s 4ms/step - loss: 24.1942 - mae: 24.1942\n",
            "Epoch 65/500\n",
            "2/2 [==============================] - 0s 4ms/step - loss: 10.5224 - mae: 10.5224\n",
            "Epoch 66/500\n",
            "2/2 [==============================] - 0s 4ms/step - loss: 21.2046 - mae: 21.2046\n",
            "Epoch 67/500\n",
            "2/2 [==============================] - 0s 4ms/step - loss: 10.5191 - mae: 10.5191\n",
            "Epoch 68/500\n",
            "2/2 [==============================] - 0s 5ms/step - loss: 14.3680 - mae: 14.3680\n",
            "Epoch 69/500\n",
            "2/2 [==============================] - 0s 5ms/step - loss: 10.6097 - mae: 10.6097\n",
            "Epoch 70/500\n",
            "2/2 [==============================] - 0s 5ms/step - loss: 12.6937 - mae: 12.6937\n",
            "Epoch 71/500\n",
            "2/2 [==============================] - 0s 5ms/step - loss: 13.1234 - mae: 13.1234\n",
            "Epoch 72/500\n",
            "2/2 [==============================] - 0s 5ms/step - loss: 19.6276 - mae: 19.6276\n",
            "Epoch 73/500\n",
            "2/2 [==============================] - 0s 5ms/step - loss: 11.1902 - mae: 11.1902\n",
            "Epoch 74/500\n",
            "2/2 [==============================] - 0s 5ms/step - loss: 21.9121 - mae: 21.9121\n",
            "Epoch 75/500\n",
            "2/2 [==============================] - 0s 6ms/step - loss: 7.1885 - mae: 7.1885\n",
            "Epoch 76/500\n",
            "2/2 [==============================] - 0s 5ms/step - loss: 9.4161 - mae: 9.4161\n",
            "Epoch 77/500\n",
            "2/2 [==============================] - 0s 4ms/step - loss: 22.0473 - mae: 22.0473\n",
            "Epoch 78/500\n",
            "2/2 [==============================] - 0s 4ms/step - loss: 17.7011 - mae: 17.7011\n",
            "Epoch 79/500\n",
            "2/2 [==============================] - 0s 4ms/step - loss: 14.8612 - mae: 14.8612\n",
            "Epoch 80/500\n",
            "2/2 [==============================] - 0s 4ms/step - loss: 25.1842 - mae: 25.1842\n",
            "Epoch 81/500\n",
            "2/2 [==============================] - 0s 4ms/step - loss: 10.9252 - mae: 10.9252\n",
            "Epoch 82/500\n",
            "2/2 [==============================] - 0s 4ms/step - loss: 12.7402 - mae: 12.7402\n",
            "Epoch 83/500\n",
            "2/2 [==============================] - 0s 4ms/step - loss: 17.5086 - mae: 17.5086\n",
            "Epoch 84/500\n",
            "2/2 [==============================] - 0s 5ms/step - loss: 7.2803 - mae: 7.2803\n",
            "Epoch 85/500\n",
            "2/2 [==============================] - 0s 4ms/step - loss: 15.0318 - mae: 15.0318\n",
            "Epoch 86/500\n",
            "2/2 [==============================] - 0s 5ms/step - loss: 15.3400 - mae: 15.3400\n",
            "Epoch 87/500\n",
            "2/2 [==============================] - 0s 5ms/step - loss: 19.2179 - mae: 19.2179\n",
            "Epoch 88/500\n",
            "2/2 [==============================] - 0s 5ms/step - loss: 29.5362 - mae: 29.5362\n",
            "Epoch 89/500\n",
            "2/2 [==============================] - 0s 5ms/step - loss: 10.1332 - mae: 10.1332\n",
            "Epoch 90/500\n",
            "2/2 [==============================] - 0s 5ms/step - loss: 21.2860 - mae: 21.2860\n",
            "Epoch 91/500\n",
            "2/2 [==============================] - 0s 4ms/step - loss: 10.5150 - mae: 10.5150\n",
            "Epoch 92/500\n",
            "2/2 [==============================] - 0s 5ms/step - loss: 18.1815 - mae: 18.1815\n",
            "Epoch 93/500\n",
            "2/2 [==============================] - 0s 5ms/step - loss: 6.5368 - mae: 6.5368\n",
            "Epoch 94/500\n",
            "2/2 [==============================] - 0s 6ms/step - loss: 11.1743 - mae: 11.1743\n",
            "Epoch 95/500\n",
            "2/2 [==============================] - 0s 5ms/step - loss: 24.6366 - mae: 24.6366\n",
            "Epoch 96/500\n",
            "2/2 [==============================] - 0s 4ms/step - loss: 10.7835 - mae: 10.7835\n",
            "Epoch 97/500\n",
            "2/2 [==============================] - 0s 4ms/step - loss: 15.5303 - mae: 15.5303\n",
            "Epoch 98/500\n",
            "2/2 [==============================] - 0s 5ms/step - loss: 9.0533 - mae: 9.0533\n",
            "Epoch 99/500\n",
            "2/2 [==============================] - 0s 5ms/step - loss: 10.8684 - mae: 10.8684\n",
            "Epoch 100/500\n",
            "2/2 [==============================] - 0s 4ms/step - loss: 27.1543 - mae: 27.1543\n",
            "Epoch 101/500\n",
            "2/2 [==============================] - 0s 5ms/step - loss: 15.0985 - mae: 15.0985\n",
            "Epoch 102/500\n",
            "2/2 [==============================] - 0s 5ms/step - loss: 10.6480 - mae: 10.6480\n",
            "Epoch 103/500\n",
            "2/2 [==============================] - 0s 4ms/step - loss: 9.1251 - mae: 9.1251\n",
            "Epoch 104/500\n",
            "2/2 [==============================] - 0s 4ms/step - loss: 23.5916 - mae: 23.5916\n",
            "Epoch 105/500\n",
            "2/2 [==============================] - 0s 5ms/step - loss: 10.7488 - mae: 10.7488\n",
            "Epoch 106/500\n",
            "2/2 [==============================] - 0s 4ms/step - loss: 11.2126 - mae: 11.2126\n",
            "Epoch 107/500\n",
            "2/2 [==============================] - 0s 5ms/step - loss: 21.1606 - mae: 21.1606\n",
            "Epoch 108/500\n",
            "2/2 [==============================] - 0s 4ms/step - loss: 6.3044 - mae: 6.3044\n",
            "Epoch 109/500\n",
            "2/2 [==============================] - 0s 5ms/step - loss: 10.5376 - mae: 10.5376\n",
            "Epoch 110/500\n",
            "2/2 [==============================] - 0s 5ms/step - loss: 10.4890 - mae: 10.4890\n",
            "Epoch 111/500\n",
            "2/2 [==============================] - 0s 5ms/step - loss: 16.6339 - mae: 16.6339\n",
            "Epoch 112/500\n",
            "2/2 [==============================] - 0s 4ms/step - loss: 9.4794 - mae: 9.4794\n",
            "Epoch 113/500\n",
            "2/2 [==============================] - 0s 4ms/step - loss: 17.5285 - mae: 17.5285\n",
            "Epoch 114/500\n",
            "2/2 [==============================] - 0s 4ms/step - loss: 16.8953 - mae: 16.8953\n",
            "Epoch 115/500\n",
            "2/2 [==============================] - 0s 5ms/step - loss: 11.0144 - mae: 11.0144\n",
            "Epoch 116/500\n",
            "2/2 [==============================] - 0s 4ms/step - loss: 22.9330 - mae: 22.9330\n",
            "Epoch 117/500\n",
            "2/2 [==============================] - 0s 4ms/step - loss: 9.4916 - mae: 9.4916\n",
            "Epoch 118/500\n",
            "2/2 [==============================] - 0s 4ms/step - loss: 10.5481 - mae: 10.5481\n",
            "Epoch 119/500\n",
            "2/2 [==============================] - 0s 4ms/step - loss: 8.0094 - mae: 8.0094\n",
            "Epoch 120/500\n",
            "2/2 [==============================] - 0s 4ms/step - loss: 29.2342 - mae: 29.2342\n",
            "Epoch 121/500\n",
            "2/2 [==============================] - 0s 5ms/step - loss: 8.0499 - mae: 8.0499\n",
            "Epoch 122/500\n",
            "2/2 [==============================] - 0s 4ms/step - loss: 27.9400 - mae: 27.9400\n",
            "Epoch 123/500\n",
            "2/2 [==============================] - 0s 5ms/step - loss: 32.4459 - mae: 32.4459\n",
            "Epoch 124/500\n",
            "2/2 [==============================] - 0s 5ms/step - loss: 19.2868 - mae: 19.2868\n",
            "Epoch 125/500\n",
            "2/2 [==============================] - 0s 4ms/step - loss: 9.4754 - mae: 9.4754\n",
            "Epoch 126/500\n",
            "2/2 [==============================] - 0s 5ms/step - loss: 9.5574 - mae: 9.5574\n",
            "Epoch 127/500\n",
            "2/2 [==============================] - 0s 5ms/step - loss: 12.6759 - mae: 12.6759\n",
            "Epoch 128/500\n",
            "2/2 [==============================] - 0s 5ms/step - loss: 12.7723 - mae: 12.7723\n",
            "Epoch 129/500\n",
            "2/2 [==============================] - 0s 5ms/step - loss: 13.9047 - mae: 13.9047\n",
            "Epoch 130/500\n",
            "2/2 [==============================] - 0s 4ms/step - loss: 10.2031 - mae: 10.2031\n",
            "Epoch 131/500\n",
            "2/2 [==============================] - 0s 5ms/step - loss: 21.6633 - mae: 21.6633\n",
            "Epoch 132/500\n",
            "2/2 [==============================] - 0s 4ms/step - loss: 8.2481 - mae: 8.2481\n",
            "Epoch 133/500\n",
            "2/2 [==============================] - 0s 5ms/step - loss: 9.0299 - mae: 9.0299\n",
            "Epoch 134/500\n",
            "2/2 [==============================] - 0s 6ms/step - loss: 16.8696 - mae: 16.8696\n",
            "Epoch 135/500\n",
            "2/2 [==============================] - 0s 6ms/step - loss: 10.6254 - mae: 10.6254\n",
            "Epoch 136/500\n",
            "2/2 [==============================] - 0s 6ms/step - loss: 18.4895 - mae: 18.4895\n",
            "Epoch 137/500\n",
            "2/2 [==============================] - 0s 5ms/step - loss: 23.4743 - mae: 23.4743\n",
            "Epoch 138/500\n",
            "2/2 [==============================] - 0s 4ms/step - loss: 9.2535 - mae: 9.2535\n",
            "Epoch 139/500\n",
            "2/2 [==============================] - 0s 4ms/step - loss: 8.9906 - mae: 8.9906\n",
            "Epoch 140/500\n",
            "2/2 [==============================] - 0s 5ms/step - loss: 16.9579 - mae: 16.9579\n",
            "Epoch 141/500\n",
            "2/2 [==============================] - 0s 5ms/step - loss: 8.2991 - mae: 8.2991\n",
            "Epoch 142/500\n",
            "2/2 [==============================] - 0s 6ms/step - loss: 34.0529 - mae: 34.0529\n",
            "Epoch 143/500\n",
            "2/2 [==============================] - 0s 6ms/step - loss: 23.0925 - mae: 23.0925\n",
            "Epoch 144/500\n",
            "2/2 [==============================] - 0s 5ms/step - loss: 11.3178 - mae: 11.3178\n",
            "Epoch 145/500\n",
            "2/2 [==============================] - 0s 5ms/step - loss: 25.0260 - mae: 25.0260\n",
            "Epoch 146/500\n",
            "2/2 [==============================] - 0s 5ms/step - loss: 11.1395 - mae: 11.1395\n",
            "Epoch 147/500\n",
            "2/2 [==============================] - 0s 6ms/step - loss: 14.0641 - mae: 14.0641\n",
            "Epoch 148/500\n",
            "2/2 [==============================] - 0s 5ms/step - loss: 16.9134 - mae: 16.9134\n",
            "Epoch 149/500\n",
            "2/2 [==============================] - 0s 5ms/step - loss: 9.2440 - mae: 9.2440\n",
            "Epoch 150/500\n",
            "2/2 [==============================] - 0s 5ms/step - loss: 7.9228 - mae: 7.9228\n",
            "Epoch 151/500\n",
            "2/2 [==============================] - 0s 5ms/step - loss: 16.5267 - mae: 16.5267\n",
            "Epoch 152/500\n",
            "2/2 [==============================] - 0s 5ms/step - loss: 9.7869 - mae: 9.7869\n",
            "Epoch 153/500\n",
            "2/2 [==============================] - 0s 5ms/step - loss: 26.8916 - mae: 26.8916\n",
            "Epoch 154/500\n",
            "2/2 [==============================] - 0s 5ms/step - loss: 11.8991 - mae: 11.8991\n",
            "Epoch 155/500\n",
            "2/2 [==============================] - 0s 4ms/step - loss: 15.2670 - mae: 15.2670\n",
            "Epoch 156/500\n",
            "2/2 [==============================] - 0s 5ms/step - loss: 16.6285 - mae: 16.6285\n",
            "Epoch 157/500\n",
            "2/2 [==============================] - 0s 6ms/step - loss: 19.3260 - mae: 19.3260\n",
            "Epoch 158/500\n",
            "2/2 [==============================] - 0s 5ms/step - loss: 8.2555 - mae: 8.2555\n",
            "Epoch 159/500\n",
            "2/2 [==============================] - 0s 5ms/step - loss: 7.9670 - mae: 7.9670\n",
            "Epoch 160/500\n",
            "2/2 [==============================] - 0s 6ms/step - loss: 20.9312 - mae: 20.9312\n",
            "Epoch 161/500\n",
            "2/2 [==============================] - 0s 5ms/step - loss: 23.8384 - mae: 23.8384\n",
            "Epoch 162/500\n",
            "2/2 [==============================] - 0s 5ms/step - loss: 18.7474 - mae: 18.7474\n",
            "Epoch 163/500\n",
            "2/2 [==============================] - 0s 5ms/step - loss: 17.6969 - mae: 17.6969\n",
            "Epoch 164/500\n",
            "2/2 [==============================] - 0s 5ms/step - loss: 11.0904 - mae: 11.0904\n",
            "Epoch 165/500\n",
            "2/2 [==============================] - 0s 5ms/step - loss: 9.5959 - mae: 9.5959\n",
            "Epoch 166/500\n",
            "2/2 [==============================] - 0s 5ms/step - loss: 21.5284 - mae: 21.5284\n",
            "Epoch 167/500\n",
            "2/2 [==============================] - 0s 4ms/step - loss: 26.4465 - mae: 26.4465\n",
            "Epoch 168/500\n",
            "2/2 [==============================] - 0s 10ms/step - loss: 9.8807 - mae: 9.8807\n",
            "Epoch 169/500\n",
            "2/2 [==============================] - 0s 5ms/step - loss: 22.7214 - mae: 22.7214\n",
            "Epoch 170/500\n",
            "2/2 [==============================] - 0s 5ms/step - loss: 10.1229 - mae: 10.1229\n",
            "Epoch 171/500\n",
            "2/2 [==============================] - 0s 5ms/step - loss: 17.9795 - mae: 17.9795\n",
            "Epoch 172/500\n",
            "2/2 [==============================] - 0s 5ms/step - loss: 28.9997 - mae: 28.9997\n",
            "Epoch 173/500\n",
            "2/2 [==============================] - 0s 5ms/step - loss: 16.6552 - mae: 16.6552\n",
            "Epoch 174/500\n",
            "2/2 [==============================] - 0s 5ms/step - loss: 11.1959 - mae: 11.1959\n",
            "Epoch 175/500\n",
            "2/2 [==============================] - 0s 6ms/step - loss: 27.5433 - mae: 27.5433\n",
            "Epoch 176/500\n",
            "2/2 [==============================] - 0s 8ms/step - loss: 8.3104 - mae: 8.3104\n",
            "Epoch 177/500\n",
            "2/2 [==============================] - 0s 5ms/step - loss: 9.2890 - mae: 9.2890\n",
            "Epoch 178/500\n",
            "2/2 [==============================] - 0s 6ms/step - loss: 18.2729 - mae: 18.2729\n",
            "Epoch 179/500\n",
            "2/2 [==============================] - 0s 6ms/step - loss: 10.5415 - mae: 10.5415\n",
            "Epoch 180/500\n",
            "2/2 [==============================] - 0s 6ms/step - loss: 7.9188 - mae: 7.9188\n",
            "Epoch 181/500\n",
            "2/2 [==============================] - 0s 9ms/step - loss: 17.5086 - mae: 17.5086\n",
            "Epoch 182/500\n",
            "2/2 [==============================] - 0s 10ms/step - loss: 11.0546 - mae: 11.0546\n",
            "Epoch 183/500\n",
            "2/2 [==============================] - 0s 5ms/step - loss: 11.7519 - mae: 11.7519\n",
            "Epoch 184/500\n",
            "2/2 [==============================] - 0s 7ms/step - loss: 30.5715 - mae: 30.5715\n",
            "Epoch 185/500\n",
            "2/2 [==============================] - 0s 9ms/step - loss: 7.5400 - mae: 7.5400\n",
            "Epoch 186/500\n",
            "2/2 [==============================] - 0s 7ms/step - loss: 15.9406 - mae: 15.9406\n",
            "Epoch 187/500\n",
            "2/2 [==============================] - 0s 6ms/step - loss: 8.5711 - mae: 8.5711\n",
            "Epoch 188/500\n",
            "2/2 [==============================] - 0s 9ms/step - loss: 28.8885 - mae: 28.8885\n",
            "Epoch 189/500\n",
            "2/2 [==============================] - 0s 4ms/step - loss: 13.1373 - mae: 13.1373\n",
            "Epoch 190/500\n",
            "2/2 [==============================] - 0s 6ms/step - loss: 18.2753 - mae: 18.2753\n",
            "Epoch 191/500\n",
            "2/2 [==============================] - 0s 4ms/step - loss: 13.6973 - mae: 13.6973\n",
            "Epoch 192/500\n",
            "2/2 [==============================] - 0s 4ms/step - loss: 13.6935 - mae: 13.6935\n",
            "Epoch 193/500\n",
            "2/2 [==============================] - 0s 4ms/step - loss: 28.5525 - mae: 28.5525\n",
            "Epoch 194/500\n",
            "2/2 [==============================] - 0s 4ms/step - loss: 7.1046 - mae: 7.1046\n",
            "Epoch 195/500\n",
            "2/2 [==============================] - 0s 4ms/step - loss: 7.0502 - mae: 7.0502\n",
            "Epoch 196/500\n",
            "2/2 [==============================] - 0s 4ms/step - loss: 21.9599 - mae: 21.9599\n",
            "Epoch 197/500\n",
            "2/2 [==============================] - 0s 3ms/step - loss: 20.9412 - mae: 20.9412\n",
            "Epoch 198/500\n",
            "2/2 [==============================] - 0s 4ms/step - loss: 12.5266 - mae: 12.5266\n",
            "Epoch 199/500\n",
            "2/2 [==============================] - 0s 4ms/step - loss: 17.9922 - mae: 17.9922\n",
            "Epoch 200/500\n",
            "2/2 [==============================] - 0s 4ms/step - loss: 13.8247 - mae: 13.8247\n",
            "Epoch 201/500\n",
            "2/2 [==============================] - 0s 4ms/step - loss: 6.0285 - mae: 6.0285\n",
            "Epoch 202/500\n",
            "2/2 [==============================] - 0s 4ms/step - loss: 22.8397 - mae: 22.8397\n",
            "Epoch 203/500\n",
            "2/2 [==============================] - 0s 4ms/step - loss: 8.9404 - mae: 8.9404\n",
            "Epoch 204/500\n",
            "2/2 [==============================] - 0s 7ms/step - loss: 18.8189 - mae: 18.8189\n",
            "Epoch 205/500\n",
            "2/2 [==============================] - 0s 4ms/step - loss: 9.3440 - mae: 9.3440\n",
            "Epoch 206/500\n",
            "2/2 [==============================] - 0s 4ms/step - loss: 10.4134 - mae: 10.4134\n",
            "Epoch 207/500\n",
            "2/2 [==============================] - 0s 12ms/step - loss: 21.1017 - mae: 21.1017\n",
            "Epoch 208/500\n",
            "2/2 [==============================] - 0s 4ms/step - loss: 16.4626 - mae: 16.4626\n",
            "Epoch 209/500\n",
            "2/2 [==============================] - 0s 4ms/step - loss: 14.3688 - mae: 14.3688\n",
            "Epoch 210/500\n",
            "2/2 [==============================] - 0s 4ms/step - loss: 19.3789 - mae: 19.3789\n",
            "Epoch 211/500\n",
            "2/2 [==============================] - 0s 5ms/step - loss: 10.2959 - mae: 10.2959\n",
            "Epoch 212/500\n",
            "2/2 [==============================] - 0s 4ms/step - loss: 20.1656 - mae: 20.1656\n",
            "Epoch 213/500\n",
            "2/2 [==============================] - 0s 5ms/step - loss: 15.0622 - mae: 15.0622\n",
            "Epoch 214/500\n",
            "2/2 [==============================] - 0s 5ms/step - loss: 14.6038 - mae: 14.6038\n",
            "Epoch 215/500\n",
            "2/2 [==============================] - 0s 8ms/step - loss: 23.3325 - mae: 23.3325\n",
            "Epoch 216/500\n",
            "2/2 [==============================] - 0s 7ms/step - loss: 13.3112 - mae: 13.3112\n",
            "Epoch 217/500\n",
            "2/2 [==============================] - 0s 7ms/step - loss: 9.8162 - mae: 9.8162\n",
            "Epoch 218/500\n",
            "2/2 [==============================] - 0s 4ms/step - loss: 12.5853 - mae: 12.5853\n",
            "Epoch 219/500\n",
            "2/2 [==============================] - 0s 4ms/step - loss: 5.3331 - mae: 5.3331\n",
            "Epoch 220/500\n",
            "2/2 [==============================] - 0s 285ms/step - loss: 14.6926 - mae: 14.6926\n",
            "Epoch 221/500\n",
            "2/2 [==============================] - 0s 5ms/step - loss: 33.5385 - mae: 33.5385\n",
            "Epoch 222/500\n",
            "2/2 [==============================] - 0s 4ms/step - loss: 13.8805 - mae: 13.8805\n",
            "Epoch 223/500\n",
            "2/2 [==============================] - 0s 4ms/step - loss: 10.9872 - mae: 10.9872\n",
            "Epoch 224/500\n",
            "2/2 [==============================] - 0s 5ms/step - loss: 14.9380 - mae: 14.9380\n",
            "Epoch 225/500\n",
            "2/2 [==============================] - 0s 5ms/step - loss: 16.9834 - mae: 16.9834\n",
            "Epoch 226/500\n",
            "2/2 [==============================] - 0s 5ms/step - loss: 16.1735 - mae: 16.1735\n",
            "Epoch 227/500\n",
            "2/2 [==============================] - 0s 4ms/step - loss: 16.4892 - mae: 16.4892\n",
            "Epoch 228/500\n",
            "2/2 [==============================] - 0s 4ms/step - loss: 9.9334 - mae: 9.9334\n",
            "Epoch 229/500\n",
            "2/2 [==============================] - 0s 4ms/step - loss: 17.8279 - mae: 17.8279\n",
            "Epoch 230/500\n",
            "2/2 [==============================] - 0s 4ms/step - loss: 15.4489 - mae: 15.4489\n",
            "Epoch 231/500\n",
            "2/2 [==============================] - 0s 9ms/step - loss: 20.8729 - mae: 20.8729\n",
            "Epoch 232/500\n",
            "2/2 [==============================] - 0s 4ms/step - loss: 20.4368 - mae: 20.4368\n",
            "Epoch 233/500\n",
            "2/2 [==============================] - 0s 9ms/step - loss: 15.0925 - mae: 15.0925\n",
            "Epoch 234/500\n",
            "2/2 [==============================] - 0s 4ms/step - loss: 6.9611 - mae: 6.9611\n",
            "Epoch 235/500\n",
            "2/2 [==============================] - 0s 4ms/step - loss: 15.7431 - mae: 15.7431\n",
            "Epoch 236/500\n",
            "2/2 [==============================] - 0s 7ms/step - loss: 6.6844 - mae: 6.6844\n",
            "Epoch 237/500\n",
            "2/2 [==============================] - 0s 4ms/step - loss: 8.5997 - mae: 8.5997\n",
            "Epoch 238/500\n",
            "2/2 [==============================] - 0s 4ms/step - loss: 7.7600 - mae: 7.7600\n",
            "Epoch 239/500\n",
            "2/2 [==============================] - 0s 4ms/step - loss: 15.6674 - mae: 15.6674\n",
            "Epoch 240/500\n",
            "2/2 [==============================] - 0s 4ms/step - loss: 9.0044 - mae: 9.0044\n",
            "Epoch 241/500\n",
            "2/2 [==============================] - 0s 4ms/step - loss: 13.4320 - mae: 13.4320\n",
            "Epoch 242/500\n",
            "2/2 [==============================] - 0s 4ms/step - loss: 8.8925 - mae: 8.8925\n",
            "Epoch 243/500\n",
            "2/2 [==============================] - 0s 4ms/step - loss: 19.3309 - mae: 19.3309\n",
            "Epoch 244/500\n",
            "2/2 [==============================] - 0s 4ms/step - loss: 13.8752 - mae: 13.8752\n",
            "Epoch 245/500\n",
            "2/2 [==============================] - 0s 4ms/step - loss: 14.5270 - mae: 14.5270\n",
            "Epoch 246/500\n",
            "2/2 [==============================] - 0s 9ms/step - loss: 15.6643 - mae: 15.6643\n",
            "Epoch 247/500\n",
            "2/2 [==============================] - 0s 4ms/step - loss: 17.4968 - mae: 17.4968\n",
            "Epoch 248/500\n",
            "2/2 [==============================] - 0s 4ms/step - loss: 13.0650 - mae: 13.0650\n",
            "Epoch 249/500\n",
            "2/2 [==============================] - 0s 4ms/step - loss: 14.4143 - mae: 14.4143\n",
            "Epoch 250/500\n",
            "2/2 [==============================] - 0s 4ms/step - loss: 27.8084 - mae: 27.8084\n",
            "Epoch 251/500\n",
            "2/2 [==============================] - 0s 4ms/step - loss: 7.4941 - mae: 7.4941\n",
            "Epoch 252/500\n",
            "2/2 [==============================] - 0s 4ms/step - loss: 38.2515 - mae: 38.2515\n",
            "Epoch 253/500\n",
            "2/2 [==============================] - 0s 4ms/step - loss: 23.1391 - mae: 23.1391\n",
            "Epoch 254/500\n",
            "2/2 [==============================] - 0s 4ms/step - loss: 7.2848 - mae: 7.2848\n",
            "Epoch 255/500\n",
            "2/2 [==============================] - 0s 6ms/step - loss: 24.6464 - mae: 24.6464\n",
            "Epoch 256/500\n",
            "2/2 [==============================] - 0s 4ms/step - loss: 12.3952 - mae: 12.3952\n",
            "Epoch 257/500\n",
            "2/2 [==============================] - 0s 4ms/step - loss: 10.5623 - mae: 10.5623\n",
            "Epoch 258/500\n",
            "2/2 [==============================] - 0s 4ms/step - loss: 14.1943 - mae: 14.1943\n",
            "Epoch 259/500\n",
            "2/2 [==============================] - 0s 5ms/step - loss: 11.2490 - mae: 11.2490\n",
            "Epoch 260/500\n",
            "2/2 [==============================] - 0s 5ms/step - loss: 31.6272 - mae: 31.6272\n",
            "Epoch 261/500\n",
            "2/2 [==============================] - 0s 5ms/step - loss: 11.1654 - mae: 11.1654\n",
            "Epoch 262/500\n",
            "2/2 [==============================] - 0s 5ms/step - loss: 10.0203 - mae: 10.0203\n",
            "Epoch 263/500\n",
            "2/2 [==============================] - 0s 4ms/step - loss: 8.9338 - mae: 8.9338\n",
            "Epoch 264/500\n",
            "2/2 [==============================] - 0s 5ms/step - loss: 21.5165 - mae: 21.5165\n",
            "Epoch 265/500\n",
            "2/2 [==============================] - 0s 8ms/step - loss: 11.4335 - mae: 11.4335\n",
            "Epoch 266/500\n",
            "2/2 [==============================] - 0s 4ms/step - loss: 13.2669 - mae: 13.2669\n",
            "Epoch 267/500\n",
            "2/2 [==============================] - 0s 4ms/step - loss: 11.0636 - mae: 11.0636\n",
            "Epoch 268/500\n",
            "2/2 [==============================] - 0s 8ms/step - loss: 21.7188 - mae: 21.7188\n",
            "Epoch 269/500\n",
            "2/2 [==============================] - 0s 4ms/step - loss: 32.9129 - mae: 32.9129\n",
            "Epoch 270/500\n",
            "2/2 [==============================] - 0s 4ms/step - loss: 9.7237 - mae: 9.7237\n",
            "Epoch 271/500\n",
            "2/2 [==============================] - 0s 4ms/step - loss: 7.7036 - mae: 7.7036\n",
            "Epoch 272/500\n",
            "2/2 [==============================] - 0s 4ms/step - loss: 28.5088 - mae: 28.5088\n",
            "Epoch 273/500\n",
            "2/2 [==============================] - 0s 4ms/step - loss: 7.3695 - mae: 7.3695\n",
            "Epoch 274/500\n",
            "2/2 [==============================] - 0s 6ms/step - loss: 6.3200 - mae: 6.3200\n",
            "Epoch 275/500\n",
            "2/2 [==============================] - 0s 9ms/step - loss: 37.1489 - mae: 37.1489\n",
            "Epoch 276/500\n",
            "2/2 [==============================] - 0s 6ms/step - loss: 8.2746 - mae: 8.2746\n",
            "Epoch 277/500\n",
            "2/2 [==============================] - 0s 5ms/step - loss: 27.9333 - mae: 27.9333\n",
            "Epoch 278/500\n",
            "2/2 [==============================] - 0s 4ms/step - loss: 10.6131 - mae: 10.6131\n",
            "Epoch 279/500\n",
            "2/2 [==============================] - 0s 4ms/step - loss: 16.0592 - mae: 16.0592\n",
            "Epoch 280/500\n",
            "2/2 [==============================] - 0s 4ms/step - loss: 21.1418 - mae: 21.1418\n",
            "Epoch 281/500\n",
            "2/2 [==============================] - 0s 4ms/step - loss: 24.0278 - mae: 24.0278\n",
            "Epoch 282/500\n",
            "2/2 [==============================] - 0s 5ms/step - loss: 8.2943 - mae: 8.2943\n",
            "Epoch 283/500\n",
            "2/2 [==============================] - 0s 5ms/step - loss: 9.0376 - mae: 9.0376\n",
            "Epoch 284/500\n",
            "2/2 [==============================] - 0s 5ms/step - loss: 22.9683 - mae: 22.9683\n",
            "Epoch 285/500\n",
            "2/2 [==============================] - 0s 4ms/step - loss: 11.8141 - mae: 11.8141\n",
            "Epoch 286/500\n",
            "2/2 [==============================] - 0s 6ms/step - loss: 6.7266 - mae: 6.7266\n",
            "Epoch 287/500\n",
            "2/2 [==============================] - 0s 5ms/step - loss: 20.9356 - mae: 20.9356\n",
            "Epoch 288/500\n",
            "2/2 [==============================] - 0s 5ms/step - loss: 11.1900 - mae: 11.1900\n",
            "Epoch 289/500\n",
            "2/2 [==============================] - 0s 4ms/step - loss: 12.4182 - mae: 12.4182\n",
            "Epoch 290/500\n",
            "2/2 [==============================] - 0s 5ms/step - loss: 16.9540 - mae: 16.9540\n",
            "Epoch 291/500\n",
            "2/2 [==============================] - 0s 4ms/step - loss: 17.3521 - mae: 17.3521\n",
            "Epoch 292/500\n",
            "2/2 [==============================] - 0s 4ms/step - loss: 11.4509 - mae: 11.4509\n",
            "Epoch 293/500\n",
            "2/2 [==============================] - 0s 4ms/step - loss: 14.2686 - mae: 14.2686\n",
            "Epoch 294/500\n",
            "2/2 [==============================] - 0s 5ms/step - loss: 21.1963 - mae: 21.1963\n",
            "Epoch 295/500\n",
            "2/2 [==============================] - 0s 4ms/step - loss: 15.7475 - mae: 15.7475\n",
            "Epoch 296/500\n",
            "2/2 [==============================] - 0s 5ms/step - loss: 5.8710 - mae: 5.8710\n",
            "Epoch 297/500\n",
            "2/2 [==============================] - 0s 5ms/step - loss: 11.8133 - mae: 11.8133\n",
            "Epoch 298/500\n",
            "2/2 [==============================] - 0s 5ms/step - loss: 23.6499 - mae: 23.6499\n",
            "Epoch 299/500\n",
            "2/2 [==============================] - 0s 4ms/step - loss: 16.6366 - mae: 16.6366\n",
            "Epoch 300/500\n",
            "2/2 [==============================] - 0s 5ms/step - loss: 6.7560 - mae: 6.7560\n",
            "Epoch 301/500\n",
            "2/2 [==============================] - 0s 5ms/step - loss: 23.8761 - mae: 23.8761\n",
            "Epoch 302/500\n",
            "2/2 [==============================] - 0s 5ms/step - loss: 7.9915 - mae: 7.9915\n",
            "Epoch 303/500\n",
            "2/2 [==============================] - 0s 306ms/step - loss: 20.4030 - mae: 20.4030\n",
            "Epoch 304/500\n",
            "2/2 [==============================] - 0s 4ms/step - loss: 13.1574 - mae: 13.1574\n",
            "Epoch 305/500\n",
            "2/2 [==============================] - 0s 4ms/step - loss: 6.9126 - mae: 6.9126\n",
            "Epoch 306/500\n",
            "2/2 [==============================] - 0s 4ms/step - loss: 18.5340 - mae: 18.5340\n",
            "Epoch 307/500\n",
            "2/2 [==============================] - 0s 5ms/step - loss: 9.6451 - mae: 9.6451\n",
            "Epoch 308/500\n",
            "2/2 [==============================] - 0s 5ms/step - loss: 20.2383 - mae: 20.2383\n",
            "Epoch 309/500\n",
            "2/2 [==============================] - 0s 5ms/step - loss: 14.2506 - mae: 14.2506\n",
            "Epoch 310/500\n",
            "2/2 [==============================] - 0s 5ms/step - loss: 5.0876 - mae: 5.0876\n",
            "Epoch 311/500\n",
            "2/2 [==============================] - 0s 4ms/step - loss: 13.8201 - mae: 13.8201\n",
            "Epoch 312/500\n",
            "2/2 [==============================] - 0s 5ms/step - loss: 30.3948 - mae: 30.3948\n",
            "Epoch 313/500\n",
            "2/2 [==============================] - 0s 5ms/step - loss: 6.9042 - mae: 6.9042\n",
            "Epoch 314/500\n",
            "2/2 [==============================] - 0s 4ms/step - loss: 11.0914 - mae: 11.0914\n",
            "Epoch 315/500\n",
            "2/2 [==============================] - 0s 5ms/step - loss: 23.3471 - mae: 23.3471\n",
            "Epoch 316/500\n",
            "2/2 [==============================] - 0s 6ms/step - loss: 14.8040 - mae: 14.8040\n",
            "Epoch 317/500\n",
            "2/2 [==============================] - 0s 4ms/step - loss: 20.4903 - mae: 20.4903\n",
            "Epoch 318/500\n",
            "2/2 [==============================] - 0s 4ms/step - loss: 8.6387 - mae: 8.6387\n",
            "Epoch 319/500\n",
            "2/2 [==============================] - 0s 4ms/step - loss: 15.1350 - mae: 15.1350\n",
            "Epoch 320/500\n",
            "2/2 [==============================] - 0s 5ms/step - loss: 8.2728 - mae: 8.2728\n",
            "Epoch 321/500\n",
            "2/2 [==============================] - 0s 5ms/step - loss: 14.5406 - mae: 14.5406\n",
            "Epoch 322/500\n",
            "2/2 [==============================] - 0s 5ms/step - loss: 12.8420 - mae: 12.8420\n",
            "Epoch 323/500\n",
            "2/2 [==============================] - 0s 5ms/step - loss: 19.1403 - mae: 19.1403\n",
            "Epoch 324/500\n",
            "2/2 [==============================] - 0s 5ms/step - loss: 16.9096 - mae: 16.9096\n",
            "Epoch 325/500\n",
            "2/2 [==============================] - 0s 4ms/step - loss: 9.3109 - mae: 9.3109\n",
            "Epoch 326/500\n",
            "2/2 [==============================] - 0s 4ms/step - loss: 19.9790 - mae: 19.9790\n",
            "Epoch 327/500\n",
            "2/2 [==============================] - 0s 5ms/step - loss: 27.9554 - mae: 27.9554\n",
            "Epoch 328/500\n",
            "2/2 [==============================] - 0s 5ms/step - loss: 11.7384 - mae: 11.7384\n",
            "Epoch 329/500\n",
            "2/2 [==============================] - 0s 4ms/step - loss: 16.4214 - mae: 16.4214\n",
            "Epoch 330/500\n",
            "2/2 [==============================] - 0s 5ms/step - loss: 7.2757 - mae: 7.2757\n",
            "Epoch 331/500\n",
            "2/2 [==============================] - 0s 7ms/step - loss: 22.4687 - mae: 22.4687\n",
            "Epoch 332/500\n",
            "2/2 [==============================] - 0s 7ms/step - loss: 13.2669 - mae: 13.2669\n",
            "Epoch 333/500\n",
            "2/2 [==============================] - 0s 7ms/step - loss: 10.0931 - mae: 10.0931\n",
            "Epoch 334/500\n",
            "2/2 [==============================] - 0s 5ms/step - loss: 6.5639 - mae: 6.5639\n",
            "Epoch 335/500\n",
            "2/2 [==============================] - 0s 5ms/step - loss: 6.2410 - mae: 6.2410\n",
            "Epoch 336/500\n",
            "2/2 [==============================] - 0s 5ms/step - loss: 34.4345 - mae: 34.4345\n",
            "Epoch 337/500\n",
            "2/2 [==============================] - 0s 5ms/step - loss: 26.8680 - mae: 26.8680\n",
            "Epoch 338/500\n",
            "2/2 [==============================] - 0s 5ms/step - loss: 13.9396 - mae: 13.9396\n",
            "Epoch 339/500\n",
            "2/2 [==============================] - 0s 5ms/step - loss: 11.4910 - mae: 11.4910\n",
            "Epoch 340/500\n",
            "2/2 [==============================] - 0s 5ms/step - loss: 8.8214 - mae: 8.8214\n",
            "Epoch 341/500\n",
            "2/2 [==============================] - 0s 5ms/step - loss: 23.4782 - mae: 23.4782\n",
            "Epoch 342/500\n",
            "2/2 [==============================] - 0s 5ms/step - loss: 13.8497 - mae: 13.8497\n",
            "Epoch 343/500\n",
            "2/2 [==============================] - 0s 10ms/step - loss: 14.8419 - mae: 14.8419\n",
            "Epoch 344/500\n",
            "2/2 [==============================] - 0s 5ms/step - loss: 13.3787 - mae: 13.3787\n",
            "Epoch 345/500\n",
            "2/2 [==============================] - 0s 4ms/step - loss: 31.0326 - mae: 31.0326\n",
            "Epoch 346/500\n",
            "2/2 [==============================] - 0s 4ms/step - loss: 10.6989 - mae: 10.6989\n",
            "Epoch 347/500\n",
            "2/2 [==============================] - 0s 6ms/step - loss: 25.7343 - mae: 25.7343\n",
            "Epoch 348/500\n",
            "2/2 [==============================] - 0s 5ms/step - loss: 12.8637 - mae: 12.8637\n",
            "Epoch 349/500\n",
            "2/2 [==============================] - 0s 5ms/step - loss: 13.1562 - mae: 13.1562\n",
            "Epoch 350/500\n",
            "2/2 [==============================] - 0s 5ms/step - loss: 15.4313 - mae: 15.4313\n",
            "Epoch 351/500\n",
            "2/2 [==============================] - 0s 5ms/step - loss: 32.9634 - mae: 32.9634\n",
            "Epoch 352/500\n",
            "2/2 [==============================] - 0s 5ms/step - loss: 14.1986 - mae: 14.1986\n",
            "Epoch 353/500\n",
            "2/2 [==============================] - 0s 4ms/step - loss: 15.9160 - mae: 15.9160\n",
            "Epoch 354/500\n",
            "2/2 [==============================] - 0s 5ms/step - loss: 19.0813 - mae: 19.0813\n",
            "Epoch 355/500\n",
            "2/2 [==============================] - 0s 5ms/step - loss: 34.1370 - mae: 34.1370\n",
            "Epoch 356/500\n",
            "2/2 [==============================] - 0s 5ms/step - loss: 8.2431 - mae: 8.2431\n",
            "Epoch 357/500\n",
            "2/2 [==============================] - 0s 5ms/step - loss: 21.7224 - mae: 21.7224\n",
            "Epoch 358/500\n",
            "2/2 [==============================] - 0s 5ms/step - loss: 19.8383 - mae: 19.8383\n",
            "Epoch 359/500\n",
            "2/2 [==============================] - 0s 5ms/step - loss: 11.0707 - mae: 11.0707\n",
            "Epoch 360/500\n",
            "2/2 [==============================] - 0s 4ms/step - loss: 20.3356 - mae: 20.3356\n",
            "Epoch 361/500\n",
            "2/2 [==============================] - 0s 5ms/step - loss: 10.8995 - mae: 10.8995\n",
            "Epoch 362/500\n",
            "2/2 [==============================] - 0s 4ms/step - loss: 6.7801 - mae: 6.7801\n",
            "Epoch 363/500\n",
            "2/2 [==============================] - 0s 5ms/step - loss: 23.8593 - mae: 23.8593\n",
            "Epoch 364/500\n",
            "2/2 [==============================] - 0s 5ms/step - loss: 29.5703 - mae: 29.5703\n",
            "Epoch 365/500\n",
            "2/2 [==============================] - 0s 5ms/step - loss: 8.2665 - mae: 8.2665\n",
            "Epoch 366/500\n",
            "2/2 [==============================] - 0s 5ms/step - loss: 6.0686 - mae: 6.0686\n",
            "Epoch 367/500\n",
            "2/2 [==============================] - 0s 5ms/step - loss: 34.7233 - mae: 34.7233\n",
            "Epoch 368/500\n",
            "2/2 [==============================] - 0s 5ms/step - loss: 7.3412 - mae: 7.3412\n",
            "Epoch 369/500\n",
            "2/2 [==============================] - 0s 4ms/step - loss: 9.1538 - mae: 9.1538\n",
            "Epoch 370/500\n",
            "2/2 [==============================] - 0s 5ms/step - loss: 10.8544 - mae: 10.8544\n",
            "Epoch 371/500\n",
            "2/2 [==============================] - 0s 5ms/step - loss: 8.9199 - mae: 8.9199\n",
            "Epoch 372/500\n",
            "2/2 [==============================] - 0s 5ms/step - loss: 7.6868 - mae: 7.6868\n",
            "Epoch 373/500\n",
            "2/2 [==============================] - 0s 5ms/step - loss: 25.0877 - mae: 25.0877\n",
            "Epoch 374/500\n",
            "2/2 [==============================] - 0s 5ms/step - loss: 13.1512 - mae: 13.1512\n",
            "Epoch 375/500\n",
            "2/2 [==============================] - 0s 5ms/step - loss: 11.8736 - mae: 11.8736\n",
            "Epoch 376/500\n",
            "2/2 [==============================] - 0s 5ms/step - loss: 14.1561 - mae: 14.1561\n",
            "Epoch 377/500\n",
            "2/2 [==============================] - 0s 5ms/step - loss: 15.7279 - mae: 15.7279\n",
            "Epoch 378/500\n",
            "2/2 [==============================] - 0s 5ms/step - loss: 17.0633 - mae: 17.0633\n",
            "Epoch 379/500\n",
            "2/2 [==============================] - 0s 5ms/step - loss: 19.3443 - mae: 19.3443\n",
            "Epoch 380/500\n",
            "2/2 [==============================] - 0s 5ms/step - loss: 15.6960 - mae: 15.6960\n",
            "Epoch 381/500\n",
            "2/2 [==============================] - 0s 5ms/step - loss: 11.4719 - mae: 11.4719\n",
            "Epoch 382/500\n",
            "2/2 [==============================] - 0s 5ms/step - loss: 16.3436 - mae: 16.3436\n",
            "Epoch 383/500\n",
            "2/2 [==============================] - 0s 6ms/step - loss: 22.1107 - mae: 22.1107\n",
            "Epoch 384/500\n",
            "2/2 [==============================] - 0s 6ms/step - loss: 7.7105 - mae: 7.7105\n",
            "Epoch 385/500\n",
            "2/2 [==============================] - 0s 5ms/step - loss: 10.6118 - mae: 10.6118\n",
            "Epoch 386/500\n",
            "2/2 [==============================] - 0s 305ms/step - loss: 19.1051 - mae: 19.1051\n",
            "Epoch 387/500\n",
            "2/2 [==============================] - 0s 8ms/step - loss: 26.4671 - mae: 26.4671\n",
            "Epoch 388/500\n",
            "2/2 [==============================] - 0s 5ms/step - loss: 10.0792 - mae: 10.0792\n",
            "Epoch 389/500\n",
            "2/2 [==============================] - 0s 5ms/step - loss: 5.1517 - mae: 5.1517\n",
            "Epoch 390/500\n",
            "2/2 [==============================] - 0s 7ms/step - loss: 18.8077 - mae: 18.8077\n",
            "Epoch 391/500\n",
            "2/2 [==============================] - 0s 4ms/step - loss: 9.3263 - mae: 9.3263\n",
            "Epoch 392/500\n",
            "2/2 [==============================] - 0s 4ms/step - loss: 14.4041 - mae: 14.4041\n",
            "Epoch 393/500\n",
            "2/2 [==============================] - 0s 4ms/step - loss: 15.4075 - mae: 15.4075\n",
            "Epoch 394/500\n",
            "2/2 [==============================] - 0s 4ms/step - loss: 14.7419 - mae: 14.7419\n",
            "Epoch 395/500\n",
            "2/2 [==============================] - 0s 5ms/step - loss: 24.9778 - mae: 24.9778\n",
            "Epoch 396/500\n",
            "2/2 [==============================] - 0s 4ms/step - loss: 19.1388 - mae: 19.1388\n",
            "Epoch 397/500\n",
            "2/2 [==============================] - 0s 5ms/step - loss: 11.5711 - mae: 11.5711\n",
            "Epoch 398/500\n",
            "2/2 [==============================] - 0s 5ms/step - loss: 19.2242 - mae: 19.2242\n",
            "Epoch 399/500\n",
            "2/2 [==============================] - 0s 4ms/step - loss: 25.9351 - mae: 25.9351\n",
            "Epoch 400/500\n",
            "2/2 [==============================] - 0s 5ms/step - loss: 15.5935 - mae: 15.5935\n",
            "Epoch 401/500\n",
            "2/2 [==============================] - 0s 4ms/step - loss: 14.6526 - mae: 14.6526\n",
            "Epoch 402/500\n",
            "2/2 [==============================] - 0s 5ms/step - loss: 24.2780 - mae: 24.2780\n",
            "Epoch 403/500\n",
            "2/2 [==============================] - 0s 4ms/step - loss: 16.2797 - mae: 16.2797\n",
            "Epoch 404/500\n",
            "2/2 [==============================] - 0s 5ms/step - loss: 10.4338 - mae: 10.4338\n",
            "Epoch 405/500\n",
            "2/2 [==============================] - 0s 5ms/step - loss: 6.3794 - mae: 6.3794\n",
            "Epoch 406/500\n",
            "2/2 [==============================] - 0s 4ms/step - loss: 17.7626 - mae: 17.7626\n",
            "Epoch 407/500\n",
            "2/2 [==============================] - 0s 5ms/step - loss: 11.0234 - mae: 11.0234\n",
            "Epoch 408/500\n",
            "2/2 [==============================] - 0s 5ms/step - loss: 21.0807 - mae: 21.0807\n",
            "Epoch 409/500\n",
            "2/2 [==============================] - 0s 5ms/step - loss: 30.2959 - mae: 30.2959\n",
            "Epoch 410/500\n",
            "2/2 [==============================] - 0s 5ms/step - loss: 9.8325 - mae: 9.8325\n",
            "Epoch 411/500\n",
            "2/2 [==============================] - 0s 6ms/step - loss: 14.7097 - mae: 14.7097\n",
            "Epoch 412/500\n",
            "2/2 [==============================] - 0s 7ms/step - loss: 21.4597 - mae: 21.4597\n",
            "Epoch 413/500\n",
            "2/2 [==============================] - 0s 5ms/step - loss: 13.3104 - mae: 13.3104\n",
            "Epoch 414/500\n",
            "2/2 [==============================] - 0s 5ms/step - loss: 7.7989 - mae: 7.7989\n",
            "Epoch 415/500\n",
            "2/2 [==============================] - 0s 4ms/step - loss: 12.2027 - mae: 12.2027\n",
            "Epoch 416/500\n",
            "2/2 [==============================] - 0s 5ms/step - loss: 25.8896 - mae: 25.8896\n",
            "Epoch 417/500\n",
            "2/2 [==============================] - 0s 4ms/step - loss: 15.0039 - mae: 15.0039\n",
            "Epoch 418/500\n",
            "2/2 [==============================] - 0s 6ms/step - loss: 12.7948 - mae: 12.7948\n",
            "Epoch 419/500\n",
            "2/2 [==============================] - 0s 5ms/step - loss: 15.8623 - mae: 15.8623\n",
            "Epoch 420/500\n",
            "2/2 [==============================] - 0s 4ms/step - loss: 24.7144 - mae: 24.7144\n",
            "Epoch 421/500\n",
            "2/2 [==============================] - 0s 4ms/step - loss: 17.5656 - mae: 17.5656\n",
            "Epoch 422/500\n",
            "2/2 [==============================] - 0s 4ms/step - loss: 8.7163 - mae: 8.7163\n",
            "Epoch 423/500\n",
            "2/2 [==============================] - 0s 5ms/step - loss: 24.9130 - mae: 24.9130\n",
            "Epoch 424/500\n",
            "2/2 [==============================] - 0s 5ms/step - loss: 16.1225 - mae: 16.1225\n",
            "Epoch 425/500\n",
            "2/2 [==============================] - 0s 5ms/step - loss: 7.4654 - mae: 7.4654\n",
            "Epoch 426/500\n",
            "2/2 [==============================] - 0s 4ms/step - loss: 21.5441 - mae: 21.5441\n",
            "Epoch 427/500\n",
            "2/2 [==============================] - 0s 5ms/step - loss: 6.6520 - mae: 6.6520\n",
            "Epoch 428/500\n",
            "2/2 [==============================] - 0s 5ms/step - loss: 13.8155 - mae: 13.8155\n",
            "Epoch 429/500\n",
            "2/2 [==============================] - 0s 5ms/step - loss: 11.7674 - mae: 11.7674\n",
            "Epoch 430/500\n",
            "2/2 [==============================] - 0s 5ms/step - loss: 10.5095 - mae: 10.5095\n",
            "Epoch 431/500\n",
            "2/2 [==============================] - 0s 4ms/step - loss: 12.0563 - mae: 12.0563\n",
            "Epoch 432/500\n",
            "2/2 [==============================] - 0s 5ms/step - loss: 7.6051 - mae: 7.6051\n",
            "Epoch 433/500\n",
            "2/2 [==============================] - 0s 4ms/step - loss: 14.8279 - mae: 14.8279\n",
            "Epoch 434/500\n",
            "2/2 [==============================] - 0s 5ms/step - loss: 17.9457 - mae: 17.9457\n",
            "Epoch 435/500\n",
            "2/2 [==============================] - 0s 5ms/step - loss: 9.7130 - mae: 9.7130\n",
            "Epoch 436/500\n",
            "2/2 [==============================] - 0s 4ms/step - loss: 29.1169 - mae: 29.1169\n",
            "Epoch 437/500\n",
            "2/2 [==============================] - 0s 4ms/step - loss: 9.2796 - mae: 9.2796\n",
            "Epoch 438/500\n",
            "2/2 [==============================] - 0s 4ms/step - loss: 12.6930 - mae: 12.6930\n",
            "Epoch 439/500\n",
            "2/2 [==============================] - 0s 5ms/step - loss: 33.5526 - mae: 33.5526\n",
            "Epoch 440/500\n",
            "2/2 [==============================] - 0s 7ms/step - loss: 14.9204 - mae: 14.9204\n",
            "Epoch 441/500\n",
            "2/2 [==============================] - 0s 5ms/step - loss: 17.3505 - mae: 17.3505\n",
            "Epoch 442/500\n",
            "2/2 [==============================] - 0s 5ms/step - loss: 22.0311 - mae: 22.0311\n",
            "Epoch 443/500\n",
            "2/2 [==============================] - 0s 5ms/step - loss: 24.2373 - mae: 24.2373\n",
            "Epoch 444/500\n",
            "2/2 [==============================] - 0s 5ms/step - loss: 11.5245 - mae: 11.5245\n",
            "Epoch 445/500\n",
            "2/2 [==============================] - 0s 5ms/step - loss: 14.7614 - mae: 14.7614\n",
            "Epoch 446/500\n",
            "2/2 [==============================] - 0s 4ms/step - loss: 17.7724 - mae: 17.7724\n",
            "Epoch 447/500\n",
            "2/2 [==============================] - 0s 4ms/step - loss: 5.6770 - mae: 5.6770\n",
            "Epoch 448/500\n",
            "2/2 [==============================] - 0s 4ms/step - loss: 9.5166 - mae: 9.5166\n",
            "Epoch 449/500\n",
            "2/2 [==============================] - 0s 4ms/step - loss: 14.1783 - mae: 14.1783\n",
            "Epoch 450/500\n",
            "2/2 [==============================] - 0s 5ms/step - loss: 16.9440 - mae: 16.9440\n",
            "Epoch 451/500\n",
            "2/2 [==============================] - 0s 5ms/step - loss: 14.3605 - mae: 14.3605\n",
            "Epoch 452/500\n",
            "2/2 [==============================] - 0s 5ms/step - loss: 30.7707 - mae: 30.7707\n",
            "Epoch 453/500\n",
            "2/2 [==============================] - 0s 4ms/step - loss: 8.4148 - mae: 8.4148\n",
            "Epoch 454/500\n",
            "2/2 [==============================] - 0s 5ms/step - loss: 27.6925 - mae: 27.6925\n",
            "Epoch 455/500\n",
            "2/2 [==============================] - 0s 5ms/step - loss: 9.8312 - mae: 9.8312\n",
            "Epoch 456/500\n",
            "2/2 [==============================] - 0s 5ms/step - loss: 14.6270 - mae: 14.6270\n",
            "Epoch 457/500\n",
            "2/2 [==============================] - 0s 5ms/step - loss: 17.7890 - mae: 17.7890\n",
            "Epoch 458/500\n",
            "2/2 [==============================] - 0s 4ms/step - loss: 14.0619 - mae: 14.0619\n",
            "Epoch 459/500\n",
            "2/2 [==============================] - 0s 4ms/step - loss: 26.0022 - mae: 26.0022\n",
            "Epoch 460/500\n",
            "2/2 [==============================] - 0s 5ms/step - loss: 14.7843 - mae: 14.7843\n",
            "Epoch 461/500\n",
            "2/2 [==============================] - 0s 6ms/step - loss: 12.0183 - mae: 12.0183\n",
            "Epoch 462/500\n",
            "2/2 [==============================] - 0s 5ms/step - loss: 13.3071 - mae: 13.3071\n",
            "Epoch 463/500\n",
            "2/2 [==============================] - 0s 4ms/step - loss: 29.5312 - mae: 29.5312\n",
            "Epoch 464/500\n",
            "2/2 [==============================] - 0s 4ms/step - loss: 3.4591 - mae: 3.4591\n",
            "Epoch 465/500\n",
            "2/2 [==============================] - 0s 4ms/step - loss: 15.1962 - mae: 15.1962\n",
            "Epoch 466/500\n",
            "2/2 [==============================] - 0s 5ms/step - loss: 20.7925 - mae: 20.7925\n",
            "Epoch 467/500\n",
            "2/2 [==============================] - 0s 13ms/step - loss: 30.6246 - mae: 30.6246\n",
            "Epoch 468/500\n",
            "2/2 [==============================] - 0s 7ms/step - loss: 11.1070 - mae: 11.1070\n",
            "Epoch 469/500\n",
            "2/2 [==============================] - 0s 332ms/step - loss: 12.9014 - mae: 12.9014\n",
            "Epoch 470/500\n",
            "2/2 [==============================] - 0s 11ms/step - loss: 3.5627 - mae: 3.5627\n",
            "Epoch 471/500\n",
            "2/2 [==============================] - 0s 9ms/step - loss: 42.0638 - mae: 42.0638\n",
            "Epoch 472/500\n",
            "2/2 [==============================] - 0s 7ms/step - loss: 4.6053 - mae: 4.6053\n",
            "Epoch 473/500\n",
            "2/2 [==============================] - 0s 10ms/step - loss: 18.4567 - mae: 18.4567\n",
            "Epoch 474/500\n",
            "2/2 [==============================] - 0s 11ms/step - loss: 41.5628 - mae: 41.5628\n",
            "Epoch 475/500\n",
            "2/2 [==============================] - 0s 9ms/step - loss: 17.5718 - mae: 17.5718\n",
            "Epoch 476/500\n",
            "2/2 [==============================] - 0s 8ms/step - loss: 13.2544 - mae: 13.2544\n",
            "Epoch 477/500\n",
            "2/2 [==============================] - 0s 7ms/step - loss: 29.3734 - mae: 29.3734\n",
            "Epoch 478/500\n",
            "2/2 [==============================] - 0s 9ms/step - loss: 5.6482 - mae: 5.6482\n",
            "Epoch 479/500\n",
            "2/2 [==============================] - 0s 9ms/step - loss: 7.8072 - mae: 7.8072\n",
            "Epoch 480/500\n",
            "2/2 [==============================] - 0s 6ms/step - loss: 18.4698 - mae: 18.4698\n",
            "Epoch 481/500\n",
            "2/2 [==============================] - 0s 8ms/step - loss: 16.3174 - mae: 16.3174\n",
            "Epoch 482/500\n",
            "2/2 [==============================] - 0s 9ms/step - loss: 15.1087 - mae: 15.1087\n",
            "Epoch 483/500\n",
            "2/2 [==============================] - 0s 5ms/step - loss: 20.6300 - mae: 20.6300\n",
            "Epoch 484/500\n",
            "2/2 [==============================] - 0s 8ms/step - loss: 34.8879 - mae: 34.8879\n",
            "Epoch 485/500\n",
            "2/2 [==============================] - 0s 8ms/step - loss: 13.6770 - mae: 13.6770\n",
            "Epoch 486/500\n",
            "2/2 [==============================] - 0s 9ms/step - loss: 7.3646 - mae: 7.3646\n",
            "Epoch 487/500\n",
            "2/2 [==============================] - 0s 13ms/step - loss: 6.4212 - mae: 6.4212\n",
            "Epoch 488/500\n",
            "2/2 [==============================] - 0s 9ms/step - loss: 31.2173 - mae: 31.2173\n",
            "Epoch 489/500\n",
            "2/2 [==============================] - 0s 13ms/step - loss: 12.2965 - mae: 12.2965\n",
            "Epoch 490/500\n",
            "2/2 [==============================] - 0s 7ms/step - loss: 12.9182 - mae: 12.9182\n",
            "Epoch 491/500\n",
            "2/2 [==============================] - 0s 5ms/step - loss: 23.9857 - mae: 23.9857\n",
            "Epoch 492/500\n",
            "2/2 [==============================] - 0s 8ms/step - loss: 19.6227 - mae: 19.6227\n",
            "Epoch 493/500\n",
            "2/2 [==============================] - 0s 10ms/step - loss: 4.7966 - mae: 4.7966\n",
            "Epoch 494/500\n",
            "2/2 [==============================] - 0s 7ms/step - loss: 12.0276 - mae: 12.0276\n",
            "Epoch 495/500\n",
            "2/2 [==============================] - 0s 5ms/step - loss: 13.6991 - mae: 13.6991\n",
            "Epoch 496/500\n",
            "2/2 [==============================] - 0s 7ms/step - loss: 12.8986 - mae: 12.8986\n",
            "Epoch 497/500\n",
            "2/2 [==============================] - 0s 7ms/step - loss: 18.0246 - mae: 18.0246\n",
            "Epoch 498/500\n",
            "2/2 [==============================] - 0s 6ms/step - loss: 22.6500 - mae: 22.6500\n",
            "Epoch 499/500\n",
            "2/2 [==============================] - 0s 7ms/step - loss: 8.5478 - mae: 8.5478\n",
            "Epoch 500/500\n",
            "2/2 [==============================] - 0s 6ms/step - loss: 14.4578 - mae: 14.4578\n"
          ]
        },
        {
          "output_type": "execute_result",
          "data": {
            "text/plain": [
              "<keras.callbacks.History at 0x7f8b1cf9f350>"
            ]
          },
          "metadata": {},
          "execution_count": 57
        }
      ]
    },
    {
      "cell_type": "code",
      "source": [
        "y_pred_3 = model.predict(X_test)\n",
        "plot_predictions(predictions = y_pred_3)\n"
      ],
      "metadata": {
        "colab": {
          "base_uri": "https://localhost:8080/",
          "height": 428
        },
        "id": "jworZNgDe7zP",
        "outputId": "0be8cb05-487c-4c6a-f382-718163133c35"
      },
      "execution_count": null,
      "outputs": [
        {
          "output_type": "display_data",
          "data": {
            "text/plain": [
              "<Figure size 648x504 with 1 Axes>"
            ],
            "image/png": "[encoded data removed]"
          },
          "metadata": {
            "needs_background": "light"
          }
        }
      ]
    },
    {
      "cell_type": "code",
      "source": [
        "mse_3 = mse(y_test, y_pred_3)\n",
        "mse_3"
      ],
      "metadata": {
        "colab": {
          "base_uri": "https://localhost:8080/"
        },
        "id": "TUsNwzVLfKBJ",
        "outputId": "9f58b146-2349-4f5a-faaa-06fbe0c1e960"
      },
      "execution_count": null,
      "outputs": [
        {
          "output_type": "execute_result",
          "data": {
            "text/plain": [
              "<tf.Tensor: shape=(), dtype=float32, numpy=13.070143>"
            ]
          },
          "metadata": {},
          "execution_count": 59
        }
      ]
    },
    {
      "cell_type": "code",
      "source": [
        "import pandas as pd\n",
        "\n",
        "model_results = [[\"model_1\", mae_1.numpy(), mse_1.numpy()],\n",
        "                 [\"model_2\", mae_1.numpy(), mse_2.numpy()],\n",
        "                 [\"model_3\", None, mse_3.numpy()]]\n",
        "\n",
        "all_results = pd.DataFrame(model_results, columns = [\"model\", \"mae\", \"mse\"])\n",
        "all_results"
      ],
      "metadata": {
        "colab": {
          "base_uri": "https://localhost:8080/",
          "height": 143
        },
        "id": "n174HvpTfVkW",
        "outputId": "af97985b-66e8-45b4-aa04-ca7b126bdcb7"
      },
      "execution_count": null,
      "outputs": [
        {
          "output_type": "execute_result",
          "data": {
            "text/plain": [
              "     model        mae         mse\n",
              "0  model_1  18.745327  353.573364\n",
              "1  model_2  18.745327   13.070143\n",
              "2  model_3        NaN   13.070143"
            ],
            "text/html": [
              "\n",
              "  <div id=\"df-54acfdb2-1a48-4f71-98f1-1c897f105609\">\n",
              "    <div class=\"colab-df-container\">\n",
              "      <div>\n",
              "<style scoped>\n",
              "    .dataframe tbody tr th:only-of-type {\n",
              "        vertical-align: middle;\n",
              "    }\n",
              "\n",
              "    .dataframe tbody tr th {\n",
              "        vertical-align: top;\n",
              "    }\n",
              "\n",
              "    .dataframe thead th {\n",
              "        text-align: right;\n",
              "    }\n",
              "</style>\n",
              "<table border=\"1\" class=\"dataframe\">\n",
              "  <thead>\n",
              "    <tr style=\"text-align: right;\">\n",
              "      <th></th>\n",
              "      <th>model</th>\n",
              "      <th>mae</th>\n",
              "      <th>mse</th>\n",
              "    </tr>\n",
              "  </thead>\n",
              "  <tbody>\n",
              "    <tr>\n",
              "      <th>0</th>\n",
              "      <td>model_1</td>\n",
              "      <td>18.745327</td>\n",
              "      <td>353.573364</td>\n",
              "    </tr>\n",
              "    <tr>\n",
              "      <th>1</th>\n",
              "      <td>model_2</td>\n",
              "      <td>18.745327</td>\n",
              "      <td>13.070143</td>\n",
              "    </tr>\n",
              "    <tr>\n",
              "      <th>2</th>\n",
              "      <td>model_3</td>\n",
              "      <td>NaN</td>\n",
              "      <td>13.070143</td>\n",
              "    </tr>\n",
              "  </tbody>\n",
              "</table>\n",
              "</div>\n",
              "      <button class=\"colab-df-convert\" onclick=\"convertToInteractive('df-54acfdb2-1a48-4f71-98f1-1c897f105609')\"\n",
              "              title=\"Convert this dataframe to an interactive table.\"\n",
              "              style=\"display:none;\">\n",
              "        \n",
              "  <svg xmlns=\"http://www.w3.org/2000/svg\" height=\"24px\"viewBox=\"0 0 24 24\"\n",
              "       width=\"24px\">\n",
              "    <path d=\"M0 0h24v24H0V0z\" fill=\"none\"/>\n",
              "    <path d=\"M18.56 5.44l.94 2.06.94-2.06 2.06-.94-2.06-.94-.94-2.06-.94 2.06-2.06.94zm-11 1L8.5 8.5l.94-2.06 2.06-.94-2.06-.94L8.5 2.5l-.94 2.06-2.06.94zm10 10l.94 2.06.94-2.06 2.06-.94-2.06-.94-.94-2.06-.94 2.06-2.06.94z\"/><path d=\"M17.41 7.96l-1.37-1.37c-.4-.4-.92-.59-1.43-.59-.52 0-1.04.2-1.43.59L10.3 9.45l-7.72 7.72c-.78.78-.78 2.05 0 2.83L4 21.41c.39.39.9.59 1.41.59.51 0 1.02-.2 1.41-.59l7.78-7.78 2.81-2.81c.8-.78.8-2.07 0-2.86zM5.41 20L4 18.59l7.72-7.72 1.47 1.35L5.41 20z\"/>\n",
              "  </svg>\n",
              "      </button>\n",
              "      \n",
              "  <style>\n",
              "    .colab-df-container {\n",
              "      display:flex;\n",
              "      flex-wrap:wrap;\n",
              "      gap: 12px;\n",
              "    }\n",
              "\n",
              "    .colab-df-convert {\n",
              "      background-color: #E8F0FE;\n",
              "      border: none;\n",
              "      border-radius: 50%;\n",
              "      cursor: pointer;\n",
              "      display: none;\n",
              "      fill: #1967D2;\n",
              "      height: 32px;\n",
              "      padding: 0 0 0 0;\n",
              "      width: 32px;\n",
              "    }\n",
              "\n",
              "    .colab-df-convert:hover {\n",
              "      background-color: #E2EBFA;\n",
              "      box-shadow: 0px 1px 2px rgba(60, 64, 67, 0.3), 0px 1px 3px 1px rgba(60, 64, 67, 0.15);\n",
              "      fill: #174EA6;\n",
              "    }\n",
              "\n",
              "    [theme=dark] .colab-df-convert {\n",
              "      background-color: #3B4455;\n",
              "      fill: #D2E3FC;\n",
              "    }\n",
              "\n",
              "    [theme=dark] .colab-df-convert:hover {\n",
              "      background-color: #434B5C;\n",
              "      box-shadow: 0px 1px 3px 1px rgba(0, 0, 0, 0.15);\n",
              "      filter: drop-shadow(0px 1px 2px rgba(0, 0, 0, 0.3));\n",
              "      fill: #FFFFFF;\n",
              "    }\n",
              "  </style>\n",
              "\n",
              "      <script>\n",
              "        const buttonEl =\n",
              "          document.querySelector('#df-54acfdb2-1a48-4f71-98f1-1c897f105609 button.colab-df-convert');\n",
              "        buttonEl.style.display =\n",
              "          google.colab.kernel.accessAllowed ? 'block' : 'none';\n",
              "\n",
              "        async function convertToInteractive(key) {\n",
              "          const element = document.querySelector('#df-54acfdb2-1a48-4f71-98f1-1c897f105609');\n",
              "          const dataTable =\n",
              "            await google.colab.kernel.invokeFunction('convertToInteractive',\n",
              "                                                     [key], {});\n",
              "          if (!dataTable) return;\n",
              "\n",
              "          const docLinkHtml = 'Like what you see? Visit the ' +\n",
              "            '<a target=\"_blank\" href=https://colab.research.google.com/notebooks/data_table.ipynb>data table notebook</a>'\n",
              "            + ' to learn more about interactive tables.';\n",
              "          element.innerHTML = '';\n",
              "          dataTable['output_type'] = 'display_data';\n",
              "          await google.colab.output.renderOutput(dataTable, element);\n",
              "          const docLink = document.createElement('div');\n",
              "          docLink.innerHTML = docLinkHtml;\n",
              "          element.appendChild(docLink);\n",
              "        }\n",
              "      </script>\n",
              "    </div>\n",
              "  </div>\n",
              "  "
            ]
          },
          "metadata": {},
          "execution_count": 60
        }
      ]
    },
    {
      "cell_type": "code",
      "source": [
        "model_2.summary()"
      ],
      "metadata": {
        "colab": {
          "base_uri": "https://localhost:8080/"
        },
        "id": "T2HEb78BioTs",
        "outputId": "349c021e-f7c1-4323-9297-f58bc4bb899b"
      },
      "execution_count": null,
      "outputs": [
        {
          "output_type": "stream",
          "name": "stdout",
          "text": [
            "Model: \"sequential_5\"\n",
            "_________________________________________________________________\n",
            " Layer (type)                Output Shape              Param #   \n",
            "=================================================================\n",
            " dense_6 (Dense)             (None, 10)                20        \n",
            "                                                                 \n",
            " dense_7 (Dense)             (None, 1)                 11        \n",
            "                                                                 \n",
            "=================================================================\n",
            "Total params: 31\n",
            "Trainable params: 31\n",
            "Non-trainable params: 0\n",
            "_________________________________________________________________\n"
          ]
        }
      ]
    },
    {
      "cell_type": "code",
      "source": [
        "# Saved model format\n",
        "model_2.save(\"best_model_SavedModel_format\")"
      ],
      "metadata": {
        "id": "xcc05Plbjm7M"
      },
      "execution_count": null,
      "outputs": []
    },
    {
      "cell_type": "code",
      "source": [
        "model_2.save(\"best_model_HDF5_format.h5\")"
      ],
      "metadata": {
        "id": "yGAOEcIeG-hQ"
      },
      "execution_count": null,
      "outputs": []
    },
    {
      "cell_type": "code",
      "source": [
        "model_2_preds = model_2.predict(X_test)"
      ],
      "metadata": {
        "id": "UVVFQ6pWJiOo"
      },
      "execution_count": null,
      "outputs": []
    },
    {
      "cell_type": "code",
      "source": [],
      "metadata": {
        "id": "9VccXXqYKhtf"
      },
      "execution_count": null,
      "outputs": []
    }
  ]
}